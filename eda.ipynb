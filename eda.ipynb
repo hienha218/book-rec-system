{
 "cells": [
  {
   "cell_type": "code",
   "execution_count": 1,
   "id": "a7b0999a-24f2-4a4c-ae8a-4a13e0e73b9c",
   "metadata": {
    "executionInfo": {
     "elapsed": 172,
     "status": "ok",
     "timestamp": 1677472664510,
     "user": {
      "displayName": "Trang Thuy",
      "userId": "00606403752895192854"
     },
     "user_tz": 300
    },
    "id": "a7b0999a-24f2-4a4c-ae8a-4a13e0e73b9c"
   },
   "outputs": [],
   "source": [
    "import pandas as pd\n",
    "import numpy as np"
   ]
  },
  {
   "cell_type": "code",
   "execution_count": 2,
   "id": "69eee33e",
   "metadata": {},
   "outputs": [
    {
     "name": "stdout",
     "output_type": "stream",
     "text": [
      "Requirement already satisfied: fasttext in c:\\users\\kagom\\anaconda3\\lib\\site-packages (0.9.2)\n",
      "Requirement already satisfied: setuptools>=0.7.0 in c:\\users\\kagom\\anaconda3\\lib\\site-packages (from fasttext) (61.2.0)\n",
      "Requirement already satisfied: numpy in c:\\users\\kagom\\anaconda3\\lib\\site-packages (from fasttext) (1.21.5)\n",
      "Requirement already satisfied: pybind11>=2.2 in c:\\users\\kagom\\anaconda3\\lib\\site-packages (from fasttext) (2.10.3)\n"
     ]
    }
   ],
   "source": [
    "!pip install fasttext\n",
    "import fasttext"
   ]
  },
  {
   "cell_type": "code",
   "execution_count": 3,
   "id": "079dd233-6e37-4ca5-b1a7-73cf714759f4",
   "metadata": {
    "colab": {
     "base_uri": "https://localhost:8080/",
     "height": 635
    },
    "executionInfo": {
     "elapsed": 2451,
     "status": "ok",
     "timestamp": 1677472667128,
     "user": {
      "displayName": "Trang Thuy",
      "userId": "00606403752895192854"
     },
     "user_tz": 300
    },
    "id": "079dd233-6e37-4ca5-b1a7-73cf714759f4",
    "outputId": "84e82951-f619-46ac-ac35-e18c8b1a2d62"
   },
   "outputs": [
    {
     "data": {
      "text/html": [
       "<div>\n",
       "<style scoped>\n",
       "    .dataframe tbody tr th:only-of-type {\n",
       "        vertical-align: middle;\n",
       "    }\n",
       "\n",
       "    .dataframe tbody tr th {\n",
       "        vertical-align: top;\n",
       "    }\n",
       "\n",
       "    .dataframe thead th {\n",
       "        text-align: right;\n",
       "    }\n",
       "</style>\n",
       "<table border=\"1\" class=\"dataframe\">\n",
       "  <thead>\n",
       "    <tr style=\"text-align: right;\">\n",
       "      <th></th>\n",
       "      <th>book_authors</th>\n",
       "      <th>book_desc</th>\n",
       "      <th>book_edition</th>\n",
       "      <th>book_format</th>\n",
       "      <th>book_isbn</th>\n",
       "      <th>book_pages</th>\n",
       "      <th>book_rating</th>\n",
       "      <th>book_rating_count</th>\n",
       "      <th>book_review_count</th>\n",
       "      <th>book_title</th>\n",
       "      <th>genres</th>\n",
       "      <th>image_url</th>\n",
       "    </tr>\n",
       "  </thead>\n",
       "  <tbody>\n",
       "    <tr>\n",
       "      <th>0</th>\n",
       "      <td>Suzanne Collins</td>\n",
       "      <td>Winning will make you famous. Losing means cer...</td>\n",
       "      <td>NaN</td>\n",
       "      <td>Hardcover</td>\n",
       "      <td>9.78044E+12</td>\n",
       "      <td>374 pages</td>\n",
       "      <td>4.33</td>\n",
       "      <td>5519135</td>\n",
       "      <td>160706</td>\n",
       "      <td>The Hunger Games</td>\n",
       "      <td>Young Adult|Fiction|Science Fiction|Dystopia|F...</td>\n",
       "      <td>https://images.gr-assets.com/books/1447303603l...</td>\n",
       "    </tr>\n",
       "    <tr>\n",
       "      <th>1</th>\n",
       "      <td>J.K. Rowling|Mary GrandPré</td>\n",
       "      <td>There is a door at the end of a silent corrido...</td>\n",
       "      <td>US Edition</td>\n",
       "      <td>Paperback</td>\n",
       "      <td>9.78044E+12</td>\n",
       "      <td>870 pages</td>\n",
       "      <td>4.48</td>\n",
       "      <td>2041594</td>\n",
       "      <td>33264</td>\n",
       "      <td>Harry Potter and the Order of the Phoenix</td>\n",
       "      <td>Fantasy|Young Adult|Fiction</td>\n",
       "      <td>https://images.gr-assets.com/books/1255614970l...</td>\n",
       "    </tr>\n",
       "    <tr>\n",
       "      <th>2</th>\n",
       "      <td>Harper Lee</td>\n",
       "      <td>The unforgettable novel of a childhood in a sl...</td>\n",
       "      <td>50th Anniversary</td>\n",
       "      <td>Paperback</td>\n",
       "      <td>9.78006E+12</td>\n",
       "      <td>324 pages</td>\n",
       "      <td>4.27</td>\n",
       "      <td>3745197</td>\n",
       "      <td>79450</td>\n",
       "      <td>To Kill a Mockingbird</td>\n",
       "      <td>Classics|Fiction|Historical|Historical Fiction...</td>\n",
       "      <td>https://images.gr-assets.com/books/1361975680l...</td>\n",
       "    </tr>\n",
       "    <tr>\n",
       "      <th>3</th>\n",
       "      <td>Jane Austen|Anna Quindlen|Mrs. Oliphant|George...</td>\n",
       "      <td>«È cosa ormai risaputa che a uno scapolo in po...</td>\n",
       "      <td>Modern Library Classics, USA / CAN</td>\n",
       "      <td>Paperback</td>\n",
       "      <td>9.78068E+12</td>\n",
       "      <td>279 pages</td>\n",
       "      <td>4.25</td>\n",
       "      <td>2453620</td>\n",
       "      <td>54322</td>\n",
       "      <td>Pride and Prejudice</td>\n",
       "      <td>Classics|Fiction|Romance</td>\n",
       "      <td>https://images.gr-assets.com/books/1320399351l...</td>\n",
       "    </tr>\n",
       "    <tr>\n",
       "      <th>4</th>\n",
       "      <td>Stephenie Meyer</td>\n",
       "      <td>About three things I was absolutely positive.F...</td>\n",
       "      <td>NaN</td>\n",
       "      <td>Paperback</td>\n",
       "      <td>9.78032E+12</td>\n",
       "      <td>498 pages</td>\n",
       "      <td>3.58</td>\n",
       "      <td>4281268</td>\n",
       "      <td>97991</td>\n",
       "      <td>Twilight</td>\n",
       "      <td>Young Adult|Fantasy|Romance|Paranormal|Vampire...</td>\n",
       "      <td>https://images.gr-assets.com/books/1361039443l...</td>\n",
       "    </tr>\n",
       "  </tbody>\n",
       "</table>\n",
       "</div>"
      ],
      "text/plain": [
       "                                        book_authors  \\\n",
       "0                                    Suzanne Collins   \n",
       "1                         J.K. Rowling|Mary GrandPré   \n",
       "2                                         Harper Lee   \n",
       "3  Jane Austen|Anna Quindlen|Mrs. Oliphant|George...   \n",
       "4                                    Stephenie Meyer   \n",
       "\n",
       "                                           book_desc  \\\n",
       "0  Winning will make you famous. Losing means cer...   \n",
       "1  There is a door at the end of a silent corrido...   \n",
       "2  The unforgettable novel of a childhood in a sl...   \n",
       "3  «È cosa ormai risaputa che a uno scapolo in po...   \n",
       "4  About three things I was absolutely positive.F...   \n",
       "\n",
       "                         book_edition book_format    book_isbn book_pages  \\\n",
       "0                                 NaN   Hardcover  9.78044E+12  374 pages   \n",
       "1                          US Edition   Paperback  9.78044E+12  870 pages   \n",
       "2                    50th Anniversary   Paperback  9.78006E+12  324 pages   \n",
       "3  Modern Library Classics, USA / CAN   Paperback  9.78068E+12  279 pages   \n",
       "4                                 NaN   Paperback  9.78032E+12  498 pages   \n",
       "\n",
       "   book_rating  book_rating_count  book_review_count  \\\n",
       "0         4.33            5519135             160706   \n",
       "1         4.48            2041594              33264   \n",
       "2         4.27            3745197              79450   \n",
       "3         4.25            2453620              54322   \n",
       "4         3.58            4281268              97991   \n",
       "\n",
       "                                  book_title  \\\n",
       "0                           The Hunger Games   \n",
       "1  Harry Potter and the Order of the Phoenix   \n",
       "2                      To Kill a Mockingbird   \n",
       "3                        Pride and Prejudice   \n",
       "4                                   Twilight   \n",
       "\n",
       "                                              genres  \\\n",
       "0  Young Adult|Fiction|Science Fiction|Dystopia|F...   \n",
       "1                        Fantasy|Young Adult|Fiction   \n",
       "2  Classics|Fiction|Historical|Historical Fiction...   \n",
       "3                           Classics|Fiction|Romance   \n",
       "4  Young Adult|Fantasy|Romance|Paranormal|Vampire...   \n",
       "\n",
       "                                           image_url  \n",
       "0  https://images.gr-assets.com/books/1447303603l...  \n",
       "1  https://images.gr-assets.com/books/1255614970l...  \n",
       "2  https://images.gr-assets.com/books/1361975680l...  \n",
       "3  https://images.gr-assets.com/books/1320399351l...  \n",
       "4  https://images.gr-assets.com/books/1361039443l...  "
      ]
     },
     "execution_count": 3,
     "metadata": {},
     "output_type": "execute_result"
    }
   ],
   "source": [
    "# Read the data\n",
    "#from google.colab import drive\n",
    "#drive.mount('/content/drive')\n",
    "data = pd.read_csv('book_data.csv')\n",
    "# Only keep columns we need\n",
    "data.head()     "
   ]
  },
  {
   "cell_type": "code",
   "execution_count": 4,
   "id": "1930e0d4-e1fb-4d3a-9ab2-d3ebf5c591d4",
   "metadata": {
    "colab": {
     "base_uri": "https://localhost:8080/"
    },
    "executionInfo": {
     "elapsed": 108,
     "status": "ok",
     "timestamp": 1677472667129,
     "user": {
      "displayName": "Trang Thuy",
      "userId": "00606403752895192854"
     },
     "user_tz": 300
    },
    "id": "1930e0d4-e1fb-4d3a-9ab2-d3ebf5c591d4",
    "outputId": "96688749-f8d5-4c39-8c87-5662ce274440"
   },
   "outputs": [
    {
     "data": {
      "text/plain": [
       "Index(['book_authors', 'book_desc', 'book_edition', 'book_format', 'book_isbn',\n",
       "       'book_pages', 'book_rating', 'book_rating_count', 'book_review_count',\n",
       "       'book_title', 'genres', 'image_url'],\n",
       "      dtype='object')"
      ]
     },
     "execution_count": 4,
     "metadata": {},
     "output_type": "execute_result"
    }
   ],
   "source": [
    "# Check column names\n",
    "data.columns"
   ]
  },
  {
   "cell_type": "markdown",
   "id": "2f7d540e-b026-4b7d-88c3-65788a687966",
   "metadata": {
    "id": "2f7d540e-b026-4b7d-88c3-65788a687966"
   },
   "source": [
    "---\n",
    "### Filter Columns"
   ]
  },
  {
   "cell_type": "code",
   "execution_count": 5,
   "id": "a4082c78-491e-45e0-8dd8-bf0d4b54b77e",
   "metadata": {
    "colab": {
     "base_uri": "https://localhost:8080/",
     "height": 617
    },
    "executionInfo": {
     "elapsed": 103,
     "status": "ok",
     "timestamp": 1677472667129,
     "user": {
      "displayName": "Trang Thuy",
      "userId": "00606403752895192854"
     },
     "user_tz": 300
    },
    "id": "a4082c78-491e-45e0-8dd8-bf0d4b54b77e",
    "outputId": "05009f74-4167-464e-c2ea-471998321600"
   },
   "outputs": [
    {
     "data": {
      "text/html": [
       "<div>\n",
       "<style scoped>\n",
       "    .dataframe tbody tr th:only-of-type {\n",
       "        vertical-align: middle;\n",
       "    }\n",
       "\n",
       "    .dataframe tbody tr th {\n",
       "        vertical-align: top;\n",
       "    }\n",
       "\n",
       "    .dataframe thead th {\n",
       "        text-align: right;\n",
       "    }\n",
       "</style>\n",
       "<table border=\"1\" class=\"dataframe\">\n",
       "  <thead>\n",
       "    <tr style=\"text-align: right;\">\n",
       "      <th></th>\n",
       "      <th>book_authors</th>\n",
       "      <th>book_desc</th>\n",
       "      <th>book_edition</th>\n",
       "      <th>book_format</th>\n",
       "      <th>book_isbn</th>\n",
       "      <th>book_pages</th>\n",
       "      <th>book_rating</th>\n",
       "      <th>book_rating_count</th>\n",
       "      <th>book_title</th>\n",
       "      <th>genres</th>\n",
       "      <th>image_url</th>\n",
       "    </tr>\n",
       "  </thead>\n",
       "  <tbody>\n",
       "    <tr>\n",
       "      <th>0</th>\n",
       "      <td>Suzanne Collins</td>\n",
       "      <td>Winning will make you famous. Losing means cer...</td>\n",
       "      <td>NaN</td>\n",
       "      <td>Hardcover</td>\n",
       "      <td>9.78044E+12</td>\n",
       "      <td>374 pages</td>\n",
       "      <td>4.33</td>\n",
       "      <td>5519135</td>\n",
       "      <td>The Hunger Games</td>\n",
       "      <td>Young Adult|Fiction|Science Fiction|Dystopia|F...</td>\n",
       "      <td>https://images.gr-assets.com/books/1447303603l...</td>\n",
       "    </tr>\n",
       "    <tr>\n",
       "      <th>1</th>\n",
       "      <td>J.K. Rowling|Mary GrandPré</td>\n",
       "      <td>There is a door at the end of a silent corrido...</td>\n",
       "      <td>US Edition</td>\n",
       "      <td>Paperback</td>\n",
       "      <td>9.78044E+12</td>\n",
       "      <td>870 pages</td>\n",
       "      <td>4.48</td>\n",
       "      <td>2041594</td>\n",
       "      <td>Harry Potter and the Order of the Phoenix</td>\n",
       "      <td>Fantasy|Young Adult|Fiction</td>\n",
       "      <td>https://images.gr-assets.com/books/1255614970l...</td>\n",
       "    </tr>\n",
       "    <tr>\n",
       "      <th>2</th>\n",
       "      <td>Harper Lee</td>\n",
       "      <td>The unforgettable novel of a childhood in a sl...</td>\n",
       "      <td>50th Anniversary</td>\n",
       "      <td>Paperback</td>\n",
       "      <td>9.78006E+12</td>\n",
       "      <td>324 pages</td>\n",
       "      <td>4.27</td>\n",
       "      <td>3745197</td>\n",
       "      <td>To Kill a Mockingbird</td>\n",
       "      <td>Classics|Fiction|Historical|Historical Fiction...</td>\n",
       "      <td>https://images.gr-assets.com/books/1361975680l...</td>\n",
       "    </tr>\n",
       "    <tr>\n",
       "      <th>3</th>\n",
       "      <td>Jane Austen|Anna Quindlen|Mrs. Oliphant|George...</td>\n",
       "      <td>«È cosa ormai risaputa che a uno scapolo in po...</td>\n",
       "      <td>Modern Library Classics, USA / CAN</td>\n",
       "      <td>Paperback</td>\n",
       "      <td>9.78068E+12</td>\n",
       "      <td>279 pages</td>\n",
       "      <td>4.25</td>\n",
       "      <td>2453620</td>\n",
       "      <td>Pride and Prejudice</td>\n",
       "      <td>Classics|Fiction|Romance</td>\n",
       "      <td>https://images.gr-assets.com/books/1320399351l...</td>\n",
       "    </tr>\n",
       "    <tr>\n",
       "      <th>4</th>\n",
       "      <td>Stephenie Meyer</td>\n",
       "      <td>About three things I was absolutely positive.F...</td>\n",
       "      <td>NaN</td>\n",
       "      <td>Paperback</td>\n",
       "      <td>9.78032E+12</td>\n",
       "      <td>498 pages</td>\n",
       "      <td>3.58</td>\n",
       "      <td>4281268</td>\n",
       "      <td>Twilight</td>\n",
       "      <td>Young Adult|Fantasy|Romance|Paranormal|Vampire...</td>\n",
       "      <td>https://images.gr-assets.com/books/1361039443l...</td>\n",
       "    </tr>\n",
       "  </tbody>\n",
       "</table>\n",
       "</div>"
      ],
      "text/plain": [
       "                                        book_authors  \\\n",
       "0                                    Suzanne Collins   \n",
       "1                         J.K. Rowling|Mary GrandPré   \n",
       "2                                         Harper Lee   \n",
       "3  Jane Austen|Anna Quindlen|Mrs. Oliphant|George...   \n",
       "4                                    Stephenie Meyer   \n",
       "\n",
       "                                           book_desc  \\\n",
       "0  Winning will make you famous. Losing means cer...   \n",
       "1  There is a door at the end of a silent corrido...   \n",
       "2  The unforgettable novel of a childhood in a sl...   \n",
       "3  «È cosa ormai risaputa che a uno scapolo in po...   \n",
       "4  About three things I was absolutely positive.F...   \n",
       "\n",
       "                         book_edition book_format    book_isbn book_pages  \\\n",
       "0                                 NaN   Hardcover  9.78044E+12  374 pages   \n",
       "1                          US Edition   Paperback  9.78044E+12  870 pages   \n",
       "2                    50th Anniversary   Paperback  9.78006E+12  324 pages   \n",
       "3  Modern Library Classics, USA / CAN   Paperback  9.78068E+12  279 pages   \n",
       "4                                 NaN   Paperback  9.78032E+12  498 pages   \n",
       "\n",
       "   book_rating  book_rating_count                                 book_title  \\\n",
       "0         4.33            5519135                           The Hunger Games   \n",
       "1         4.48            2041594  Harry Potter and the Order of the Phoenix   \n",
       "2         4.27            3745197                      To Kill a Mockingbird   \n",
       "3         4.25            2453620                        Pride and Prejudice   \n",
       "4         3.58            4281268                                   Twilight   \n",
       "\n",
       "                                              genres  \\\n",
       "0  Young Adult|Fiction|Science Fiction|Dystopia|F...   \n",
       "1                        Fantasy|Young Adult|Fiction   \n",
       "2  Classics|Fiction|Historical|Historical Fiction...   \n",
       "3                           Classics|Fiction|Romance   \n",
       "4  Young Adult|Fantasy|Romance|Paranormal|Vampire...   \n",
       "\n",
       "                                           image_url  \n",
       "0  https://images.gr-assets.com/books/1447303603l...  \n",
       "1  https://images.gr-assets.com/books/1255614970l...  \n",
       "2  https://images.gr-assets.com/books/1361975680l...  \n",
       "3  https://images.gr-assets.com/books/1320399351l...  \n",
       "4  https://images.gr-assets.com/books/1361039443l...  "
      ]
     },
     "execution_count": 5,
     "metadata": {},
     "output_type": "execute_result"
    }
   ],
   "source": [
    "# Only keep columns we need\n",
    "# eda_data = data[['Id', 'Name', 'Authors', 'ISBN', 'PublishYear', 'Publisher', 'Language', 'Description']].copy()\n",
    "eda_data = data[['book_authors', 'book_desc', 'book_edition', 'book_format', 'book_isbn', 'book_pages', 'book_rating', 'book_rating_count', 'book_title', 'genres', 'image_url']].copy()\n",
    "eda_data.head()     "
   ]
  },
  {
   "cell_type": "code",
   "execution_count": 6,
   "id": "b3df6561-e8b3-4f1c-9269-25c576aa55e9",
   "metadata": {
    "colab": {
     "base_uri": "https://localhost:8080/"
    },
    "executionInfo": {
     "elapsed": 101,
     "status": "ok",
     "timestamp": 1677472667130,
     "user": {
      "displayName": "Trang Thuy",
      "userId": "00606403752895192854"
     },
     "user_tz": 300
    },
    "id": "b3df6561-e8b3-4f1c-9269-25c576aa55e9",
    "outputId": "db69ca69-4b82-48b5-da07-18ef2dc09ba4"
   },
   "outputs": [
    {
     "data": {
      "text/plain": [
       "(54301, 11)"
      ]
     },
     "execution_count": 6,
     "metadata": {},
     "output_type": "execute_result"
    }
   ],
   "source": [
    "# Find number of smaples and features\n",
    "eda_data.shape"
   ]
  },
  {
   "cell_type": "code",
   "execution_count": 7,
   "id": "f0112d32-4106-467a-be68-a7f28c697657",
   "metadata": {
    "colab": {
     "base_uri": "https://localhost:8080/"
    },
    "executionInfo": {
     "elapsed": 106,
     "status": "ok",
     "timestamp": 1677472667142,
     "user": {
      "displayName": "Trang Thuy",
      "userId": "00606403752895192854"
     },
     "user_tz": 300
    },
    "id": "f0112d32-4106-467a-be68-a7f28c697657",
    "outputId": "a1f542cb-19be-4d20-fd6b-fac8bbfcd867"
   },
   "outputs": [
    {
     "name": "stdout",
     "output_type": "stream",
     "text": [
      "<class 'pandas.core.frame.DataFrame'>\n",
      "RangeIndex: 54301 entries, 0 to 54300\n",
      "Data columns (total 11 columns):\n",
      " #   Column             Non-Null Count  Dtype  \n",
      "---  ------             --------------  -----  \n",
      " 0   book_authors       54301 non-null  object \n",
      " 1   book_desc          52970 non-null  object \n",
      " 2   book_edition       5453 non-null   object \n",
      " 3   book_format        52645 non-null  object \n",
      " 4   book_isbn          41435 non-null  object \n",
      " 5   book_pages         51779 non-null  object \n",
      " 6   book_rating        54301 non-null  float64\n",
      " 7   book_rating_count  54301 non-null  int64  \n",
      " 8   book_title         54301 non-null  object \n",
      " 9   genres             51059 non-null  object \n",
      " 10  image_url          53618 non-null  object \n",
      "dtypes: float64(1), int64(1), object(9)\n",
      "memory usage: 4.6+ MB\n"
     ]
    }
   ],
   "source": [
    "# Check data types of features\n",
    "eda_data.info()"
   ]
  },
  {
   "cell_type": "markdown",
   "id": "f7113473-1016-46ea-9c6e-a60362e67174",
   "metadata": {
    "id": "f7113473-1016-46ea-9c6e-a60362e67174"
   },
   "source": [
    "---\n",
    "# Data Cleaning"
   ]
  },
  {
   "cell_type": "markdown",
   "id": "2edc87db-75ab-4018-9392-4a394088e0ee",
   "metadata": {
    "id": "2edc87db-75ab-4018-9392-4a394088e0ee",
    "tags": []
   },
   "source": [
    "### Find missing values and replace with appropriate substitution."
   ]
  },
  {
   "cell_type": "code",
   "execution_count": 8,
   "id": "3b46b34b-434e-43f6-a5f2-cd776eb2b62b",
   "metadata": {
    "colab": {
     "base_uri": "https://localhost:8080/"
    },
    "executionInfo": {
     "elapsed": 101,
     "status": "ok",
     "timestamp": 1677472667142,
     "user": {
      "displayName": "Trang Thuy",
      "userId": "00606403752895192854"
     },
     "user_tz": 300
    },
    "id": "3b46b34b-434e-43f6-a5f2-cd776eb2b62b",
    "outputId": "2d2d5019-829e-4a95-b2ae-0e6030e795a0",
    "tags": []
   },
   "outputs": [
    {
     "data": {
      "text/plain": [
       "book_authors             0\n",
       "book_desc             1331\n",
       "book_edition         48848\n",
       "book_format           1656\n",
       "book_isbn            12866\n",
       "book_pages            2522\n",
       "book_rating              0\n",
       "book_rating_count        0\n",
       "book_title               0\n",
       "genres                3242\n",
       "image_url              683\n",
       "dtype: int64"
      ]
     },
     "execution_count": 8,
     "metadata": {},
     "output_type": "execute_result"
    }
   ],
   "source": [
    "# Find number of NaN in each column\n",
    "eda_data.isna().sum()"
   ]
  },
  {
   "cell_type": "code",
   "execution_count": 9,
   "id": "ac1c79ff-f758-4311-8bc4-09d751408007",
   "metadata": {
    "executionInfo": {
     "elapsed": 292,
     "status": "ok",
     "timestamp": 1677472667338,
     "user": {
      "displayName": "Trang Thuy",
      "userId": "00606403752895192854"
     },
     "user_tz": 300
    },
    "id": "ac1c79ff-f758-4311-8bc4-09d751408007"
   },
   "outputs": [],
   "source": [
    "# eda_data.Language.unique()\n",
    "# Ko co language"
   ]
  },
  {
   "cell_type": "markdown",
   "id": "62e3eb2a-a11e-40e2-9610-46ad1af3f40d",
   "metadata": {
    "id": "62e3eb2a-a11e-40e2-9610-46ad1af3f40d"
   },
   "source": [
    "---\n",
    "### Replace missing publisher info with unknown"
   ]
  },
  {
   "cell_type": "code",
   "execution_count": 10,
   "id": "7fe4045a-58ab-4da3-87bf-980f354627f0",
   "metadata": {
    "executionInfo": {
     "elapsed": 22,
     "status": "ok",
     "timestamp": 1677472667340,
     "user": {
      "displayName": "Trang Thuy",
      "userId": "00606403752895192854"
     },
     "user_tz": 300
    },
    "id": "7fe4045a-58ab-4da3-87bf-980f354627f0"
   },
   "outputs": [],
   "source": [
    "# eda_data[[\"Publisher\"]] = eda_data[[\"Publisher\"]].fillna(\"unknown\")\n",
    "# Ko co Publisher"
   ]
  },
  {
   "cell_type": "code",
   "execution_count": 11,
   "id": "5ddb3d8c-c562-4257-92db-1a91f4da19d2",
   "metadata": {
    "colab": {
     "base_uri": "https://localhost:8080/"
    },
    "executionInfo": {
     "elapsed": 22,
     "status": "ok",
     "timestamp": 1677472667340,
     "user": {
      "displayName": "Trang Thuy",
      "userId": "00606403752895192854"
     },
     "user_tz": 300
    },
    "id": "5ddb3d8c-c562-4257-92db-1a91f4da19d2",
    "outputId": "94b4a470-49d9-4e38-9c08-d4c9ce0ca750"
   },
   "outputs": [
    {
     "data": {
      "text/plain": [
       "book_authors             0\n",
       "book_desc             1331\n",
       "book_edition         48848\n",
       "book_format           1656\n",
       "book_isbn            12866\n",
       "book_pages            2522\n",
       "book_rating              0\n",
       "book_rating_count        0\n",
       "book_title               0\n",
       "genres                3242\n",
       "image_url              683\n",
       "dtype: int64"
      ]
     },
     "execution_count": 11,
     "metadata": {},
     "output_type": "execute_result"
    }
   ],
   "source": [
    "eda_data.isna().sum()"
   ]
  },
  {
   "cell_type": "markdown",
   "id": "cf510140-8314-45e8-bc29-e4edc5c3fd09",
   "metadata": {
    "id": "cf510140-8314-45e8-bc29-e4edc5c3fd09"
   },
   "source": [
    "---\n",
    "### Remove rows with missing description"
   ]
  },
  {
   "cell_type": "code",
   "execution_count": 12,
   "id": "c10b9447-4e0c-4816-8fca-ba6b0682b981",
   "metadata": {
    "executionInfo": {
     "elapsed": 16,
     "status": "ok",
     "timestamp": 1677472667341,
     "user": {
      "displayName": "Trang Thuy",
      "userId": "00606403752895192854"
     },
     "user_tz": 300
    },
    "id": "c10b9447-4e0c-4816-8fca-ba6b0682b981"
   },
   "outputs": [],
   "source": [
    "# Remove rows having atleast ine NaN in any feature\n",
    "# eda_data.dropna(axis=0, how=\"any\", inplace=True)\n",
    "eda_data.dropna(subset=[\"book_desc\"], inplace=True)"
   ]
  },
  {
   "cell_type": "markdown",
   "id": "4b630693-e975-4fc7-8da1-5b9dfb7c561d",
   "metadata": {
    "id": "4b630693-e975-4fc7-8da1-5b9dfb7c561d"
   },
   "source": [
    "---\n",
    "### Remove URLs from the description"
   ]
  },
  {
   "cell_type": "code",
   "execution_count": 13,
   "id": "5316dbac-86e6-427b-b4c6-b997136d5f22",
   "metadata": {
    "executionInfo": {
     "elapsed": 16,
     "status": "ok",
     "timestamp": 1677472667341,
     "user": {
      "displayName": "Trang Thuy",
      "userId": "00606403752895192854"
     },
     "user_tz": 300
    },
    "id": "5316dbac-86e6-427b-b4c6-b997136d5f22"
   },
   "outputs": [],
   "source": [
    "# list(eda_data.book_desc[eda_data.Id == 1099555]) #Description with url and html tag\n",
    "\n",
    "# ko co Id"
   ]
  },
  {
   "cell_type": "code",
   "execution_count": 14,
   "id": "0a29577b-c26c-4b60-bef3-e234a4ef0442",
   "metadata": {
    "executionInfo": {
     "elapsed": 377,
     "status": "ok",
     "timestamp": 1677472667708,
     "user": {
      "displayName": "Trang Thuy",
      "userId": "00606403752895192854"
     },
     "user_tz": 300
    },
    "id": "0a29577b-c26c-4b60-bef3-e234a4ef0442"
   },
   "outputs": [],
   "source": [
    "import re\n",
    "url_pattern = re.compile(r'https?://\\S+|www\\.\\S+')\n",
    "def remove_url(text):   \n",
    "    return re.sub(url_pattern, r'', text)\n",
    "\n",
    "eda_data.book_desc = eda_data.book_desc.apply(remove_url)"
   ]
  },
  {
   "cell_type": "markdown",
   "id": "5eb371f7-e631-41c1-864f-8a85468b36c5",
   "metadata": {
    "id": "5eb371f7-e631-41c1-864f-8a85468b36c5"
   },
   "source": [
    "---\n",
    "### Remove html tags from the description."
   ]
  },
  {
   "cell_type": "code",
   "execution_count": 15,
   "id": "52e4d56a-80ae-4fb9-a408-a205f0e36214",
   "metadata": {
    "colab": {
     "base_uri": "https://localhost:8080/"
    },
    "executionInfo": {
     "elapsed": 168,
     "status": "ok",
     "timestamp": 1677472667868,
     "user": {
      "displayName": "Trang Thuy",
      "userId": "00606403752895192854"
     },
     "user_tz": 300
    },
    "id": "52e4d56a-80ae-4fb9-a408-a205f0e36214",
    "outputId": "6486104c-11f4-4db7-b5bc-05b0f4f1ee2f"
   },
   "outputs": [
    {
     "data": {
      "text/plain": [
       "0        Winning will make you famous. Losing means cer...\n",
       "1        There is a door at the end of a silent corrido...\n",
       "2        The unforgettable novel of a childhood in a sl...\n",
       "3        «È cosa ormai risaputa che a uno scapolo in po...\n",
       "4        About three things I was absolutely positive.F...\n",
       "                               ...                        \n",
       "54295    Avi Steinberg is stumped. After defecting from...\n",
       "54296    In this fearless and half-crazy story, Howard ...\n",
       "54297    From the icons of the game to the players who ...\n",
       "54299    Soon to be a major motion picture, from Brad P...\n",
       "54300    The Anthology and the Rise of the Novel brings...\n",
       "Name: book_desc, Length: 52970, dtype: object"
      ]
     },
     "execution_count": 15,
     "metadata": {},
     "output_type": "execute_result"
    }
   ],
   "source": [
    "html_pattern = re.compile('<[^>]*>')\n",
    "def clean_html_tags(text):\n",
    "    return re.sub(html_pattern, r'', text)\n",
    "\n",
    "eda_data.book_desc = eda_data.book_desc.apply(clean_html_tags)\n",
    "\n",
    "eda_data.book_desc"
   ]
  },
  {
   "cell_type": "code",
   "execution_count": 16,
   "id": "8798e01c-b9f1-4f09-ad10-5ecab62d870d",
   "metadata": {
    "executionInfo": {
     "elapsed": 5,
     "status": "ok",
     "timestamp": 1677472667869,
     "user": {
      "displayName": "Trang Thuy",
      "userId": "00606403752895192854"
     },
     "user_tz": 300
    },
    "id": "8798e01c-b9f1-4f09-ad10-5ecab62d870d"
   },
   "outputs": [],
   "source": [
    "# list(eda_data.Description[eda_data.Id == 1099555])\n",
    "\n",
    "# ko co id"
   ]
  },
  {
   "cell_type": "markdown",
   "id": "884003b7-9bb4-4e21-a6a0-711d42ff10fd",
   "metadata": {
    "id": "884003b7-9bb4-4e21-a6a0-711d42ff10fd"
   },
   "source": [
    "---\n",
    "### Remove punctuations from the description"
   ]
  },
  {
   "cell_type": "code",
   "execution_count": null,
   "id": "b83c8d32-880e-4f0c-b006-8d35d2281060",
   "metadata": {
    "executionInfo": {
     "elapsed": 1490,
     "status": "ok",
     "timestamp": 1677472669355,
     "user": {
      "displayName": "Trang Thuy",
      "userId": "00606403752895192854"
     },
     "user_tz": 300
    },
    "id": "b83c8d32-880e-4f0c-b006-8d35d2281060"
   },
   "outputs": [],
   "source": []
  },
  {
   "cell_type": "code",
   "execution_count": 17,
   "id": "d31ad619",
   "metadata": {},
   "outputs": [],
   "source": [
    "## Remove punctuation and special characters/symbols\n",
    "def rm_punc(text):\n",
    "    return re.sub(r'\\W+|_', ' ', text)\n",
    "eda_data.book_desc = eda_data.book_desc.apply(rm_punc)"
   ]
  },
  {
   "cell_type": "code",
   "execution_count": 18,
   "id": "8951606e-0280-4ae6-b228-6fe7e8d1b478",
   "metadata": {
    "colab": {
     "base_uri": "https://localhost:8080/"
    },
    "executionInfo": {
     "elapsed": 5,
     "status": "ok",
     "timestamp": 1677472669355,
     "user": {
      "displayName": "Trang Thuy",
      "userId": "00606403752895192854"
     },
     "user_tz": 300
    },
    "id": "8951606e-0280-4ae6-b228-6fe7e8d1b478",
    "outputId": "bc1bd7d0-551e-4762-f7de-d112949d20ce"
   },
   "outputs": [
    {
     "data": {
      "text/plain": [
       "0    Winning will make you famous Losing means cert...\n",
       "1    There is a door at the end of a silent corrido...\n",
       "2    The unforgettable novel of a childhood in a sl...\n",
       "3     È cosa ormai risaputa che a uno scapolo in po...\n",
       "4    About three things I was absolutely positive F...\n",
       "Name: book_desc, dtype: object"
      ]
     },
     "execution_count": 18,
     "metadata": {},
     "output_type": "execute_result"
    }
   ],
   "source": [
    "eda_data.book_desc.head(5)"
   ]
  },
  {
   "cell_type": "code",
   "execution_count": 19,
   "id": "b416e579",
   "metadata": {},
   "outputs": [],
   "source": [
    "# copy the initial states for website display in the future\n",
    "eda_data[\"book_authors_init\"] = eda_data[\"book_authors\"]\n",
    "eda_data[\"book_title_init\"] = eda_data[\"book_title\"]"
   ]
  },
  {
   "cell_type": "markdown",
   "id": "d0a6315b-3f37-4842-9bbb-3182774c8354",
   "metadata": {
    "id": "d0a6315b-3f37-4842-9bbb-3182774c8354"
   },
   "source": [
    "---\n",
    "### Remove extra spaces from the text columns and convert the lettercase to lower"
   ]
  },
  {
   "cell_type": "code",
   "execution_count": 20,
   "id": "68645a99-8e04-471a-af4d-8e7d853eb2a8",
   "metadata": {
    "colab": {
     "base_uri": "https://localhost:8080/",
     "height": 617
    },
    "executionInfo": {
     "elapsed": 225,
     "status": "ok",
     "timestamp": 1677472669577,
     "user": {
      "displayName": "Trang Thuy",
      "userId": "00606403752895192854"
     },
     "user_tz": 300
    },
    "id": "68645a99-8e04-471a-af4d-8e7d853eb2a8",
    "outputId": "2fe8457c-b64f-4b52-be2d-88fd0b3b9fa3"
   },
   "outputs": [
    {
     "data": {
      "text/html": [
       "<div>\n",
       "<style scoped>\n",
       "    .dataframe tbody tr th:only-of-type {\n",
       "        vertical-align: middle;\n",
       "    }\n",
       "\n",
       "    .dataframe tbody tr th {\n",
       "        vertical-align: top;\n",
       "    }\n",
       "\n",
       "    .dataframe thead th {\n",
       "        text-align: right;\n",
       "    }\n",
       "</style>\n",
       "<table border=\"1\" class=\"dataframe\">\n",
       "  <thead>\n",
       "    <tr style=\"text-align: right;\">\n",
       "      <th></th>\n",
       "      <th>book_authors</th>\n",
       "      <th>book_desc</th>\n",
       "      <th>book_edition</th>\n",
       "      <th>book_format</th>\n",
       "      <th>book_isbn</th>\n",
       "      <th>book_pages</th>\n",
       "      <th>book_rating</th>\n",
       "      <th>book_rating_count</th>\n",
       "      <th>book_title</th>\n",
       "      <th>genres</th>\n",
       "      <th>image_url</th>\n",
       "      <th>book_authors_init</th>\n",
       "      <th>book_title_init</th>\n",
       "    </tr>\n",
       "  </thead>\n",
       "  <tbody>\n",
       "    <tr>\n",
       "      <th>0</th>\n",
       "      <td>suzanne collins</td>\n",
       "      <td>winning will make you famous losing means cert...</td>\n",
       "      <td>NaN</td>\n",
       "      <td>Hardcover</td>\n",
       "      <td>9.78044E+12</td>\n",
       "      <td>374 pages</td>\n",
       "      <td>4.33</td>\n",
       "      <td>5519135</td>\n",
       "      <td>the hunger games</td>\n",
       "      <td>Young Adult|Fiction|Science Fiction|Dystopia|F...</td>\n",
       "      <td>https://images.gr-assets.com/books/1447303603l...</td>\n",
       "      <td>Suzanne Collins</td>\n",
       "      <td>The Hunger Games</td>\n",
       "    </tr>\n",
       "    <tr>\n",
       "      <th>1</th>\n",
       "      <td>j.k. rowling|mary grandpré</td>\n",
       "      <td>there is a door at the end of a silent corrido...</td>\n",
       "      <td>US Edition</td>\n",
       "      <td>Paperback</td>\n",
       "      <td>9.78044E+12</td>\n",
       "      <td>870 pages</td>\n",
       "      <td>4.48</td>\n",
       "      <td>2041594</td>\n",
       "      <td>harry potter and the order of the phoenix</td>\n",
       "      <td>Fantasy|Young Adult|Fiction</td>\n",
       "      <td>https://images.gr-assets.com/books/1255614970l...</td>\n",
       "      <td>J.K. Rowling|Mary GrandPré</td>\n",
       "      <td>Harry Potter and the Order of the Phoenix</td>\n",
       "    </tr>\n",
       "    <tr>\n",
       "      <th>2</th>\n",
       "      <td>harper lee</td>\n",
       "      <td>the unforgettable novel of a childhood in a sl...</td>\n",
       "      <td>50th Anniversary</td>\n",
       "      <td>Paperback</td>\n",
       "      <td>9.78006E+12</td>\n",
       "      <td>324 pages</td>\n",
       "      <td>4.27</td>\n",
       "      <td>3745197</td>\n",
       "      <td>to kill a mockingbird</td>\n",
       "      <td>Classics|Fiction|Historical|Historical Fiction...</td>\n",
       "      <td>https://images.gr-assets.com/books/1361975680l...</td>\n",
       "      <td>Harper Lee</td>\n",
       "      <td>To Kill a Mockingbird</td>\n",
       "    </tr>\n",
       "    <tr>\n",
       "      <th>3</th>\n",
       "      <td>jane austen|anna quindlen|mrs. oliphant|george...</td>\n",
       "      <td>è cosa ormai risaputa che a uno scapolo in pos...</td>\n",
       "      <td>Modern Library Classics, USA / CAN</td>\n",
       "      <td>Paperback</td>\n",
       "      <td>9.78068E+12</td>\n",
       "      <td>279 pages</td>\n",
       "      <td>4.25</td>\n",
       "      <td>2453620</td>\n",
       "      <td>pride and prejudice</td>\n",
       "      <td>Classics|Fiction|Romance</td>\n",
       "      <td>https://images.gr-assets.com/books/1320399351l...</td>\n",
       "      <td>Jane Austen|Anna Quindlen|Mrs. Oliphant|George...</td>\n",
       "      <td>Pride and Prejudice</td>\n",
       "    </tr>\n",
       "    <tr>\n",
       "      <th>4</th>\n",
       "      <td>stephenie meyer</td>\n",
       "      <td>about three things i was absolutely positive f...</td>\n",
       "      <td>NaN</td>\n",
       "      <td>Paperback</td>\n",
       "      <td>9.78032E+12</td>\n",
       "      <td>498 pages</td>\n",
       "      <td>3.58</td>\n",
       "      <td>4281268</td>\n",
       "      <td>twilight</td>\n",
       "      <td>Young Adult|Fantasy|Romance|Paranormal|Vampire...</td>\n",
       "      <td>https://images.gr-assets.com/books/1361039443l...</td>\n",
       "      <td>Stephenie Meyer</td>\n",
       "      <td>Twilight</td>\n",
       "    </tr>\n",
       "  </tbody>\n",
       "</table>\n",
       "</div>"
      ],
      "text/plain": [
       "                                        book_authors  \\\n",
       "0                                    suzanne collins   \n",
       "1                         j.k. rowling|mary grandpré   \n",
       "2                                         harper lee   \n",
       "3  jane austen|anna quindlen|mrs. oliphant|george...   \n",
       "4                                    stephenie meyer   \n",
       "\n",
       "                                           book_desc  \\\n",
       "0  winning will make you famous losing means cert...   \n",
       "1  there is a door at the end of a silent corrido...   \n",
       "2  the unforgettable novel of a childhood in a sl...   \n",
       "3  è cosa ormai risaputa che a uno scapolo in pos...   \n",
       "4  about three things i was absolutely positive f...   \n",
       "\n",
       "                         book_edition book_format    book_isbn book_pages  \\\n",
       "0                                 NaN   Hardcover  9.78044E+12  374 pages   \n",
       "1                          US Edition   Paperback  9.78044E+12  870 pages   \n",
       "2                    50th Anniversary   Paperback  9.78006E+12  324 pages   \n",
       "3  Modern Library Classics, USA / CAN   Paperback  9.78068E+12  279 pages   \n",
       "4                                 NaN   Paperback  9.78032E+12  498 pages   \n",
       "\n",
       "   book_rating  book_rating_count                                 book_title  \\\n",
       "0         4.33            5519135                           the hunger games   \n",
       "1         4.48            2041594  harry potter and the order of the phoenix   \n",
       "2         4.27            3745197                      to kill a mockingbird   \n",
       "3         4.25            2453620                        pride and prejudice   \n",
       "4         3.58            4281268                                   twilight   \n",
       "\n",
       "                                              genres  \\\n",
       "0  Young Adult|Fiction|Science Fiction|Dystopia|F...   \n",
       "1                        Fantasy|Young Adult|Fiction   \n",
       "2  Classics|Fiction|Historical|Historical Fiction...   \n",
       "3                           Classics|Fiction|Romance   \n",
       "4  Young Adult|Fantasy|Romance|Paranormal|Vampire...   \n",
       "\n",
       "                                           image_url  \\\n",
       "0  https://images.gr-assets.com/books/1447303603l...   \n",
       "1  https://images.gr-assets.com/books/1255614970l...   \n",
       "2  https://images.gr-assets.com/books/1361975680l...   \n",
       "3  https://images.gr-assets.com/books/1320399351l...   \n",
       "4  https://images.gr-assets.com/books/1361039443l...   \n",
       "\n",
       "                                   book_authors_init  \\\n",
       "0                                    Suzanne Collins   \n",
       "1                         J.K. Rowling|Mary GrandPré   \n",
       "2                                         Harper Lee   \n",
       "3  Jane Austen|Anna Quindlen|Mrs. Oliphant|George...   \n",
       "4                                    Stephenie Meyer   \n",
       "\n",
       "                             book_title_init  \n",
       "0                           The Hunger Games  \n",
       "1  Harry Potter and the Order of the Phoenix  \n",
       "2                      To Kill a Mockingbird  \n",
       "3                        Pride and Prejudice  \n",
       "4                                   Twilight  "
      ]
     },
     "execution_count": 20,
     "metadata": {},
     "output_type": "execute_result"
    }
   ],
   "source": [
    "eda_data[[\"book_title\", \"book_authors\", \"book_desc\"]] = pd.concat([eda_data[col].astype(str).str.lower().str.strip() for col in [\"book_title\", \"book_authors\", \"book_desc\"]], axis=1)\n",
    "eda_data.head()"
   ]
  },
  {
   "cell_type": "markdown",
   "id": "7127abef-d4e6-4e7b-97a8-7e4cb8a8e2e3",
   "metadata": {
    "id": "7127abef-d4e6-4e7b-97a8-7e4cb8a8e2e3"
   },
   "source": [
    "---\n",
    "### Find book descriptions with very short length and remove them."
   ]
  },
  {
   "cell_type": "code",
   "execution_count": 21,
   "id": "6457f0fb-3a1d-48c8-9b0d-d25b5a94056d",
   "metadata": {
    "colab": {
     "base_uri": "https://localhost:8080/",
     "height": 459
    },
    "executionInfo": {
     "elapsed": 465,
     "status": "ok",
     "timestamp": 1677472670015,
     "user": {
      "displayName": "Trang Thuy",
      "userId": "00606403752895192854"
     },
     "user_tz": 300
    },
    "id": "6457f0fb-3a1d-48c8-9b0d-d25b5a94056d",
    "outputId": "954abf34-a1a6-4fcc-8a48-0cd6cf9dfb83"
   },
   "outputs": [
    {
     "data": {
      "text/html": [
       "<div>\n",
       "<style scoped>\n",
       "    .dataframe tbody tr th:only-of-type {\n",
       "        vertical-align: middle;\n",
       "    }\n",
       "\n",
       "    .dataframe tbody tr th {\n",
       "        vertical-align: top;\n",
       "    }\n",
       "\n",
       "    .dataframe thead th {\n",
       "        text-align: right;\n",
       "    }\n",
       "</style>\n",
       "<table border=\"1\" class=\"dataframe\">\n",
       "  <thead>\n",
       "    <tr style=\"text-align: right;\">\n",
       "      <th></th>\n",
       "      <th>book_title</th>\n",
       "      <th>book_desc</th>\n",
       "      <th>length</th>\n",
       "    </tr>\n",
       "  </thead>\n",
       "  <tbody>\n",
       "    <tr>\n",
       "      <th>44796</th>\n",
       "      <td>eight's origin</td>\n",
       "      <td></td>\n",
       "      <td>0</td>\n",
       "    </tr>\n",
       "    <tr>\n",
       "      <th>19336</th>\n",
       "      <td>οδύσσεια</td>\n",
       "      <td></td>\n",
       "      <td>0</td>\n",
       "    </tr>\n",
       "    <tr>\n",
       "      <th>25640</th>\n",
       "      <td>alkestis</td>\n",
       "      <td></td>\n",
       "      <td>0</td>\n",
       "    </tr>\n",
       "    <tr>\n",
       "      <th>17964</th>\n",
       "      <td>issuance of insanity</td>\n",
       "      <td></td>\n",
       "      <td>0</td>\n",
       "    </tr>\n",
       "    <tr>\n",
       "      <th>26722</th>\n",
       "      <td>titus et bouboule en egypte</td>\n",
       "      <td></td>\n",
       "      <td>0</td>\n",
       "    </tr>\n",
       "    <tr>\n",
       "      <th>48470</th>\n",
       "      <td>helena</td>\n",
       "      <td></td>\n",
       "      <td>0</td>\n",
       "    </tr>\n",
       "    <tr>\n",
       "      <th>21269</th>\n",
       "      <td>feep's commentaries</td>\n",
       "      <td>kindle</td>\n",
       "      <td>1</td>\n",
       "    </tr>\n",
       "    <tr>\n",
       "      <th>22101</th>\n",
       "      <td>دوره آثار افلاطون چهار جلدی</td>\n",
       "      <td>دوره4جلدی</td>\n",
       "      <td>1</td>\n",
       "    </tr>\n",
       "    <tr>\n",
       "      <th>22913</th>\n",
       "      <td>the mustard seed: the gnostic teachings of jes...</td>\n",
       "      <td>update</td>\n",
       "      <td>1</td>\n",
       "    </tr>\n",
       "    <tr>\n",
       "      <th>22917</th>\n",
       "      <td>the decision is yours</td>\n",
       "      <td>religious</td>\n",
       "      <td>1</td>\n",
       "    </tr>\n",
       "  </tbody>\n",
       "</table>\n",
       "</div>"
      ],
      "text/plain": [
       "                                              book_title  book_desc  length\n",
       "44796                                     eight's origin                  0\n",
       "19336                                           οδύσσεια                  0\n",
       "25640                                           alkestis                  0\n",
       "17964                               issuance of insanity                  0\n",
       "26722                        titus et bouboule en egypte                  0\n",
       "48470                                             helena                  0\n",
       "21269                                feep's commentaries     kindle       1\n",
       "22101                        دوره آثار افلاطون چهار جلدی  دوره4جلدی       1\n",
       "22913  the mustard seed: the gnostic teachings of jes...     update       1\n",
       "22917                              the decision is yours  religious       1"
      ]
     },
     "execution_count": 21,
     "metadata": {},
     "output_type": "execute_result"
    }
   ],
   "source": [
    "# Remove books with very short desc\n",
    "eda_data[\"length\"] = [len(d.split()) for d in eda_data['book_desc'].tolist()]\n",
    "eda_data[eda_data.length.isin(range(0,4))][[\"book_title\", \"book_desc\", \"length\"]]\\\n",
    ".sort_values(by=[\"length\"], ascending=True).head(10)"
   ]
  },
  {
   "cell_type": "markdown",
   "id": "bfa718e3-33b2-402c-8c7b-d700cfe69539",
   "metadata": {
    "id": "bfa718e3-33b2-402c-8c7b-d700cfe69539"
   },
   "source": [
    "- As we have removed tags we see empty strings in the description, lets first convert them to NaN and then remove them"
   ]
  },
  {
   "cell_type": "code",
   "execution_count": 22,
   "id": "b82ff485-8046-4c59-ab9d-324df020158e",
   "metadata": {
    "colab": {
     "base_uri": "https://localhost:8080/",
     "height": 206
    },
    "executionInfo": {
     "elapsed": 570,
     "status": "ok",
     "timestamp": 1677472670546,
     "user": {
      "displayName": "Trang Thuy",
      "userId": "00606403752895192854"
     },
     "user_tz": 300
    },
    "id": "b82ff485-8046-4c59-ab9d-324df020158e",
    "outputId": "379433d5-1770-4627-d277-76b3a9f3d536"
   },
   "outputs": [
    {
     "data": {
      "text/html": [
       "<div>\n",
       "<style scoped>\n",
       "    .dataframe tbody tr th:only-of-type {\n",
       "        vertical-align: middle;\n",
       "    }\n",
       "\n",
       "    .dataframe tbody tr th {\n",
       "        vertical-align: top;\n",
       "    }\n",
       "\n",
       "    .dataframe thead th {\n",
       "        text-align: right;\n",
       "    }\n",
       "</style>\n",
       "<table border=\"1\" class=\"dataframe\">\n",
       "  <thead>\n",
       "    <tr style=\"text-align: right;\">\n",
       "      <th></th>\n",
       "      <th>book_title</th>\n",
       "      <th>book_desc</th>\n",
       "      <th>length</th>\n",
       "    </tr>\n",
       "  </thead>\n",
       "  <tbody>\n",
       "    <tr>\n",
       "      <th>44796</th>\n",
       "      <td>eight's origin</td>\n",
       "      <td>NaN</td>\n",
       "      <td>0</td>\n",
       "    </tr>\n",
       "    <tr>\n",
       "      <th>19336</th>\n",
       "      <td>οδύσσεια</td>\n",
       "      <td>NaN</td>\n",
       "      <td>0</td>\n",
       "    </tr>\n",
       "    <tr>\n",
       "      <th>25640</th>\n",
       "      <td>alkestis</td>\n",
       "      <td>NaN</td>\n",
       "      <td>0</td>\n",
       "    </tr>\n",
       "    <tr>\n",
       "      <th>17964</th>\n",
       "      <td>issuance of insanity</td>\n",
       "      <td>NaN</td>\n",
       "      <td>0</td>\n",
       "    </tr>\n",
       "    <tr>\n",
       "      <th>26722</th>\n",
       "      <td>titus et bouboule en egypte</td>\n",
       "      <td>NaN</td>\n",
       "      <td>0</td>\n",
       "    </tr>\n",
       "  </tbody>\n",
       "</table>\n",
       "</div>"
      ],
      "text/plain": [
       "                        book_title book_desc  length\n",
       "44796               eight's origin       NaN       0\n",
       "19336                     οδύσσεια       NaN       0\n",
       "25640                     alkestis       NaN       0\n",
       "17964         issuance of insanity       NaN       0\n",
       "26722  titus et bouboule en egypte       NaN       0"
      ]
     },
     "execution_count": 22,
     "metadata": {},
     "output_type": "execute_result"
    }
   ],
   "source": [
    "# Replace empty strings of description with NaN\n",
    "eda_data.book_desc = eda_data.book_desc.replace(r'^\\s*$', np.nan, regex=True)\n",
    "\n",
    "eda_data[eda_data.length.isin(range(0,4))][[\"book_title\", \"book_desc\", \"length\"]]\\\n",
    ".sort_values(by=[\"length\"], ascending=True).head()"
   ]
  },
  {
   "cell_type": "code",
   "execution_count": 23,
   "id": "8d075575-4e2a-458c-970e-48694e542722",
   "metadata": {
    "colab": {
     "base_uri": "https://localhost:8080/",
     "height": 285
    },
    "executionInfo": {
     "elapsed": 105,
     "status": "ok",
     "timestamp": 1677472670548,
     "user": {
      "displayName": "Trang Thuy",
      "userId": "00606403752895192854"
     },
     "user_tz": 300
    },
    "id": "8d075575-4e2a-458c-970e-48694e542722",
    "outputId": "07b16fb7-962e-4980-c307-38d3e763a880"
   },
   "outputs": [
    {
     "data": {
      "text/html": [
       "<div>\n",
       "<style scoped>\n",
       "    .dataframe tbody tr th:only-of-type {\n",
       "        vertical-align: middle;\n",
       "    }\n",
       "\n",
       "    .dataframe tbody tr th {\n",
       "        vertical-align: top;\n",
       "    }\n",
       "\n",
       "    .dataframe thead th {\n",
       "        text-align: right;\n",
       "    }\n",
       "</style>\n",
       "<table border=\"1\" class=\"dataframe\">\n",
       "  <thead>\n",
       "    <tr style=\"text-align: right;\">\n",
       "      <th></th>\n",
       "      <th>book_title</th>\n",
       "      <th>book_desc</th>\n",
       "      <th>length</th>\n",
       "    </tr>\n",
       "  </thead>\n",
       "  <tbody>\n",
       "    <tr>\n",
       "      <th>36245</th>\n",
       "      <td>منخفض الهند الموسمي</td>\n",
       "      <td>رواية</td>\n",
       "      <td>1</td>\n",
       "    </tr>\n",
       "    <tr>\n",
       "      <th>19936</th>\n",
       "      <td>diary of a wimpy kid: #1-5 [box set]</td>\n",
       "      <td>name</td>\n",
       "      <td>1</td>\n",
       "    </tr>\n",
       "    <tr>\n",
       "      <th>19985</th>\n",
       "      <td>ضربة شمس</td>\n",
       "      <td>مقالات</td>\n",
       "      <td>1</td>\n",
       "    </tr>\n",
       "    <tr>\n",
       "      <th>45697</th>\n",
       "      <td>valkyrie: the vampire princess 2</td>\n",
       "      <td>sinopsis</td>\n",
       "      <td>1</td>\n",
       "    </tr>\n",
       "    <tr>\n",
       "      <th>20265</th>\n",
       "      <td>وبدأ العد التنازلي</td>\n",
       "      <td>للتحميل</td>\n",
       "      <td>1</td>\n",
       "    </tr>\n",
       "  </tbody>\n",
       "</table>\n",
       "</div>"
      ],
      "text/plain": [
       "                                 book_title book_desc  length\n",
       "36245                   منخفض الهند الموسمي     رواية       1\n",
       "19936  diary of a wimpy kid: #1-5 [box set]      name       1\n",
       "19985                              ضربة شمس    مقالات       1\n",
       "45697      valkyrie: the vampire princess 2  sinopsis       1\n",
       "20265                    وبدأ العد التنازلي   للتحميل       1"
      ]
     },
     "execution_count": 23,
     "metadata": {},
     "output_type": "execute_result"
    }
   ],
   "source": [
    "eda_data.dropna(subset=[\"book_desc\"], inplace=True)\n",
    "\n",
    "eda_data[eda_data.length.isin(range(0,4))][[\"book_title\", \"book_desc\", \"length\"]]\\\n",
    ".sort_values(by=[\"length\"], ascending=True).head()"
   ]
  },
  {
   "cell_type": "code",
   "execution_count": 24,
   "id": "8227021d-97cf-4020-b0cc-39cf48992135",
   "metadata": {
    "colab": {
     "base_uri": "https://localhost:8080/"
    },
    "executionInfo": {
     "elapsed": 103,
     "status": "ok",
     "timestamp": 1677472670549,
     "user": {
      "displayName": "Trang Thuy",
      "userId": "00606403752895192854"
     },
     "user_tz": 300
    },
    "id": "8227021d-97cf-4020-b0cc-39cf48992135",
    "outputId": "793a2f9c-eb39-40ec-b69c-841341e12611"
   },
   "outputs": [
    {
     "name": "stdout",
     "output_type": "stream",
     "text": [
      "{'hardcover book', 'second edition', 'رابط التحميل', 'in the dark', 'biblioteca contemporanea', 'blogs journal book', 'west östlicher divan', 'georgously green', 'sleeping arrangements', 'book by', '7 مجلدات', 'rare book', 'شعر', 'the divide', 'divine justice', 'ألبوم أجتماعى ساخر', '14 مجلد', 'science fiction', 'paranormal romance', 'baryshnya krestyanka', 'religious', 'dora little hans', 'indecent exposure', 'ποιητική συλλογή', 'corambis', 'مقالات', 'أشعار بالعامية المصرية', 'the fourth protocol', 'شعر عامية', 'translation', 'paper towns', 'سفر نامه', 'مجموعه شعر رباعی', 'showtime', 'new', 'elvenblood halfblood chronicles', 'true story', 'fiction', 'i am ozzy', 'beachcombers a novel', 'the prince', 'تطوير الذات', 'a love story', 'update', 'gestalt therapy', '442pages poche broché', 'νεοελληνική ποίηση', 'historical fiction', 'دوره4جلدی', 'name', 'book', 'south beach diet', 'life in dauphiny', 'used acceptable', '0', 'winner', 'hardcoverno jacket', 'historical novel', 'out of print', 'رواية', 'the forever war', 'brimstone', 'sinopsis', 'رابط تحميل الكتاب', 'an assamese novel', 'colecţie columna', 'مسرحية', 'science fiction novel', 'the enchanted places', 'holes', 'مجموعة قصصية', 'داستانهای فارسی', 'trade paperback collection', 'kindle', 'broken vows', 'raising jake', 'novel', 'written in japanese', '1939 translation', 'the gypsy morph', 'للتحميل', 'japanese edition', 'a civil action'}\n"
     ]
    }
   ],
   "source": [
    "print(set(eda_data.book_desc[eda_data.length.isin(range(0,4))]))"
   ]
  },
  {
   "cell_type": "code",
   "execution_count": 25,
   "id": "bd412510-10ca-4a4f-bc25-869fac070bf8",
   "metadata": {
    "colab": {
     "base_uri": "https://localhost:8080/"
    },
    "executionInfo": {
     "elapsed": 92,
     "status": "ok",
     "timestamp": 1677472670550,
     "user": {
      "displayName": "Trang Thuy",
      "userId": "00606403752895192854"
     },
     "user_tz": 300
    },
    "id": "bd412510-10ca-4a4f-bc25-869fac070bf8",
    "outputId": "9d5f6cda-9f2b-4bba-b406-89f0a7dcea82"
   },
   "outputs": [
    {
     "name": "stdout",
     "output_type": "stream",
     "text": [
      "0\n"
     ]
    }
   ],
   "source": [
    "# Drop records with very short description\n",
    "eda_data.drop(eda_data.index[eda_data.length.isin(range(0,4))], inplace = True)\n",
    "print(eda_data[eda_data.length.isin(range(0,4))].shape[0])\n",
    "del eda_data[\"length\"]"
   ]
  },
  {
   "cell_type": "code",
   "execution_count": 26,
   "id": "5eb56f9d",
   "metadata": {
    "colab": {
     "base_uri": "https://localhost:8080/",
     "height": 617
    },
    "executionInfo": {
     "elapsed": 26,
     "status": "ok",
     "timestamp": 1677472670558,
     "user": {
      "displayName": "Trang Thuy",
      "userId": "00606403752895192854"
     },
     "user_tz": 300
    },
    "id": "5eb56f9d",
    "outputId": "d08c0ea0-3255-47a3-aa56-cc08100ee297"
   },
   "outputs": [
    {
     "data": {
      "text/html": [
       "<div>\n",
       "<style scoped>\n",
       "    .dataframe tbody tr th:only-of-type {\n",
       "        vertical-align: middle;\n",
       "    }\n",
       "\n",
       "    .dataframe tbody tr th {\n",
       "        vertical-align: top;\n",
       "    }\n",
       "\n",
       "    .dataframe thead th {\n",
       "        text-align: right;\n",
       "    }\n",
       "</style>\n",
       "<table border=\"1\" class=\"dataframe\">\n",
       "  <thead>\n",
       "    <tr style=\"text-align: right;\">\n",
       "      <th></th>\n",
       "      <th>book_authors</th>\n",
       "      <th>book_desc</th>\n",
       "      <th>book_edition</th>\n",
       "      <th>book_format</th>\n",
       "      <th>book_isbn</th>\n",
       "      <th>book_pages</th>\n",
       "      <th>book_rating</th>\n",
       "      <th>book_rating_count</th>\n",
       "      <th>book_title</th>\n",
       "      <th>genres</th>\n",
       "      <th>image_url</th>\n",
       "      <th>book_authors_init</th>\n",
       "      <th>book_title_init</th>\n",
       "    </tr>\n",
       "  </thead>\n",
       "  <tbody>\n",
       "    <tr>\n",
       "      <th>0</th>\n",
       "      <td>suzanne collins</td>\n",
       "      <td>winning will make you famous losing means cert...</td>\n",
       "      <td>NaN</td>\n",
       "      <td>Hardcover</td>\n",
       "      <td>9.78044E+12</td>\n",
       "      <td>374 pages</td>\n",
       "      <td>4.33</td>\n",
       "      <td>5519135</td>\n",
       "      <td>the hunger games</td>\n",
       "      <td>Young Adult|Fiction|Science Fiction|Dystopia|F...</td>\n",
       "      <td>https://images.gr-assets.com/books/1447303603l...</td>\n",
       "      <td>Suzanne Collins</td>\n",
       "      <td>The Hunger Games</td>\n",
       "    </tr>\n",
       "    <tr>\n",
       "      <th>1</th>\n",
       "      <td>j.k. rowling|mary grandpré</td>\n",
       "      <td>there is a door at the end of a silent corrido...</td>\n",
       "      <td>US Edition</td>\n",
       "      <td>Paperback</td>\n",
       "      <td>9.78044E+12</td>\n",
       "      <td>870 pages</td>\n",
       "      <td>4.48</td>\n",
       "      <td>2041594</td>\n",
       "      <td>harry potter and the order of the phoenix</td>\n",
       "      <td>Fantasy|Young Adult|Fiction</td>\n",
       "      <td>https://images.gr-assets.com/books/1255614970l...</td>\n",
       "      <td>J.K. Rowling|Mary GrandPré</td>\n",
       "      <td>Harry Potter and the Order of the Phoenix</td>\n",
       "    </tr>\n",
       "    <tr>\n",
       "      <th>2</th>\n",
       "      <td>harper lee</td>\n",
       "      <td>the unforgettable novel of a childhood in a sl...</td>\n",
       "      <td>50th Anniversary</td>\n",
       "      <td>Paperback</td>\n",
       "      <td>9.78006E+12</td>\n",
       "      <td>324 pages</td>\n",
       "      <td>4.27</td>\n",
       "      <td>3745197</td>\n",
       "      <td>to kill a mockingbird</td>\n",
       "      <td>Classics|Fiction|Historical|Historical Fiction...</td>\n",
       "      <td>https://images.gr-assets.com/books/1361975680l...</td>\n",
       "      <td>Harper Lee</td>\n",
       "      <td>To Kill a Mockingbird</td>\n",
       "    </tr>\n",
       "    <tr>\n",
       "      <th>3</th>\n",
       "      <td>jane austen|anna quindlen|mrs. oliphant|george...</td>\n",
       "      <td>è cosa ormai risaputa che a uno scapolo in pos...</td>\n",
       "      <td>Modern Library Classics, USA / CAN</td>\n",
       "      <td>Paperback</td>\n",
       "      <td>9.78068E+12</td>\n",
       "      <td>279 pages</td>\n",
       "      <td>4.25</td>\n",
       "      <td>2453620</td>\n",
       "      <td>pride and prejudice</td>\n",
       "      <td>Classics|Fiction|Romance</td>\n",
       "      <td>https://images.gr-assets.com/books/1320399351l...</td>\n",
       "      <td>Jane Austen|Anna Quindlen|Mrs. Oliphant|George...</td>\n",
       "      <td>Pride and Prejudice</td>\n",
       "    </tr>\n",
       "    <tr>\n",
       "      <th>4</th>\n",
       "      <td>stephenie meyer</td>\n",
       "      <td>about three things i was absolutely positive f...</td>\n",
       "      <td>NaN</td>\n",
       "      <td>Paperback</td>\n",
       "      <td>9.78032E+12</td>\n",
       "      <td>498 pages</td>\n",
       "      <td>3.58</td>\n",
       "      <td>4281268</td>\n",
       "      <td>twilight</td>\n",
       "      <td>Young Adult|Fantasy|Romance|Paranormal|Vampire...</td>\n",
       "      <td>https://images.gr-assets.com/books/1361039443l...</td>\n",
       "      <td>Stephenie Meyer</td>\n",
       "      <td>Twilight</td>\n",
       "    </tr>\n",
       "  </tbody>\n",
       "</table>\n",
       "</div>"
      ],
      "text/plain": [
       "                                        book_authors  \\\n",
       "0                                    suzanne collins   \n",
       "1                         j.k. rowling|mary grandpré   \n",
       "2                                         harper lee   \n",
       "3  jane austen|anna quindlen|mrs. oliphant|george...   \n",
       "4                                    stephenie meyer   \n",
       "\n",
       "                                           book_desc  \\\n",
       "0  winning will make you famous losing means cert...   \n",
       "1  there is a door at the end of a silent corrido...   \n",
       "2  the unforgettable novel of a childhood in a sl...   \n",
       "3  è cosa ormai risaputa che a uno scapolo in pos...   \n",
       "4  about three things i was absolutely positive f...   \n",
       "\n",
       "                         book_edition book_format    book_isbn book_pages  \\\n",
       "0                                 NaN   Hardcover  9.78044E+12  374 pages   \n",
       "1                          US Edition   Paperback  9.78044E+12  870 pages   \n",
       "2                    50th Anniversary   Paperback  9.78006E+12  324 pages   \n",
       "3  Modern Library Classics, USA / CAN   Paperback  9.78068E+12  279 pages   \n",
       "4                                 NaN   Paperback  9.78032E+12  498 pages   \n",
       "\n",
       "   book_rating  book_rating_count                                 book_title  \\\n",
       "0         4.33            5519135                           the hunger games   \n",
       "1         4.48            2041594  harry potter and the order of the phoenix   \n",
       "2         4.27            3745197                      to kill a mockingbird   \n",
       "3         4.25            2453620                        pride and prejudice   \n",
       "4         3.58            4281268                                   twilight   \n",
       "\n",
       "                                              genres  \\\n",
       "0  Young Adult|Fiction|Science Fiction|Dystopia|F...   \n",
       "1                        Fantasy|Young Adult|Fiction   \n",
       "2  Classics|Fiction|Historical|Historical Fiction...   \n",
       "3                           Classics|Fiction|Romance   \n",
       "4  Young Adult|Fantasy|Romance|Paranormal|Vampire...   \n",
       "\n",
       "                                           image_url  \\\n",
       "0  https://images.gr-assets.com/books/1447303603l...   \n",
       "1  https://images.gr-assets.com/books/1255614970l...   \n",
       "2  https://images.gr-assets.com/books/1361975680l...   \n",
       "3  https://images.gr-assets.com/books/1320399351l...   \n",
       "4  https://images.gr-assets.com/books/1361039443l...   \n",
       "\n",
       "                                   book_authors_init  \\\n",
       "0                                    Suzanne Collins   \n",
       "1                         J.K. Rowling|Mary GrandPré   \n",
       "2                                         Harper Lee   \n",
       "3  Jane Austen|Anna Quindlen|Mrs. Oliphant|George...   \n",
       "4                                    Stephenie Meyer   \n",
       "\n",
       "                             book_title_init  \n",
       "0                           The Hunger Games  \n",
       "1  Harry Potter and the Order of the Phoenix  \n",
       "2                      To Kill a Mockingbird  \n",
       "3                        Pride and Prejudice  \n",
       "4                                   Twilight  "
      ]
     },
     "execution_count": 26,
     "metadata": {},
     "output_type": "execute_result"
    }
   ],
   "source": [
    "eda_data.head()"
   ]
  },
  {
   "cell_type": "markdown",
   "id": "0c3fbd4c",
   "metadata": {},
   "source": [
    "### Detecting languages "
   ]
  },
  {
   "cell_type": "code",
   "execution_count": 27,
   "id": "e6d3a0b9",
   "metadata": {},
   "outputs": [
    {
     "name": "stderr",
     "output_type": "stream",
     "text": [
      "Warning : `load_model` does not return WordVectorModel or SupervisedModel any more, but a `FastText` object which is very similar.\n"
     ]
    }
   ],
   "source": [
    "## Detecting languages using FastText pre-trained model\n",
    "ft_model = fasttext.load_model('temp/lid.176.ftz')\n",
    "\n",
    "def detector(text):\n",
    "    if not text:\n",
    "        return \"\"\n",
    "    return ft_model.predict(text, k=1)[0][0].split(\"__label__\")[1]\n",
    "eda_data[\"language\"] = eda_data[\"book_desc\"].apply(detector)"
   ]
  },
  {
   "cell_type": "code",
   "execution_count": 28,
   "id": "15999571",
   "metadata": {},
   "outputs": [
    {
     "data": {
      "text/plain": [
       "array(['en', 'it', 'ar', 'es', 'fa', 'de', 'pl', 'nl', 'ru', 'fr', 'id',\n",
       "       'pt', 'bg', 'ja', 'tr', 'hr', 'hu', 'no', 'sv', 'fi', 'ro', 'el',\n",
       "       'cs', 'sr', 'da', 'tl', 'et', 'vi', 'sk', 'ka', 'hi', 'ne', 'sl',\n",
       "       'ur', 'bn', 'ms', 'sh', 'lt', 'ca', 'eu', 'mk', 'ta', 'ml', 'zh',\n",
       "       'arz', 'uz', 'mn', 'ko', 'lv', 'am', 'mr', 'uk', 'is', 'sq', 'hy',\n",
       "       'gl', 'kw', 'ceb', 'nn'], dtype=object)"
      ]
     },
     "execution_count": 28,
     "metadata": {},
     "output_type": "execute_result"
    }
   ],
   "source": [
    "#display(eda_data)\n",
    "# shows all remaining languages\n",
    "eda_data[\"language\"].unique()"
   ]
  },
  {
   "cell_type": "code",
   "execution_count": 29,
   "id": "e551c924",
   "metadata": {},
   "outputs": [
    {
     "data": {
      "image/png": "[encoded data removed]",
      "text/plain": [
       "<Figure size 1080x576 with 1 Axes>"
      ]
     },
     "metadata": {
      "needs_background": "light"
     },
     "output_type": "display_data"
    }
   ],
   "source": [
    "# Some data analysis here\n",
    "from matplotlib import pyplot as plt\n",
    "import seaborn as sns\n",
    "plt.figure(figsize=(15,8))\n",
    "ax = sns.countplot(x=\"language\",data=eda_data)"
   ]
  },
  {
   "cell_type": "code",
   "execution_count": 30,
   "id": "6d38ed73",
   "metadata": {},
   "outputs": [
    {
     "data": {
      "text/html": [
       "<div>\n",
       "<style scoped>\n",
       "    .dataframe tbody tr th:only-of-type {\n",
       "        vertical-align: middle;\n",
       "    }\n",
       "\n",
       "    .dataframe tbody tr th {\n",
       "        vertical-align: top;\n",
       "    }\n",
       "\n",
       "    .dataframe thead th {\n",
       "        text-align: right;\n",
       "    }\n",
       "</style>\n",
       "<table border=\"1\" class=\"dataframe\">\n",
       "  <thead>\n",
       "    <tr style=\"text-align: right;\">\n",
       "      <th></th>\n",
       "      <th>book_authors</th>\n",
       "      <th>book_desc</th>\n",
       "      <th>book_edition</th>\n",
       "      <th>book_format</th>\n",
       "      <th>book_isbn</th>\n",
       "      <th>book_pages</th>\n",
       "      <th>book_rating</th>\n",
       "      <th>book_rating_count</th>\n",
       "      <th>book_title</th>\n",
       "      <th>genres</th>\n",
       "      <th>image_url</th>\n",
       "      <th>book_authors_init</th>\n",
       "      <th>book_title_init</th>\n",
       "      <th>language</th>\n",
       "    </tr>\n",
       "  </thead>\n",
       "  <tbody>\n",
       "    <tr>\n",
       "      <th>0</th>\n",
       "      <td>suzanne collins</td>\n",
       "      <td>winning will make you famous losing means cert...</td>\n",
       "      <td>NaN</td>\n",
       "      <td>Hardcover</td>\n",
       "      <td>9.78044E+12</td>\n",
       "      <td>374 pages</td>\n",
       "      <td>4.33</td>\n",
       "      <td>5519135</td>\n",
       "      <td>the hunger games</td>\n",
       "      <td>Young Adult|Fiction|Science Fiction|Dystopia|F...</td>\n",
       "      <td>https://images.gr-assets.com/books/1447303603l...</td>\n",
       "      <td>Suzanne Collins</td>\n",
       "      <td>The Hunger Games</td>\n",
       "      <td>en</td>\n",
       "    </tr>\n",
       "    <tr>\n",
       "      <th>1</th>\n",
       "      <td>j.k. rowling|mary grandpré</td>\n",
       "      <td>there is a door at the end of a silent corrido...</td>\n",
       "      <td>US Edition</td>\n",
       "      <td>Paperback</td>\n",
       "      <td>9.78044E+12</td>\n",
       "      <td>870 pages</td>\n",
       "      <td>4.48</td>\n",
       "      <td>2041594</td>\n",
       "      <td>harry potter and the order of the phoenix</td>\n",
       "      <td>Fantasy|Young Adult|Fiction</td>\n",
       "      <td>https://images.gr-assets.com/books/1255614970l...</td>\n",
       "      <td>J.K. Rowling|Mary GrandPré</td>\n",
       "      <td>Harry Potter and the Order of the Phoenix</td>\n",
       "      <td>en</td>\n",
       "    </tr>\n",
       "    <tr>\n",
       "      <th>2</th>\n",
       "      <td>harper lee</td>\n",
       "      <td>the unforgettable novel of a childhood in a sl...</td>\n",
       "      <td>50th Anniversary</td>\n",
       "      <td>Paperback</td>\n",
       "      <td>9.78006E+12</td>\n",
       "      <td>324 pages</td>\n",
       "      <td>4.27</td>\n",
       "      <td>3745197</td>\n",
       "      <td>to kill a mockingbird</td>\n",
       "      <td>Classics|Fiction|Historical|Historical Fiction...</td>\n",
       "      <td>https://images.gr-assets.com/books/1361975680l...</td>\n",
       "      <td>Harper Lee</td>\n",
       "      <td>To Kill a Mockingbird</td>\n",
       "      <td>en</td>\n",
       "    </tr>\n",
       "    <tr>\n",
       "      <th>4</th>\n",
       "      <td>stephenie meyer</td>\n",
       "      <td>about three things i was absolutely positive f...</td>\n",
       "      <td>NaN</td>\n",
       "      <td>Paperback</td>\n",
       "      <td>9.78032E+12</td>\n",
       "      <td>498 pages</td>\n",
       "      <td>3.58</td>\n",
       "      <td>4281268</td>\n",
       "      <td>twilight</td>\n",
       "      <td>Young Adult|Fantasy|Romance|Paranormal|Vampire...</td>\n",
       "      <td>https://images.gr-assets.com/books/1361039443l...</td>\n",
       "      <td>Stephenie Meyer</td>\n",
       "      <td>Twilight</td>\n",
       "      <td>en</td>\n",
       "    </tr>\n",
       "    <tr>\n",
       "      <th>5</th>\n",
       "      <td>markus zusak</td>\n",
       "      <td>trying to make sense of the horrors of world w...</td>\n",
       "      <td>First American Edition (US / CAN)</td>\n",
       "      <td>Hardcover</td>\n",
       "      <td>9.78038E+12</td>\n",
       "      <td>552 pages</td>\n",
       "      <td>4.36</td>\n",
       "      <td>1485632</td>\n",
       "      <td>the book thief</td>\n",
       "      <td>Historical|Historical Fiction|Fiction|Young Adult</td>\n",
       "      <td>https://images.gr-assets.com/books/1522157426l...</td>\n",
       "      <td>Markus Zusak</td>\n",
       "      <td>The Book Thief</td>\n",
       "      <td>en</td>\n",
       "    </tr>\n",
       "    <tr>\n",
       "      <th>...</th>\n",
       "      <td>...</td>\n",
       "      <td>...</td>\n",
       "      <td>...</td>\n",
       "      <td>...</td>\n",
       "      <td>...</td>\n",
       "      <td>...</td>\n",
       "      <td>...</td>\n",
       "      <td>...</td>\n",
       "      <td>...</td>\n",
       "      <td>...</td>\n",
       "      <td>...</td>\n",
       "      <td>...</td>\n",
       "      <td>...</td>\n",
       "      <td>...</td>\n",
       "    </tr>\n",
       "    <tr>\n",
       "      <th>54295</th>\n",
       "      <td>avi steinberg</td>\n",
       "      <td>avi steinberg is stumped after defecting from ...</td>\n",
       "      <td>NaN</td>\n",
       "      <td>Hardcover</td>\n",
       "      <td>9.78039E+12</td>\n",
       "      <td>399 pages</td>\n",
       "      <td>3.51</td>\n",
       "      <td>3717</td>\n",
       "      <td>running the books: the adventures of an accide...</td>\n",
       "      <td>Nonfiction|Autobiography|Memoir|Biography|Writ...</td>\n",
       "      <td>https://images.gr-assets.com/books/1320533033l...</td>\n",
       "      <td>Avi Steinberg</td>\n",
       "      <td>Running the Books: The Adventures of an Accide...</td>\n",
       "      <td>en</td>\n",
       "    </tr>\n",
       "    <tr>\n",
       "      <th>54296</th>\n",
       "      <td>howard megdal</td>\n",
       "      <td>in this fearless and half crazy story howard m...</td>\n",
       "      <td>NaN</td>\n",
       "      <td>Hardcover</td>\n",
       "      <td>9.78161E+12</td>\n",
       "      <td>256 pages</td>\n",
       "      <td>3.37</td>\n",
       "      <td>27</td>\n",
       "      <td>taking the field: a fan's quest to run the tea...</td>\n",
       "      <td>Sports|Baseball|Sports and Games|Sports|Nonfic...</td>\n",
       "      <td>https://images.gr-assets.com/books/1312074392l...</td>\n",
       "      <td>Howard Megdal</td>\n",
       "      <td>Taking the Field: A Fan's Quest to Run the Tea...</td>\n",
       "      <td>en</td>\n",
       "    </tr>\n",
       "    <tr>\n",
       "      <th>54297</th>\n",
       "      <td>howard megdal</td>\n",
       "      <td>from the icons of the game to the players who ...</td>\n",
       "      <td>NaN</td>\n",
       "      <td>Hardcover</td>\n",
       "      <td>9.78006E+12</td>\n",
       "      <td>256 pages</td>\n",
       "      <td>3.97</td>\n",
       "      <td>34</td>\n",
       "      <td>the baseball talmud: koufax, greenberg, and th...</td>\n",
       "      <td>Nonfiction|Sports and Games|Sports</td>\n",
       "      <td>https://images.gr-assets.com/books/1348841629l...</td>\n",
       "      <td>Howard Megdal</td>\n",
       "      <td>The Baseball Talmud: Koufax, Greenberg, and th...</td>\n",
       "      <td>en</td>\n",
       "    </tr>\n",
       "    <tr>\n",
       "      <th>54299</th>\n",
       "      <td>mimi baird|eve claxton</td>\n",
       "      <td>soon to be a major motion picture from brad pi...</td>\n",
       "      <td>NaN</td>\n",
       "      <td>Hardcover</td>\n",
       "      <td>9.7808E+12</td>\n",
       "      <td>272 pages</td>\n",
       "      <td>3.82</td>\n",
       "      <td>867</td>\n",
       "      <td>he wanted the moon: the madness and medical ge...</td>\n",
       "      <td>Nonfiction|Autobiography|Memoir|Biography|Psyc...</td>\n",
       "      <td>https://images.gr-assets.com/books/1403192135l...</td>\n",
       "      <td>Mimi Baird|Eve Claxton</td>\n",
       "      <td>He Wanted the Moon: The Madness and Medical Ge...</td>\n",
       "      <td>en</td>\n",
       "    </tr>\n",
       "    <tr>\n",
       "      <th>54300</th>\n",
       "      <td>leah price</td>\n",
       "      <td>the anthology and the rise of the novel brings...</td>\n",
       "      <td>NaN</td>\n",
       "      <td>Paperback</td>\n",
       "      <td>9.78052E+12</td>\n",
       "      <td>236 pages</td>\n",
       "      <td>3.58</td>\n",
       "      <td>12</td>\n",
       "      <td>the anthology and the rise of the novel: from ...</td>\n",
       "      <td>Criticism|Literary Criticism|Philosophy|Theory...</td>\n",
       "      <td>https://images.gr-assets.com/books/1349014225l...</td>\n",
       "      <td>Leah Price</td>\n",
       "      <td>The Anthology and the Rise of the Novel: From ...</td>\n",
       "      <td>en</td>\n",
       "    </tr>\n",
       "  </tbody>\n",
       "</table>\n",
       "<p>45977 rows × 14 columns</p>\n",
       "</div>"
      ],
      "text/plain": [
       "                     book_authors  \\\n",
       "0                 suzanne collins   \n",
       "1      j.k. rowling|mary grandpré   \n",
       "2                      harper lee   \n",
       "4                 stephenie meyer   \n",
       "5                    markus zusak   \n",
       "...                           ...   \n",
       "54295               avi steinberg   \n",
       "54296               howard megdal   \n",
       "54297               howard megdal   \n",
       "54299      mimi baird|eve claxton   \n",
       "54300                  leah price   \n",
       "\n",
       "                                               book_desc  \\\n",
       "0      winning will make you famous losing means cert...   \n",
       "1      there is a door at the end of a silent corrido...   \n",
       "2      the unforgettable novel of a childhood in a sl...   \n",
       "4      about three things i was absolutely positive f...   \n",
       "5      trying to make sense of the horrors of world w...   \n",
       "...                                                  ...   \n",
       "54295  avi steinberg is stumped after defecting from ...   \n",
       "54296  in this fearless and half crazy story howard m...   \n",
       "54297  from the icons of the game to the players who ...   \n",
       "54299  soon to be a major motion picture from brad pi...   \n",
       "54300  the anthology and the rise of the novel brings...   \n",
       "\n",
       "                            book_edition book_format    book_isbn book_pages  \\\n",
       "0                                    NaN   Hardcover  9.78044E+12  374 pages   \n",
       "1                             US Edition   Paperback  9.78044E+12  870 pages   \n",
       "2                       50th Anniversary   Paperback  9.78006E+12  324 pages   \n",
       "4                                    NaN   Paperback  9.78032E+12  498 pages   \n",
       "5      First American Edition (US / CAN)   Hardcover  9.78038E+12  552 pages   \n",
       "...                                  ...         ...          ...        ...   \n",
       "54295                                NaN   Hardcover  9.78039E+12  399 pages   \n",
       "54296                                NaN   Hardcover  9.78161E+12  256 pages   \n",
       "54297                                NaN   Hardcover  9.78006E+12  256 pages   \n",
       "54299                                NaN   Hardcover   9.7808E+12  272 pages   \n",
       "54300                                NaN   Paperback  9.78052E+12  236 pages   \n",
       "\n",
       "       book_rating  book_rating_count  \\\n",
       "0             4.33            5519135   \n",
       "1             4.48            2041594   \n",
       "2             4.27            3745197   \n",
       "4             3.58            4281268   \n",
       "5             4.36            1485632   \n",
       "...            ...                ...   \n",
       "54295         3.51               3717   \n",
       "54296         3.37                 27   \n",
       "54297         3.97                 34   \n",
       "54299         3.82                867   \n",
       "54300         3.58                 12   \n",
       "\n",
       "                                              book_title  \\\n",
       "0                                       the hunger games   \n",
       "1              harry potter and the order of the phoenix   \n",
       "2                                  to kill a mockingbird   \n",
       "4                                               twilight   \n",
       "5                                         the book thief   \n",
       "...                                                  ...   \n",
       "54295  running the books: the adventures of an accide...   \n",
       "54296  taking the field: a fan's quest to run the tea...   \n",
       "54297  the baseball talmud: koufax, greenberg, and th...   \n",
       "54299  he wanted the moon: the madness and medical ge...   \n",
       "54300  the anthology and the rise of the novel: from ...   \n",
       "\n",
       "                                                  genres  \\\n",
       "0      Young Adult|Fiction|Science Fiction|Dystopia|F...   \n",
       "1                            Fantasy|Young Adult|Fiction   \n",
       "2      Classics|Fiction|Historical|Historical Fiction...   \n",
       "4      Young Adult|Fantasy|Romance|Paranormal|Vampire...   \n",
       "5      Historical|Historical Fiction|Fiction|Young Adult   \n",
       "...                                                  ...   \n",
       "54295  Nonfiction|Autobiography|Memoir|Biography|Writ...   \n",
       "54296  Sports|Baseball|Sports and Games|Sports|Nonfic...   \n",
       "54297                 Nonfiction|Sports and Games|Sports   \n",
       "54299  Nonfiction|Autobiography|Memoir|Biography|Psyc...   \n",
       "54300  Criticism|Literary Criticism|Philosophy|Theory...   \n",
       "\n",
       "                                               image_url  \\\n",
       "0      https://images.gr-assets.com/books/1447303603l...   \n",
       "1      https://images.gr-assets.com/books/1255614970l...   \n",
       "2      https://images.gr-assets.com/books/1361975680l...   \n",
       "4      https://images.gr-assets.com/books/1361039443l...   \n",
       "5      https://images.gr-assets.com/books/1522157426l...   \n",
       "...                                                  ...   \n",
       "54295  https://images.gr-assets.com/books/1320533033l...   \n",
       "54296  https://images.gr-assets.com/books/1312074392l...   \n",
       "54297  https://images.gr-assets.com/books/1348841629l...   \n",
       "54299  https://images.gr-assets.com/books/1403192135l...   \n",
       "54300  https://images.gr-assets.com/books/1349014225l...   \n",
       "\n",
       "                book_authors_init  \\\n",
       "0                 Suzanne Collins   \n",
       "1      J.K. Rowling|Mary GrandPré   \n",
       "2                      Harper Lee   \n",
       "4                 Stephenie Meyer   \n",
       "5                    Markus Zusak   \n",
       "...                           ...   \n",
       "54295               Avi Steinberg   \n",
       "54296               Howard Megdal   \n",
       "54297               Howard Megdal   \n",
       "54299      Mimi Baird|Eve Claxton   \n",
       "54300                  Leah Price   \n",
       "\n",
       "                                         book_title_init language  \n",
       "0                                       The Hunger Games       en  \n",
       "1              Harry Potter and the Order of the Phoenix       en  \n",
       "2                                  To Kill a Mockingbird       en  \n",
       "4                                               Twilight       en  \n",
       "5                                         The Book Thief       en  \n",
       "...                                                  ...      ...  \n",
       "54295  Running the Books: The Adventures of an Accide...       en  \n",
       "54296  Taking the Field: A Fan's Quest to Run the Tea...       en  \n",
       "54297  The Baseball Talmud: Koufax, Greenberg, and th...       en  \n",
       "54299  He Wanted the Moon: The Madness and Medical Ge...       en  \n",
       "54300  The Anthology and the Rise of the Novel: From ...       en  \n",
       "\n",
       "[45977 rows x 14 columns]"
      ]
     },
     "execution_count": 30,
     "metadata": {},
     "output_type": "execute_result"
    }
   ],
   "source": [
    "# we have 45,977 English books\n",
    "eda_data.loc[eda_data['language'] == 'en']"
   ]
  },
  {
   "cell_type": "code",
   "execution_count": 31,
   "id": "1c9b845f",
   "metadata": {},
   "outputs": [],
   "source": [
    "## Remove all except eng books\n",
    "eda_data = eda_data.query(\"language == 'en'\")\n",
    "eda_data = eda_data.drop(\"language\", axis=1)"
   ]
  },
  {
   "cell_type": "code",
   "execution_count": 32,
   "id": "64369ce0",
   "metadata": {},
   "outputs": [
    {
     "data": {
      "text/plain": [
       "(45977, 13)"
      ]
     },
     "execution_count": 32,
     "metadata": {},
     "output_type": "execute_result"
    }
   ],
   "source": [
    "eda_data.shape"
   ]
  },
  {
   "cell_type": "markdown",
   "id": "25228e87-2b54-4f3b-ad63-a5baadfb11c5",
   "metadata": {
    "id": "25228e87-2b54-4f3b-ad63-a5baadfb11c5"
   },
   "source": [
    "---\n",
    "### Find if there is duplication of rows/features"
   ]
  },
  {
   "cell_type": "code",
   "execution_count": 33,
   "id": "af36a971-7b0d-40ac-9aff-8f9a2eac7775",
   "metadata": {
    "colab": {
     "base_uri": "https://localhost:8080/"
    },
    "executionInfo": {
     "elapsed": 270,
     "status": "ok",
     "timestamp": 1677472670805,
     "user": {
      "displayName": "Trang Thuy",
      "userId": "00606403752895192854"
     },
     "user_tz": 300
    },
    "id": "af36a971-7b0d-40ac-9aff-8f9a2eac7775",
    "outputId": "09ede951-12d9-4587-ed85-33cdc13288a3",
    "tags": []
   },
   "outputs": [
    {
     "data": {
      "text/plain": [
       "0"
      ]
     },
     "execution_count": 33,
     "metadata": {},
     "output_type": "execute_result"
    }
   ],
   "source": [
    "# Find number of duplicated rows\n",
    "eda_data[eda_data.duplicated()==True].shape[0]"
   ]
  },
  {
   "cell_type": "code",
   "execution_count": 34,
   "id": "735c97b2",
   "metadata": {},
   "outputs": [
    {
     "data": {
      "text/plain": [
       "0"
      ]
     },
     "execution_count": 34,
     "metadata": {},
     "output_type": "execute_result"
    }
   ],
   "source": [
    "# Remove all but the first occurence\n",
    "eda_data = eda_data.drop_duplicates()\n",
    "\n",
    "eda_data[eda_data.duplicated()==True].shape[0]"
   ]
  },
  {
   "cell_type": "code",
   "execution_count": 35,
   "id": "6641dcf3-5725-49b3-a52f-ad72e0e0cd6d",
   "metadata": {
    "colab": {
     "base_uri": "https://localhost:8080/"
    },
    "executionInfo": {
     "elapsed": 16,
     "status": "ok",
     "timestamp": 1677472670806,
     "user": {
      "displayName": "Trang Thuy",
      "userId": "00606403752895192854"
     },
     "user_tz": 300
    },
    "id": "6641dcf3-5725-49b3-a52f-ad72e0e0cd6d",
    "outputId": "85cd50ef-f4e5-44bc-db8b-d1af235ef7bb"
   },
   "outputs": [
    {
     "data": {
      "text/plain": [
       "book_authors         23732\n",
       "book_desc             1258\n",
       "book_edition         44606\n",
       "book_format          45869\n",
       "book_isbn            45575\n",
       "book_pages           44659\n",
       "book_rating          45727\n",
       "book_rating_count    25934\n",
       "book_title            5535\n",
       "genres               18801\n",
       "image_url              371\n",
       "book_authors_init    23732\n",
       "book_title_init       5371\n",
       "dtype: int64"
      ]
     },
     "execution_count": 35,
     "metadata": {},
     "output_type": "execute_result"
    }
   ],
   "source": [
    "# Find number of duplicated values of each feature\n",
    "eda_data.shape[0] - eda_data.nunique()"
   ]
  },
  {
   "cell_type": "markdown",
   "id": "b8f52bf9-ae50-4899-b52e-10329d85231a",
   "metadata": {
    "id": "b8f52bf9-ae50-4899-b52e-10329d85231a"
   },
   "source": [
    "---\n",
    "### Drop variants of the same book\n",
    "- We see that some descriptions are repeated this possibly could be due to different versions of the same book. ISBN has missing values. Repeated values in Authors, Publisher can help in book recommedation. \n",
    "- We see that same books have different ISBN because an ISBN is assigned to each separate edition and variation of a publication. ISBN is like an identity number for each edition, imprint, impression or version of the same book. For example, an e-book, a paperback and a hardcover edition of the same book will each have a different ISBN (except reprintings).\n",
    "- Only keep the first occurrence and delete rest."
   ]
  },
  {
   "cell_type": "code",
   "execution_count": 36,
   "id": "539117f3-0a8f-474f-bb9a-cfff2fed9406",
   "metadata": {
    "colab": {
     "base_uri": "https://localhost:8080/",
     "height": 363
    },
    "executionInfo": {
     "elapsed": 239,
     "status": "ok",
     "timestamp": 1677472671032,
     "user": {
      "displayName": "Trang Thuy",
      "userId": "00606403752895192854"
     },
     "user_tz": 300
    },
    "id": "539117f3-0a8f-474f-bb9a-cfff2fed9406",
    "outputId": "8b02b78c-204e-4256-c70f-2619c4e8d1cb"
   },
   "outputs": [
    {
     "data": {
      "text/html": [
       "<div>\n",
       "<style scoped>\n",
       "    .dataframe tbody tr th:only-of-type {\n",
       "        vertical-align: middle;\n",
       "    }\n",
       "\n",
       "    .dataframe tbody tr th {\n",
       "        vertical-align: top;\n",
       "    }\n",
       "\n",
       "    .dataframe thead th {\n",
       "        text-align: right;\n",
       "    }\n",
       "</style>\n",
       "<table border=\"1\" class=\"dataframe\">\n",
       "  <thead>\n",
       "    <tr style=\"text-align: right;\">\n",
       "      <th></th>\n",
       "      <th>book_isbn</th>\n",
       "      <th>book_title</th>\n",
       "      <th>book_authors</th>\n",
       "      <th>book_desc</th>\n",
       "    </tr>\n",
       "  </thead>\n",
       "  <tbody>\n",
       "    <tr>\n",
       "      <th>1207</th>\n",
       "      <td>9.78141E+12</td>\n",
       "      <td>red queen</td>\n",
       "      <td>victoria aveyard</td>\n",
       "      <td>this is a world divided by blood red or silver...</td>\n",
       "    </tr>\n",
       "    <tr>\n",
       "      <th>1940</th>\n",
       "      <td>9.78014E+12</td>\n",
       "      <td>the grapes of wrath</td>\n",
       "      <td>john steinbeck</td>\n",
       "      <td>the pulitzer prize winning epic of the great d...</td>\n",
       "    </tr>\n",
       "    <tr>\n",
       "      <th>2039</th>\n",
       "      <td>9.78055E+12</td>\n",
       "      <td>gone girl</td>\n",
       "      <td>gillian flynn</td>\n",
       "      <td>on a warm summer morning in north carthage mis...</td>\n",
       "    </tr>\n",
       "    <tr>\n",
       "      <th>2088</th>\n",
       "      <td>9.7814E+12</td>\n",
       "      <td>memoirs of a geisha</td>\n",
       "      <td>arthur golden</td>\n",
       "      <td>a literary sensation and runaway bestseller th...</td>\n",
       "    </tr>\n",
       "    <tr>\n",
       "      <th>2248</th>\n",
       "      <td>9.78155E+12</td>\n",
       "      <td>for the love of armin</td>\n",
       "      <td>michael   kramer</td>\n",
       "      <td>in september of the year 9 a d the young germa...</td>\n",
       "    </tr>\n",
       "    <tr>\n",
       "      <th>2435</th>\n",
       "      <td>9.78159E+12</td>\n",
       "      <td>hollow city</td>\n",
       "      <td>ransom riggs</td>\n",
       "      <td>this second novel begins in 1940 immediately a...</td>\n",
       "    </tr>\n",
       "    <tr>\n",
       "      <th>2459</th>\n",
       "      <td>9.7816E+12</td>\n",
       "      <td>thirteen reasons why</td>\n",
       "      <td>jay asher</td>\n",
       "      <td>you can t stop the future you can t rewind the...</td>\n",
       "    </tr>\n",
       "    <tr>\n",
       "      <th>2759</th>\n",
       "      <td>NaN</td>\n",
       "      <td>american gods</td>\n",
       "      <td>neil gaiman</td>\n",
       "      <td>days before his release from prison shadow s w...</td>\n",
       "    </tr>\n",
       "    <tr>\n",
       "      <th>3018</th>\n",
       "      <td>9.78045E+12</td>\n",
       "      <td>it</td>\n",
       "      <td>stephen king</td>\n",
       "      <td>welcome to derry maine it s a small city a pla...</td>\n",
       "    </tr>\n",
       "    <tr>\n",
       "      <th>3355</th>\n",
       "      <td>9.7816E+12</td>\n",
       "      <td>vampire academy</td>\n",
       "      <td>richelle mead</td>\n",
       "      <td>only a true best friend can protect you from y...</td>\n",
       "    </tr>\n",
       "  </tbody>\n",
       "</table>\n",
       "</div>"
      ],
      "text/plain": [
       "        book_isbn             book_title      book_authors  \\\n",
       "1207  9.78141E+12              red queen  victoria aveyard   \n",
       "1940  9.78014E+12    the grapes of wrath    john steinbeck   \n",
       "2039  9.78055E+12              gone girl     gillian flynn   \n",
       "2088   9.7814E+12    memoirs of a geisha     arthur golden   \n",
       "2248  9.78155E+12  for the love of armin  michael   kramer   \n",
       "2435  9.78159E+12            hollow city      ransom riggs   \n",
       "2459   9.7816E+12   thirteen reasons why         jay asher   \n",
       "2759          NaN          american gods       neil gaiman   \n",
       "3018  9.78045E+12                     it      stephen king   \n",
       "3355   9.7816E+12        vampire academy     richelle mead   \n",
       "\n",
       "                                              book_desc  \n",
       "1207  this is a world divided by blood red or silver...  \n",
       "1940  the pulitzer prize winning epic of the great d...  \n",
       "2039  on a warm summer morning in north carthage mis...  \n",
       "2088  a literary sensation and runaway bestseller th...  \n",
       "2248  in september of the year 9 a d the young germa...  \n",
       "2435  this second novel begins in 1940 immediately a...  \n",
       "2459  you can t stop the future you can t rewind the...  \n",
       "2759  days before his release from prison shadow s w...  \n",
       "3018  welcome to derry maine it s a small city a pla...  \n",
       "3355  only a true best friend can protect you from y...  "
      ]
     },
     "execution_count": 36,
     "metadata": {},
     "output_type": "execute_result"
    }
   ],
   "source": [
    "# Convert unknown to NaN\n",
    "# eda_data[\"Publisher\"] = eda_data.Publisher.replace('unknown',np.nan)\n",
    "\n",
    "# Find books that have same Name, Author, Description and Publisher\n",
    "eda_data[eda_data.duplicated(subset=[\"book_title\", \"book_authors\", \"book_desc\"])][[\"book_isbn\", \"book_title\", \"book_authors\", \"book_desc\"]].head(10)"
   ]
  },
  {
   "cell_type": "code",
   "execution_count": 37,
   "id": "022f7a7a",
   "metadata": {},
   "outputs": [
    {
     "data": {
      "text/html": [
       "<div>\n",
       "<style scoped>\n",
       "    .dataframe tbody tr th:only-of-type {\n",
       "        vertical-align: middle;\n",
       "    }\n",
       "\n",
       "    .dataframe tbody tr th {\n",
       "        vertical-align: top;\n",
       "    }\n",
       "\n",
       "    .dataframe thead th {\n",
       "        text-align: right;\n",
       "    }\n",
       "</style>\n",
       "<table border=\"1\" class=\"dataframe\">\n",
       "  <thead>\n",
       "    <tr style=\"text-align: right;\">\n",
       "      <th></th>\n",
       "      <th>book_authors</th>\n",
       "      <th>book_desc</th>\n",
       "      <th>book_edition</th>\n",
       "      <th>book_format</th>\n",
       "      <th>book_isbn</th>\n",
       "      <th>book_pages</th>\n",
       "      <th>book_rating</th>\n",
       "      <th>book_rating_count</th>\n",
       "      <th>book_title</th>\n",
       "      <th>genres</th>\n",
       "      <th>image_url</th>\n",
       "      <th>book_authors_init</th>\n",
       "      <th>book_title_init</th>\n",
       "    </tr>\n",
       "  </thead>\n",
       "  <tbody>\n",
       "    <tr>\n",
       "      <th>830</th>\n",
       "      <td>victoria aveyard</td>\n",
       "      <td>this is a world divided by blood red or silver...</td>\n",
       "      <td>NaN</td>\n",
       "      <td>Hardcover</td>\n",
       "      <td>9.78006E+12</td>\n",
       "      <td>383 pages</td>\n",
       "      <td>4.07</td>\n",
       "      <td>400348</td>\n",
       "      <td>red queen</td>\n",
       "      <td>Fantasy|Young Adult|Science Fiction|Dystopia|R...</td>\n",
       "      <td>https://images.gr-assets.com/books/1449778912l...</td>\n",
       "      <td>Victoria Aveyard</td>\n",
       "      <td>Red Queen</td>\n",
       "    </tr>\n",
       "    <tr>\n",
       "      <th>1207</th>\n",
       "      <td>victoria aveyard</td>\n",
       "      <td>this is a world divided by blood red or silver...</td>\n",
       "      <td>NaN</td>\n",
       "      <td>Hardcover</td>\n",
       "      <td>9.78141E+12</td>\n",
       "      <td>383 pages</td>\n",
       "      <td>4.07</td>\n",
       "      <td>400358</td>\n",
       "      <td>red queen</td>\n",
       "      <td>Fantasy|Young Adult|Science Fiction|Dystopia|R...</td>\n",
       "      <td>https://images.gr-assets.com/books/1411472322l...</td>\n",
       "      <td>Victoria Aveyard</td>\n",
       "      <td>Red Queen</td>\n",
       "    </tr>\n",
       "    <tr>\n",
       "      <th>4518</th>\n",
       "      <td>victoria aveyard</td>\n",
       "      <td>this is a world divided by blood red or silver...</td>\n",
       "      <td>NaN</td>\n",
       "      <td>Paperback</td>\n",
       "      <td>9.78141E+12</td>\n",
       "      <td>388 pages</td>\n",
       "      <td>4.07</td>\n",
       "      <td>400676</td>\n",
       "      <td>red queen</td>\n",
       "      <td>Fantasy|Young Adult|Science Fiction|Dystopia|R...</td>\n",
       "      <td>https://images.gr-assets.com/books/1414165153l...</td>\n",
       "      <td>Victoria Aveyard</td>\n",
       "      <td>Red Queen</td>\n",
       "    </tr>\n",
       "    <tr>\n",
       "      <th>21736</th>\n",
       "      <td>victoria aveyard</td>\n",
       "      <td>this is a world divided by blood red or silver...</td>\n",
       "      <td>NaN</td>\n",
       "      <td>Paperback</td>\n",
       "      <td>9.78141E+12</td>\n",
       "      <td>383 pages</td>\n",
       "      <td>4.07</td>\n",
       "      <td>400980</td>\n",
       "      <td>red queen</td>\n",
       "      <td>Fantasy|Young Adult|Science Fiction|Dystopia|R...</td>\n",
       "      <td>https://images.gr-assets.com/books/1425865144l...</td>\n",
       "      <td>Victoria Aveyard</td>\n",
       "      <td>Red Queen</td>\n",
       "    </tr>\n",
       "    <tr>\n",
       "      <th>27697</th>\n",
       "      <td>victoria aveyard|amanda dolan</td>\n",
       "      <td>mare barrow s world is divided by blood those ...</td>\n",
       "      <td>NaN</td>\n",
       "      <td>Audiobook</td>\n",
       "      <td>9.78006E+12</td>\n",
       "      <td>13 pages</td>\n",
       "      <td>4.07</td>\n",
       "      <td>401001</td>\n",
       "      <td>red queen</td>\n",
       "      <td>Fantasy|Young Adult|Science Fiction|Dystopia|R...</td>\n",
       "      <td>https://images.gr-assets.com/books/1420791169l...</td>\n",
       "      <td>Victoria Aveyard|Amanda Dolan</td>\n",
       "      <td>Red Queen</td>\n",
       "    </tr>\n",
       "    <tr>\n",
       "      <th>47773</th>\n",
       "      <td>christina henry</td>\n",
       "      <td>the author of alice takes readers back down th...</td>\n",
       "      <td>NaN</td>\n",
       "      <td>Paperback</td>\n",
       "      <td>9.78043E+12</td>\n",
       "      <td>291 pages</td>\n",
       "      <td>3.81</td>\n",
       "      <td>4291</td>\n",
       "      <td>red queen</td>\n",
       "      <td>Fantasy|Horror|Retellings|Fiction</td>\n",
       "      <td>https://images.gr-assets.com/books/1453056797l...</td>\n",
       "      <td>Christina Henry</td>\n",
       "      <td>Red Queen</td>\n",
       "    </tr>\n",
       "  </tbody>\n",
       "</table>\n",
       "</div>"
      ],
      "text/plain": [
       "                        book_authors  \\\n",
       "830                 victoria aveyard   \n",
       "1207                victoria aveyard   \n",
       "4518                victoria aveyard   \n",
       "21736               victoria aveyard   \n",
       "27697  victoria aveyard|amanda dolan   \n",
       "47773                christina henry   \n",
       "\n",
       "                                               book_desc book_edition  \\\n",
       "830    this is a world divided by blood red or silver...          NaN   \n",
       "1207   this is a world divided by blood red or silver...          NaN   \n",
       "4518   this is a world divided by blood red or silver...          NaN   \n",
       "21736  this is a world divided by blood red or silver...          NaN   \n",
       "27697  mare barrow s world is divided by blood those ...          NaN   \n",
       "47773  the author of alice takes readers back down th...          NaN   \n",
       "\n",
       "      book_format    book_isbn book_pages  book_rating  book_rating_count  \\\n",
       "830     Hardcover  9.78006E+12  383 pages         4.07             400348   \n",
       "1207    Hardcover  9.78141E+12  383 pages         4.07             400358   \n",
       "4518    Paperback  9.78141E+12  388 pages         4.07             400676   \n",
       "21736   Paperback  9.78141E+12  383 pages         4.07             400980   \n",
       "27697   Audiobook  9.78006E+12   13 pages         4.07             401001   \n",
       "47773   Paperback  9.78043E+12  291 pages         3.81               4291   \n",
       "\n",
       "      book_title                                             genres  \\\n",
       "830    red queen  Fantasy|Young Adult|Science Fiction|Dystopia|R...   \n",
       "1207   red queen  Fantasy|Young Adult|Science Fiction|Dystopia|R...   \n",
       "4518   red queen  Fantasy|Young Adult|Science Fiction|Dystopia|R...   \n",
       "21736  red queen  Fantasy|Young Adult|Science Fiction|Dystopia|R...   \n",
       "27697  red queen  Fantasy|Young Adult|Science Fiction|Dystopia|R...   \n",
       "47773  red queen                  Fantasy|Horror|Retellings|Fiction   \n",
       "\n",
       "                                               image_url  \\\n",
       "830    https://images.gr-assets.com/books/1449778912l...   \n",
       "1207   https://images.gr-assets.com/books/1411472322l...   \n",
       "4518   https://images.gr-assets.com/books/1414165153l...   \n",
       "21736  https://images.gr-assets.com/books/1425865144l...   \n",
       "27697  https://images.gr-assets.com/books/1420791169l...   \n",
       "47773  https://images.gr-assets.com/books/1453056797l...   \n",
       "\n",
       "                   book_authors_init book_title_init  \n",
       "830                 Victoria Aveyard       Red Queen  \n",
       "1207                Victoria Aveyard       Red Queen  \n",
       "4518                Victoria Aveyard       Red Queen  \n",
       "21736               Victoria Aveyard       Red Queen  \n",
       "27697  Victoria Aveyard|Amanda Dolan       Red Queen  \n",
       "47773                Christina Henry       Red Queen  "
      ]
     },
     "execution_count": 37,
     "metadata": {},
     "output_type": "execute_result"
    }
   ],
   "source": [
    "# All books with the title Red Queen\n",
    "eda_data[eda_data[\"book_title_init\"]==\"Red Queen\"]"
   ]
  },
  {
   "cell_type": "code",
   "execution_count": 38,
   "id": "7e03665c-dfb4-48de-a4b6-eb0aaee2fdc5",
   "metadata": {
    "executionInfo": {
     "elapsed": 15,
     "status": "ok",
     "timestamp": 1677472671035,
     "user": {
      "displayName": "Trang Thuy",
      "userId": "00606403752895192854"
     },
     "user_tz": 300
    },
    "id": "7e03665c-dfb4-48de-a4b6-eb0aaee2fdc5"
   },
   "outputs": [
    {
     "data": {
      "text/plain": [
       "(43292, 13)"
      ]
     },
     "execution_count": 38,
     "metadata": {},
     "output_type": "execute_result"
    }
   ],
   "source": [
    "## Remove duplicates, keep the first occurence\n",
    "eda_data = eda_data.drop_duplicates(subset=[\"book_title\", \"book_authors\"], keep='first')\n",
    "## Any remainders (same book title, different authors), put number at the end to use as index later\n",
    "eda_data['book_title'] = np.where(eda_data['book_title'].duplicated(keep=False), \n",
    "                      eda_data['book_title'] + eda_data.groupby('book_title').cumcount().add(1).astype(str),\n",
    "                      eda_data['book_title'])\n",
    "eda_data.shape"
   ]
  },
  {
   "cell_type": "code",
   "execution_count": 39,
   "id": "eea00b14",
   "metadata": {},
   "outputs": [
    {
     "data": {
      "text/html": [
       "<div>\n",
       "<style scoped>\n",
       "    .dataframe tbody tr th:only-of-type {\n",
       "        vertical-align: middle;\n",
       "    }\n",
       "\n",
       "    .dataframe tbody tr th {\n",
       "        vertical-align: top;\n",
       "    }\n",
       "\n",
       "    .dataframe thead th {\n",
       "        text-align: right;\n",
       "    }\n",
       "</style>\n",
       "<table border=\"1\" class=\"dataframe\">\n",
       "  <thead>\n",
       "    <tr style=\"text-align: right;\">\n",
       "      <th></th>\n",
       "      <th>book_authors</th>\n",
       "      <th>book_desc</th>\n",
       "      <th>book_edition</th>\n",
       "      <th>book_format</th>\n",
       "      <th>book_isbn</th>\n",
       "      <th>book_pages</th>\n",
       "      <th>book_rating</th>\n",
       "      <th>book_rating_count</th>\n",
       "      <th>book_title</th>\n",
       "      <th>genres</th>\n",
       "      <th>image_url</th>\n",
       "      <th>book_authors_init</th>\n",
       "      <th>book_title_init</th>\n",
       "    </tr>\n",
       "  </thead>\n",
       "  <tbody>\n",
       "    <tr>\n",
       "      <th>830</th>\n",
       "      <td>victoria aveyard</td>\n",
       "      <td>this is a world divided by blood red or silver...</td>\n",
       "      <td>NaN</td>\n",
       "      <td>Hardcover</td>\n",
       "      <td>9.78006E+12</td>\n",
       "      <td>383 pages</td>\n",
       "      <td>4.07</td>\n",
       "      <td>400348</td>\n",
       "      <td>red queen1</td>\n",
       "      <td>Fantasy|Young Adult|Science Fiction|Dystopia|R...</td>\n",
       "      <td>https://images.gr-assets.com/books/1449778912l...</td>\n",
       "      <td>Victoria Aveyard</td>\n",
       "      <td>Red Queen</td>\n",
       "    </tr>\n",
       "    <tr>\n",
       "      <th>27697</th>\n",
       "      <td>victoria aveyard|amanda dolan</td>\n",
       "      <td>mare barrow s world is divided by blood those ...</td>\n",
       "      <td>NaN</td>\n",
       "      <td>Audiobook</td>\n",
       "      <td>9.78006E+12</td>\n",
       "      <td>13 pages</td>\n",
       "      <td>4.07</td>\n",
       "      <td>401001</td>\n",
       "      <td>red queen2</td>\n",
       "      <td>Fantasy|Young Adult|Science Fiction|Dystopia|R...</td>\n",
       "      <td>https://images.gr-assets.com/books/1420791169l...</td>\n",
       "      <td>Victoria Aveyard|Amanda Dolan</td>\n",
       "      <td>Red Queen</td>\n",
       "    </tr>\n",
       "    <tr>\n",
       "      <th>47773</th>\n",
       "      <td>christina henry</td>\n",
       "      <td>the author of alice takes readers back down th...</td>\n",
       "      <td>NaN</td>\n",
       "      <td>Paperback</td>\n",
       "      <td>9.78043E+12</td>\n",
       "      <td>291 pages</td>\n",
       "      <td>3.81</td>\n",
       "      <td>4291</td>\n",
       "      <td>red queen3</td>\n",
       "      <td>Fantasy|Horror|Retellings|Fiction</td>\n",
       "      <td>https://images.gr-assets.com/books/1453056797l...</td>\n",
       "      <td>Christina Henry</td>\n",
       "      <td>Red Queen</td>\n",
       "    </tr>\n",
       "  </tbody>\n",
       "</table>\n",
       "</div>"
      ],
      "text/plain": [
       "                        book_authors  \\\n",
       "830                 victoria aveyard   \n",
       "27697  victoria aveyard|amanda dolan   \n",
       "47773                christina henry   \n",
       "\n",
       "                                               book_desc book_edition  \\\n",
       "830    this is a world divided by blood red or silver...          NaN   \n",
       "27697  mare barrow s world is divided by blood those ...          NaN   \n",
       "47773  the author of alice takes readers back down th...          NaN   \n",
       "\n",
       "      book_format    book_isbn book_pages  book_rating  book_rating_count  \\\n",
       "830     Hardcover  9.78006E+12  383 pages         4.07             400348   \n",
       "27697   Audiobook  9.78006E+12   13 pages         4.07             401001   \n",
       "47773   Paperback  9.78043E+12  291 pages         3.81               4291   \n",
       "\n",
       "       book_title                                             genres  \\\n",
       "830    red queen1  Fantasy|Young Adult|Science Fiction|Dystopia|R...   \n",
       "27697  red queen2  Fantasy|Young Adult|Science Fiction|Dystopia|R...   \n",
       "47773  red queen3                  Fantasy|Horror|Retellings|Fiction   \n",
       "\n",
       "                                               image_url  \\\n",
       "830    https://images.gr-assets.com/books/1449778912l...   \n",
       "27697  https://images.gr-assets.com/books/1420791169l...   \n",
       "47773  https://images.gr-assets.com/books/1453056797l...   \n",
       "\n",
       "                   book_authors_init book_title_init  \n",
       "830                 Victoria Aveyard       Red Queen  \n",
       "27697  Victoria Aveyard|Amanda Dolan       Red Queen  \n",
       "47773                Christina Henry       Red Queen  "
      ]
     },
     "execution_count": 39,
     "metadata": {},
     "output_type": "execute_result"
    }
   ],
   "source": [
    "eda_data[eda_data[\"book_title_init\"]==\"Red Queen\"]"
   ]
  },
  {
   "cell_type": "markdown",
   "id": "d470f449-8bf7-43b0-8939-68225a3d70ed",
   "metadata": {
    "id": "d470f449-8bf7-43b0-8939-68225a3d70ed"
   },
   "source": [
    "- Though we have deleted rows with same name, authors and description, when we find books having duplicated description we observe certain records, this happens due to minor textual changes in the Name of the book and also because certain descriptions are repetitive for different books."
   ]
  },
  {
   "cell_type": "code",
   "execution_count": 40,
   "id": "8496b8f0-81fa-44ce-b323-ab8bcf28e727",
   "metadata": {
    "colab": {
     "base_uri": "https://localhost:8080/",
     "height": 468
    },
    "executionInfo": {
     "elapsed": 207,
     "status": "ok",
     "timestamp": 1677472671228,
     "user": {
      "displayName": "Trang Thuy",
      "userId": "00606403752895192854"
     },
     "user_tz": 300
    },
    "id": "8496b8f0-81fa-44ce-b323-ab8bcf28e727",
    "outputId": "b0011825-271d-4192-f3cc-ba756ac578fb"
   },
   "outputs": [
    {
     "data": {
      "text/html": [
       "<div>\n",
       "<style scoped>\n",
       "    .dataframe tbody tr th:only-of-type {\n",
       "        vertical-align: middle;\n",
       "    }\n",
       "\n",
       "    .dataframe tbody tr th {\n",
       "        vertical-align: top;\n",
       "    }\n",
       "\n",
       "    .dataframe thead th {\n",
       "        text-align: right;\n",
       "    }\n",
       "</style>\n",
       "<table border=\"1\" class=\"dataframe\">\n",
       "  <thead>\n",
       "    <tr style=\"text-align: right;\">\n",
       "      <th></th>\n",
       "      <th>book_isbn</th>\n",
       "      <th>book_title</th>\n",
       "      <th>book_authors</th>\n",
       "      <th>book_desc</th>\n",
       "    </tr>\n",
       "  </thead>\n",
       "  <tbody>\n",
       "    <tr>\n",
       "      <th>132</th>\n",
       "      <td>9.78035E+12</td>\n",
       "      <td>anna karenina2</td>\n",
       "      <td>leo tolstoy|aylmer maude|louise maude</td>\n",
       "      <td>acclaimed by many as the world s greatest nove...</td>\n",
       "    </tr>\n",
       "    <tr>\n",
       "      <th>6192</th>\n",
       "      <td>9.78043E+12</td>\n",
       "      <td>prince's gambit</td>\n",
       "      <td>c.s. pacat</td>\n",
       "      <td>with their countries on the brink of war damen...</td>\n",
       "    </tr>\n",
       "    <tr>\n",
       "      <th>6383</th>\n",
       "      <td>9.78163E+12</td>\n",
       "      <td>crooked kingdom2</td>\n",
       "      <td>leigh bardugo</td>\n",
       "      <td>when you can t beat the odds change the game k...</td>\n",
       "    </tr>\n",
       "    <tr>\n",
       "      <th>6544</th>\n",
       "      <td>9.78076E+12</td>\n",
       "      <td>a monster calls2</td>\n",
       "      <td>patrick ness|siobhan dowd|jim kay</td>\n",
       "      <td>an unflinching darkly funny and deeply moving ...</td>\n",
       "    </tr>\n",
       "    <tr>\n",
       "      <th>7189</th>\n",
       "      <td>9.78141E+12</td>\n",
       "      <td>prague counterpoint</td>\n",
       "      <td>bodie thoene|brock thoene</td>\n",
       "      <td>opening in 1936 the zion covenant series tells...</td>\n",
       "    </tr>\n",
       "    <tr>\n",
       "      <th>...</th>\n",
       "      <td>...</td>\n",
       "      <td>...</td>\n",
       "      <td>...</td>\n",
       "      <td>...</td>\n",
       "    </tr>\n",
       "    <tr>\n",
       "      <th>54030</th>\n",
       "      <td>NaN</td>\n",
       "      <td>lady susan2</td>\n",
       "      <td>jane austen</td>\n",
       "      <td>beautiful flirtatious and recently widowed lad...</td>\n",
       "    </tr>\n",
       "    <tr>\n",
       "      <th>54063</th>\n",
       "      <td>9.78186E+12</td>\n",
       "      <td>a country doctor's notebook</td>\n",
       "      <td>mikhail bulgakov|михаил булгаков</td>\n",
       "      <td>brilliant stories that show the growth of a no...</td>\n",
       "    </tr>\n",
       "    <tr>\n",
       "      <th>54132</th>\n",
       "      <td>9.78032E+12</td>\n",
       "      <td>the melancholy of suzumiya haruhi-chan: the un...</td>\n",
       "      <td>nagaru tanigawa|puyo</td>\n",
       "      <td>say haruhiiiiiii as if he doesn t have enough ...</td>\n",
       "    </tr>\n",
       "    <tr>\n",
       "      <th>54148</th>\n",
       "      <td>NaN</td>\n",
       "      <td>the long weekend3</td>\n",
       "      <td>ross lennon</td>\n",
       "      <td>five people working for the same company but n...</td>\n",
       "    </tr>\n",
       "    <tr>\n",
       "      <th>54161</th>\n",
       "      <td>NaN</td>\n",
       "      <td>seabiscuit: the true story of a long shot who ...</td>\n",
       "      <td>laura hillenbrand</td>\n",
       "      <td>hillenbrand brilliantly re creates a universal...</td>\n",
       "    </tr>\n",
       "  </tbody>\n",
       "</table>\n",
       "<p>465 rows × 4 columns</p>\n",
       "</div>"
      ],
      "text/plain": [
       "         book_isbn                                         book_title  \\\n",
       "132    9.78035E+12                                     anna karenina2   \n",
       "6192   9.78043E+12                                    prince's gambit   \n",
       "6383   9.78163E+12                                   crooked kingdom2   \n",
       "6544   9.78076E+12                                   a monster calls2   \n",
       "7189   9.78141E+12                                prague counterpoint   \n",
       "...            ...                                                ...   \n",
       "54030          NaN                                        lady susan2   \n",
       "54063  9.78186E+12                        a country doctor's notebook   \n",
       "54132  9.78032E+12  the melancholy of suzumiya haruhi-chan: the un...   \n",
       "54148          NaN                                  the long weekend3   \n",
       "54161          NaN  seabiscuit: the true story of a long shot who ...   \n",
       "\n",
       "                                book_authors  \\\n",
       "132    leo tolstoy|aylmer maude|louise maude   \n",
       "6192                              c.s. pacat   \n",
       "6383                           leigh bardugo   \n",
       "6544       patrick ness|siobhan dowd|jim kay   \n",
       "7189               bodie thoene|brock thoene   \n",
       "...                                      ...   \n",
       "54030                            jane austen   \n",
       "54063       mikhail bulgakov|михаил булгаков   \n",
       "54132                   nagaru tanigawa|puyo   \n",
       "54148                            ross lennon   \n",
       "54161                      laura hillenbrand   \n",
       "\n",
       "                                               book_desc  \n",
       "132    acclaimed by many as the world s greatest nove...  \n",
       "6192   with their countries on the brink of war damen...  \n",
       "6383   when you can t beat the odds change the game k...  \n",
       "6544   an unflinching darkly funny and deeply moving ...  \n",
       "7189   opening in 1936 the zion covenant series tells...  \n",
       "...                                                  ...  \n",
       "54030  beautiful flirtatious and recently widowed lad...  \n",
       "54063  brilliant stories that show the growth of a no...  \n",
       "54132  say haruhiiiiiii as if he doesn t have enough ...  \n",
       "54148  five people working for the same company but n...  \n",
       "54161  hillenbrand brilliantly re creates a universal...  \n",
       "\n",
       "[465 rows x 4 columns]"
      ]
     },
     "execution_count": 40,
     "metadata": {},
     "output_type": "execute_result"
    }
   ],
   "source": [
    "eda_data[eda_data.duplicated(subset=[\"book_desc\"], keep=\"first\")][[\"book_isbn\", \"book_title\", \"book_authors\", \"book_desc\"]]"
   ]
  },
  {
   "cell_type": "code",
   "execution_count": null,
   "id": "54be1019",
   "metadata": {},
   "outputs": [],
   "source": []
  },
  {
   "cell_type": "markdown",
   "id": "ed1a25be-bad8-4ef5-a7e4-4d73d98e2d4e",
   "metadata": {
    "id": "ed1a25be-bad8-4ef5-a7e4-4d73d98e2d4e",
    "tags": []
   },
   "source": [
    "---\n",
    "### Extract book series information from the name of the book\n",
    "- Remove irrelevant info from the name of the book to improve efficiency of the tokenization.\n",
    "- Book names with hashtag represent edition of the book in a series"
   ]
  },
  {
   "cell_type": "code",
   "execution_count": 41,
   "id": "f625d354-6b93-400f-acf8-8f35a95fc5dc",
   "metadata": {
    "executionInfo": {
     "elapsed": 31,
     "status": "ok",
     "timestamp": 1677472671230,
     "user": {
      "displayName": "Trang Thuy",
      "userId": "00606403752895192854"
     },
     "user_tz": 300
    },
    "id": "f625d354-6b93-400f-acf8-8f35a95fc5dc"
   },
   "outputs": [],
   "source": [
    "# series_pattern =  \"(?:[;]\\s*|\\(\\s*)([^\\(;]*\\s*#\\s*\\d+(?:\\.?\\d+|\\\\&\\d+|-?\\d*))\"\n",
    "# def get_book_series_info(text):\n",
    "#     series_info = re.findall(series_pattern, text)\n",
    "#     if series_info:\n",
    "#         series_info = \" \".join([i.replace(\" \", \"_\") for i in series_info])\n",
    "#         return series_info\n",
    "#     else:\n",
    "#         return np.nan\n",
    "    \n",
    "\n",
    "# eda_data['BookSeriesInfo'] = eda_data.Name.apply(get_book_series_info)\n",
    "\n",
    "# book_name_cases = [\"Sire Lines, Revised Edition (Blood-Horse Classics Library)\", \n",
    "#                    \"Lovers and Ladies (Lovers and Ladies, #5&6)\",\n",
    "#                    \"Oh, Cuan Lejos Llegaras! (Oh, the Places You'll Go!\", \"Ranma 1/2, Vol. 28 (Ranma ½ (US 2nd), #28)\", \n",
    "#                    \"Fairy Realm edition, #1-3 (Fairy Realm, #1-3)\", \"Fairy Realm edition, #1.3 (Fairy Realm, #1.3)\", \n",
    "#                    \"Codes: How to Make Them and Break Them (Murderous Maths, # 14)\",\n",
    "#                    \"The Best Catch In Texas (Men of the West, #10) (Silhouette Special Edition #1814)\",\n",
    "#                    \"Patriot Games ((Blood-Horse Classics Library)) (Jack Ryan, #1; Jack Ryan Universe, #2)\"]\n",
    "\n",
    "# print(\"\\033[1m{:90}\\033[0m\\033[1m{:5}\\033[0m\".format(\"Book Name\", \"Series Information\"))\n",
    "# for name in book_name_cases:\n",
    "#     print(\"{!s:90}{!s:5}\".format(name, get_book_series_info(name)))\n"
   ]
  },
  {
   "cell_type": "markdown",
   "id": "d88c2d44-ed2f-43a7-b5b2-68028aabe149",
   "metadata": {
    "id": "d88c2d44-ed2f-43a7-b5b2-68028aabe149"
   },
   "source": [
    "- As we are using regex there will be certain exceptions, for example it misses a book name with nested brackets case. The name of the book is \"Ranma 1/2, Vol. 28 (Ranma ½ (US 2nd), #28)\", it should extract series information as `Ranma ½ (US 2nd), #28]`, instead, it extracts `[US 2nd), #28]`"
   ]
  },
  {
   "cell_type": "code",
   "execution_count": 42,
   "id": "2e4eace4-1bdd-4213-ac99-1e23099b47c9",
   "metadata": {
    "executionInfo": {
     "elapsed": 31,
     "status": "ok",
     "timestamp": 1677472671231,
     "user": {
      "displayName": "Trang Thuy",
      "userId": "00606403752895192854"
     },
     "user_tz": 300
    },
    "id": "2e4eace4-1bdd-4213-ac99-1e23099b47c9"
   },
   "outputs": [],
   "source": [
    "# eda_data[[\"Id\",\"Name\", \"BookSeriesInfo\"]][eda_data.BookSeriesInfo.isna() == False]"
   ]
  },
  {
   "cell_type": "code",
   "execution_count": 43,
   "id": "c8d32a1b-acdd-46f4-bc9f-2bce3f5165f5",
   "metadata": {
    "executionInfo": {
     "elapsed": 32,
     "status": "ok",
     "timestamp": 1677472671232,
     "user": {
      "displayName": "Trang Thuy",
      "userId": "00606403752895192854"
     },
     "user_tz": 300
    },
    "id": "c8d32a1b-acdd-46f4-bc9f-2bce3f5165f5"
   },
   "outputs": [],
   "source": [
    "# eda_data.isna().sum()"
   ]
  },
  {
   "cell_type": "markdown",
   "id": "b0175567-9b2d-48a6-aa42-1ff7cf6f245c",
   "metadata": {
    "id": "b0175567-9b2d-48a6-aa42-1ff7cf6f245c"
   },
   "source": [
    "---\n",
    "### Remove the series info from the name of the book"
   ]
  },
  {
   "cell_type": "code",
   "execution_count": 44,
   "id": "e4f6f8bb-9d12-4aad-bc98-436ee01637eb",
   "metadata": {
    "executionInfo": {
     "elapsed": 31,
     "status": "ok",
     "timestamp": 1677472671232,
     "user": {
      "displayName": "Trang Thuy",
      "userId": "00606403752895192854"
     },
     "user_tz": 300
    },
    "id": "e4f6f8bb-9d12-4aad-bc98-436ee01637eb"
   },
   "outputs": [],
   "source": [
    "# series_remove_pattern = re.compile(\"(?:[\\(]\\s*[^\\(;]*\\s*#\\s*\\d+(?:\\.?\\d+|\\\\&\\d+|-?\\d*)(?:;|\\))|\\s*[^\\(;]*\\s*#\\s*\\d+(?:\\.?\\d+|\\\\&\\d+|-?\\d*)\\))\")       \n",
    "# def remove_series_info(text):\n",
    "#     return re.sub(series_remove_pattern, r'', text)\n",
    "\n",
    "# print(\"\\033[1m{:80}\\033[0m\\033[1m{:5}\\033[0m\".format(\"Book Name\", \"Series Information\"))\n",
    "# for name in book_name_cases:\n",
    "#     print(\"{!s:80}{!s:5}\".format(name, remove_series_info(name)))\n",
    "\n",
    "# eda_data[\"Title\"]= eda_data[\"book_title\"].str.replace(series_remove_pattern, r'').str.strip()"
   ]
  },
  {
   "cell_type": "markdown",
   "id": "0da51ca0-bcbe-4f8a-b3d9-c65e35850f31",
   "metadata": {
    "id": "0da51ca0-bcbe-4f8a-b3d9-c65e35850f31"
   },
   "source": [
    "---\n",
    "### Impute missing language with book title language"
   ]
  },
  {
   "cell_type": "code",
   "execution_count": 45,
   "id": "d77f67ad-0eb0-48ad-bc1e-c0c3a4a91310",
   "metadata": {
    "executionInfo": {
     "elapsed": 31,
     "status": "ok",
     "timestamp": 1677472671233,
     "user": {
      "displayName": "Trang Thuy",
      "userId": "00606403752895192854"
     },
     "user_tz": 300
    },
    "id": "d77f67ad-0eb0-48ad-bc1e-c0c3a4a91310"
   },
   "outputs": [],
   "source": [
    "# from nltk.classify.textcat import TextCat\n",
    "# tc = TextCat()\n",
    "\n",
    "# def detect_language(text):\n",
    "#     text = \" \".join(text.split()[:5])\n",
    "#     if text.isnumeric():\n",
    "#         return 'eng'\n",
    "#     else:\n",
    "#         return tc.guess_language(text).strip()"
   ]
  },
  {
   "cell_type": "code",
   "execution_count": 46,
   "id": "6bad2c01-c99c-4b55-800a-8a7866f71af7",
   "metadata": {
    "executionInfo": {
     "elapsed": 30,
     "status": "ok",
     "timestamp": 1677472671235,
     "user": {
      "displayName": "Trang Thuy",
      "userId": "00606403752895192854"
     },
     "user_tz": 300
    },
    "id": "6bad2c01-c99c-4b55-800a-8a7866f71af7"
   },
   "outputs": [],
   "source": [
    "# import dask.dataframe as dd\n",
    "# import multiprocessing\n",
    "# ddf = dd.from_pandas(eda_data, npartitions=4*multiprocessing.cpu_count()) \n",
    "# eda_data[\"Language\"] = ddf.map_partitions(lambda df: df.apply(lambda x: detect_language(x['Name']) if pd.isna(x['Language']) else x['Language'], axis=1)).compute() "
   ]
  },
  {
   "cell_type": "code",
   "execution_count": 47,
   "id": "c60af850-d31c-4d9c-984d-f28d4c6d7076",
   "metadata": {
    "colab": {
     "base_uri": "https://localhost:8080/"
    },
    "executionInfo": {
     "elapsed": 50,
     "status": "ok",
     "timestamp": 1677472671256,
     "user": {
      "displayName": "Trang Thuy",
      "userId": "00606403752895192854"
     },
     "user_tz": 300
    },
    "id": "c60af850-d31c-4d9c-984d-f28d4c6d7076",
    "outputId": "cfb1784b-a144-4200-9e1c-bae20b36b82c"
   },
   "outputs": [
    {
     "data": {
      "text/plain": [
       "book_authors             0\n",
       "book_desc                0\n",
       "book_edition         39527\n",
       "book_format            779\n",
       "book_isbn             8042\n",
       "book_pages            1828\n",
       "book_rating              0\n",
       "book_rating_count        0\n",
       "book_title               0\n",
       "genres                2178\n",
       "image_url              349\n",
       "book_authors_init        0\n",
       "book_title_init          0\n",
       "dtype: int64"
      ]
     },
     "execution_count": 47,
     "metadata": {},
     "output_type": "execute_result"
    }
   ],
   "source": [
    "eda_data.isna().sum()"
   ]
  },
  {
   "cell_type": "markdown",
   "id": "94d86a64-2179-42f5-81b5-eca827dd1595",
   "metadata": {
    "id": "94d86a64-2179-42f5-81b5-eca827dd1595"
   },
   "source": [
    "---\n",
    "### Remove quotes from Publisher column "
   ]
  },
  {
   "cell_type": "code",
   "execution_count": 48,
   "id": "677cfc84-fcca-47df-938c-d907eadb949a",
   "metadata": {
    "executionInfo": {
     "elapsed": 49,
     "status": "ok",
     "timestamp": 1677472671257,
     "user": {
      "displayName": "Trang Thuy",
      "userId": "00606403752895192854"
     },
     "user_tz": 300
    },
    "id": "677cfc84-fcca-47df-938c-d907eadb949a"
   },
   "outputs": [],
   "source": [
    "# eda_data[\"Publisher\"] = eda_data[\"Publisher\"].str.replace('\"','')"
   ]
  },
  {
   "cell_type": "markdown",
   "id": "442200a4-48a8-4536-bbb3-3b9da35d83c2",
   "metadata": {
    "id": "442200a4-48a8-4536-bbb3-3b9da35d83c2"
   },
   "source": [
    "---\n",
    "### Transform book and author names into single token\n",
    "- Merge first and last name of authors so that two authors with same first or last name are not considered same when the tokenization happens.\n",
    "- Also merge name of the book so that it is considered as single token during the processing."
   ]
  },
  {
   "cell_type": "code",
   "execution_count": 49,
   "id": "6f5eea1c-8196-4315-8921-0a08173b6df8",
   "metadata": {
    "colab": {
     "base_uri": "https://localhost:8080/",
     "height": 617
    },
    "executionInfo": {
     "elapsed": 51,
     "status": "ok",
     "timestamp": 1677472671259,
     "user": {
      "displayName": "Trang Thuy",
      "userId": "00606403752895192854"
     },
     "user_tz": 300
    },
    "id": "6f5eea1c-8196-4315-8921-0a08173b6df8",
    "outputId": "3391799a-8124-4c5d-98e6-648015f34e18"
   },
   "outputs": [
    {
     "data": {
      "text/html": [
       "<div>\n",
       "<style scoped>\n",
       "    .dataframe tbody tr th:only-of-type {\n",
       "        vertical-align: middle;\n",
       "    }\n",
       "\n",
       "    .dataframe tbody tr th {\n",
       "        vertical-align: top;\n",
       "    }\n",
       "\n",
       "    .dataframe thead th {\n",
       "        text-align: right;\n",
       "    }\n",
       "</style>\n",
       "<table border=\"1\" class=\"dataframe\">\n",
       "  <thead>\n",
       "    <tr style=\"text-align: right;\">\n",
       "      <th></th>\n",
       "      <th>book_authors</th>\n",
       "      <th>book_desc</th>\n",
       "      <th>book_edition</th>\n",
       "      <th>book_format</th>\n",
       "      <th>book_isbn</th>\n",
       "      <th>book_pages</th>\n",
       "      <th>book_rating</th>\n",
       "      <th>book_rating_count</th>\n",
       "      <th>book_title</th>\n",
       "      <th>genres</th>\n",
       "      <th>image_url</th>\n",
       "      <th>book_authors_init</th>\n",
       "      <th>book_title_init</th>\n",
       "    </tr>\n",
       "  </thead>\n",
       "  <tbody>\n",
       "    <tr>\n",
       "      <th>0</th>\n",
       "      <td>suzanne_collins</td>\n",
       "      <td>winning will make you famous losing means cert...</td>\n",
       "      <td>NaN</td>\n",
       "      <td>Hardcover</td>\n",
       "      <td>9.78044E+12</td>\n",
       "      <td>374 pages</td>\n",
       "      <td>4.33</td>\n",
       "      <td>5519135</td>\n",
       "      <td>the_hunger_games</td>\n",
       "      <td>Young Adult|Fiction|Science Fiction|Dystopia|F...</td>\n",
       "      <td>https://images.gr-assets.com/books/1447303603l...</td>\n",
       "      <td>Suzanne Collins</td>\n",
       "      <td>The Hunger Games</td>\n",
       "    </tr>\n",
       "    <tr>\n",
       "      <th>1</th>\n",
       "      <td>j.k._rowling mary_grandpré</td>\n",
       "      <td>there is a door at the end of a silent corrido...</td>\n",
       "      <td>US Edition</td>\n",
       "      <td>Paperback</td>\n",
       "      <td>9.78044E+12</td>\n",
       "      <td>870 pages</td>\n",
       "      <td>4.48</td>\n",
       "      <td>2041594</td>\n",
       "      <td>harry_potter_and_the_order_of_the_phoenix</td>\n",
       "      <td>Fantasy|Young Adult|Fiction</td>\n",
       "      <td>https://images.gr-assets.com/books/1255614970l...</td>\n",
       "      <td>J.K. Rowling|Mary GrandPré</td>\n",
       "      <td>Harry Potter and the Order of the Phoenix</td>\n",
       "    </tr>\n",
       "    <tr>\n",
       "      <th>2</th>\n",
       "      <td>harper_lee</td>\n",
       "      <td>the unforgettable novel of a childhood in a sl...</td>\n",
       "      <td>50th Anniversary</td>\n",
       "      <td>Paperback</td>\n",
       "      <td>9.78006E+12</td>\n",
       "      <td>324 pages</td>\n",
       "      <td>4.27</td>\n",
       "      <td>3745197</td>\n",
       "      <td>to_kill_a_mockingbird</td>\n",
       "      <td>Classics|Fiction|Historical|Historical Fiction...</td>\n",
       "      <td>https://images.gr-assets.com/books/1361975680l...</td>\n",
       "      <td>Harper Lee</td>\n",
       "      <td>To Kill a Mockingbird</td>\n",
       "    </tr>\n",
       "    <tr>\n",
       "      <th>4</th>\n",
       "      <td>stephenie_meyer</td>\n",
       "      <td>about three things i was absolutely positive f...</td>\n",
       "      <td>NaN</td>\n",
       "      <td>Paperback</td>\n",
       "      <td>9.78032E+12</td>\n",
       "      <td>498 pages</td>\n",
       "      <td>3.58</td>\n",
       "      <td>4281268</td>\n",
       "      <td>twilight1</td>\n",
       "      <td>Young Adult|Fantasy|Romance|Paranormal|Vampire...</td>\n",
       "      <td>https://images.gr-assets.com/books/1361039443l...</td>\n",
       "      <td>Stephenie Meyer</td>\n",
       "      <td>Twilight</td>\n",
       "    </tr>\n",
       "    <tr>\n",
       "      <th>5</th>\n",
       "      <td>markus_zusak</td>\n",
       "      <td>trying to make sense of the horrors of world w...</td>\n",
       "      <td>First American Edition (US / CAN)</td>\n",
       "      <td>Hardcover</td>\n",
       "      <td>9.78038E+12</td>\n",
       "      <td>552 pages</td>\n",
       "      <td>4.36</td>\n",
       "      <td>1485632</td>\n",
       "      <td>the_book_thief1</td>\n",
       "      <td>Historical|Historical Fiction|Fiction|Young Adult</td>\n",
       "      <td>https://images.gr-assets.com/books/1522157426l...</td>\n",
       "      <td>Markus Zusak</td>\n",
       "      <td>The Book Thief</td>\n",
       "    </tr>\n",
       "  </tbody>\n",
       "</table>\n",
       "</div>"
      ],
      "text/plain": [
       "                 book_authors  \\\n",
       "0             suzanne_collins   \n",
       "1  j.k._rowling mary_grandpré   \n",
       "2                  harper_lee   \n",
       "4             stephenie_meyer   \n",
       "5                markus_zusak   \n",
       "\n",
       "                                           book_desc  \\\n",
       "0  winning will make you famous losing means cert...   \n",
       "1  there is a door at the end of a silent corrido...   \n",
       "2  the unforgettable novel of a childhood in a sl...   \n",
       "4  about three things i was absolutely positive f...   \n",
       "5  trying to make sense of the horrors of world w...   \n",
       "\n",
       "                        book_edition book_format    book_isbn book_pages  \\\n",
       "0                                NaN   Hardcover  9.78044E+12  374 pages   \n",
       "1                         US Edition   Paperback  9.78044E+12  870 pages   \n",
       "2                   50th Anniversary   Paperback  9.78006E+12  324 pages   \n",
       "4                                NaN   Paperback  9.78032E+12  498 pages   \n",
       "5  First American Edition (US / CAN)   Hardcover  9.78038E+12  552 pages   \n",
       "\n",
       "   book_rating  book_rating_count                                 book_title  \\\n",
       "0         4.33            5519135                           the_hunger_games   \n",
       "1         4.48            2041594  harry_potter_and_the_order_of_the_phoenix   \n",
       "2         4.27            3745197                      to_kill_a_mockingbird   \n",
       "4         3.58            4281268                                  twilight1   \n",
       "5         4.36            1485632                            the_book_thief1   \n",
       "\n",
       "                                              genres  \\\n",
       "0  Young Adult|Fiction|Science Fiction|Dystopia|F...   \n",
       "1                        Fantasy|Young Adult|Fiction   \n",
       "2  Classics|Fiction|Historical|Historical Fiction...   \n",
       "4  Young Adult|Fantasy|Romance|Paranormal|Vampire...   \n",
       "5  Historical|Historical Fiction|Fiction|Young Adult   \n",
       "\n",
       "                                           image_url  \\\n",
       "0  https://images.gr-assets.com/books/1447303603l...   \n",
       "1  https://images.gr-assets.com/books/1255614970l...   \n",
       "2  https://images.gr-assets.com/books/1361975680l...   \n",
       "4  https://images.gr-assets.com/books/1361039443l...   \n",
       "5  https://images.gr-assets.com/books/1522157426l...   \n",
       "\n",
       "            book_authors_init                            book_title_init  \n",
       "0             Suzanne Collins                           The Hunger Games  \n",
       "1  J.K. Rowling|Mary GrandPré  Harry Potter and the Order of the Phoenix  \n",
       "2                  Harper Lee                      To Kill a Mockingbird  \n",
       "4             Stephenie Meyer                                   Twilight  \n",
       "5                Markus Zusak                             The Book Thief  "
      ]
     },
     "execution_count": 49,
     "metadata": {},
     "output_type": "execute_result"
    }
   ],
   "source": [
    "eda_data[\"book_authors\"] = eda_data[\"book_authors\"].str.strip().str.replace(' ','_')\n",
    "\n",
    "## separate co-author names so they are 2 separate keywords\n",
    "eda_data[\"book_authors\"] = eda_data[\"book_authors\"].str.strip().str.replace('|',' ', regex=False)\n",
    "\n",
    "eda_data[\"book_title\"] = eda_data[\"book_title\"].str.strip().str.replace(' ','_')\n",
    "eda_data.head()"
   ]
  },
  {
   "cell_type": "markdown",
   "id": "59751c83-e091-4de3-93ce-8f26f1d2368f",
   "metadata": {
    "id": "59751c83-e091-4de3-93ce-8f26f1d2368f"
   },
   "source": [
    "---\n",
    "### Merge all textual information to create summary\n",
    "- Combine all book authors with other related book info (genre, difficulty) [in progress, may change in the future]\n",
    "- This will then combine with books' keywords in the future"
   ]
  },
  {
   "cell_type": "code",
   "execution_count": 50,
   "id": "93c34925-0e02-48f1-b57f-a1d40980aff4",
   "metadata": {
    "executionInfo": {
     "elapsed": 1886,
     "status": "ok",
     "timestamp": 1677472673097,
     "user": {
      "displayName": "Trang Thuy",
      "userId": "00606403752895192854"
     },
     "user_tz": 300
    },
    "id": "93c34925-0e02-48f1-b57f-a1d40980aff4"
   },
   "outputs": [],
   "source": [
    "eda_data[\"bow\"] = eda_data[['book_authors']].fillna('').agg(' '.join, axis=1)\n",
    "eda_data.drop([\"book_isbn\"], axis = 1, inplace=True)"
   ]
  },
  {
   "cell_type": "code",
   "execution_count": 51,
   "id": "cdfe1bef-2a1a-4583-afd5-d2aa5b91f646",
   "metadata": {
    "colab": {
     "base_uri": "https://localhost:8080/",
     "height": 35
    },
    "executionInfo": {
     "elapsed": 94,
     "status": "ok",
     "timestamp": 1677472673106,
     "user": {
      "displayName": "Trang Thuy",
      "userId": "00606403752895192854"
     },
     "user_tz": 300
    },
    "id": "cdfe1bef-2a1a-4583-afd5-d2aa5b91f646",
    "outputId": "ccb999b7-5d0f-4a5d-bb07-284df3e50279"
   },
   "outputs": [
    {
     "data": {
      "text/plain": [
       "'andrew_lang henry_justice_ford george_percy_jacomb-hood leonora_blanche_alleyne_lang'"
      ]
     },
     "execution_count": 51,
     "metadata": {},
     "output_type": "execute_result"
    }
   ],
   "source": [
    "eda_data.bow.iloc[8375]"
   ]
  },
  {
   "cell_type": "code",
   "execution_count": 52,
   "id": "28e4862a-8631-41d6-b42f-7271869b3e1e",
   "metadata": {
    "colab": {
     "base_uri": "https://localhost:8080/",
     "height": 1000
    },
    "executionInfo": {
     "elapsed": 86,
     "status": "ok",
     "timestamp": 1677472673108,
     "user": {
      "displayName": "Trang Thuy",
      "userId": "00606403752895192854"
     },
     "user_tz": 300
    },
    "id": "28e4862a-8631-41d6-b42f-7271869b3e1e",
    "outputId": "e82a3b29-ba6f-4abc-aad0-7cfdc3f09f49"
   },
   "outputs": [
    {
     "data": {
      "text/html": [
       "<div>\n",
       "<style scoped>\n",
       "    .dataframe tbody tr th:only-of-type {\n",
       "        vertical-align: middle;\n",
       "    }\n",
       "\n",
       "    .dataframe tbody tr th {\n",
       "        vertical-align: top;\n",
       "    }\n",
       "\n",
       "    .dataframe thead th {\n",
       "        text-align: right;\n",
       "    }\n",
       "</style>\n",
       "<table border=\"1\" class=\"dataframe\">\n",
       "  <thead>\n",
       "    <tr style=\"text-align: right;\">\n",
       "      <th></th>\n",
       "      <th>book_authors</th>\n",
       "      <th>book_desc</th>\n",
       "      <th>book_edition</th>\n",
       "      <th>book_format</th>\n",
       "      <th>book_pages</th>\n",
       "      <th>book_rating</th>\n",
       "      <th>book_rating_count</th>\n",
       "      <th>book_title</th>\n",
       "      <th>genres</th>\n",
       "      <th>image_url</th>\n",
       "      <th>book_authors_init</th>\n",
       "      <th>book_title_init</th>\n",
       "      <th>bow</th>\n",
       "    </tr>\n",
       "  </thead>\n",
       "  <tbody>\n",
       "    <tr>\n",
       "      <th>0</th>\n",
       "      <td>suzanne_collins</td>\n",
       "      <td>winning will make you famous losing means cert...</td>\n",
       "      <td>NaN</td>\n",
       "      <td>Hardcover</td>\n",
       "      <td>374 pages</td>\n",
       "      <td>4.33</td>\n",
       "      <td>5519135</td>\n",
       "      <td>the_hunger_games</td>\n",
       "      <td>Young Adult|Fiction|Science Fiction|Dystopia|F...</td>\n",
       "      <td>https://images.gr-assets.com/books/1447303603l...</td>\n",
       "      <td>Suzanne Collins</td>\n",
       "      <td>The Hunger Games</td>\n",
       "      <td>suzanne_collins</td>\n",
       "    </tr>\n",
       "    <tr>\n",
       "      <th>1</th>\n",
       "      <td>j.k._rowling mary_grandpré</td>\n",
       "      <td>there is a door at the end of a silent corrido...</td>\n",
       "      <td>US Edition</td>\n",
       "      <td>Paperback</td>\n",
       "      <td>870 pages</td>\n",
       "      <td>4.48</td>\n",
       "      <td>2041594</td>\n",
       "      <td>harry_potter_and_the_order_of_the_phoenix</td>\n",
       "      <td>Fantasy|Young Adult|Fiction</td>\n",
       "      <td>https://images.gr-assets.com/books/1255614970l...</td>\n",
       "      <td>J.K. Rowling|Mary GrandPré</td>\n",
       "      <td>Harry Potter and the Order of the Phoenix</td>\n",
       "      <td>j.k._rowling mary_grandpré</td>\n",
       "    </tr>\n",
       "    <tr>\n",
       "      <th>2</th>\n",
       "      <td>harper_lee</td>\n",
       "      <td>the unforgettable novel of a childhood in a sl...</td>\n",
       "      <td>50th Anniversary</td>\n",
       "      <td>Paperback</td>\n",
       "      <td>324 pages</td>\n",
       "      <td>4.27</td>\n",
       "      <td>3745197</td>\n",
       "      <td>to_kill_a_mockingbird</td>\n",
       "      <td>Classics|Fiction|Historical|Historical Fiction...</td>\n",
       "      <td>https://images.gr-assets.com/books/1361975680l...</td>\n",
       "      <td>Harper Lee</td>\n",
       "      <td>To Kill a Mockingbird</td>\n",
       "      <td>harper_lee</td>\n",
       "    </tr>\n",
       "    <tr>\n",
       "      <th>4</th>\n",
       "      <td>stephenie_meyer</td>\n",
       "      <td>about three things i was absolutely positive f...</td>\n",
       "      <td>NaN</td>\n",
       "      <td>Paperback</td>\n",
       "      <td>498 pages</td>\n",
       "      <td>3.58</td>\n",
       "      <td>4281268</td>\n",
       "      <td>twilight1</td>\n",
       "      <td>Young Adult|Fantasy|Romance|Paranormal|Vampire...</td>\n",
       "      <td>https://images.gr-assets.com/books/1361039443l...</td>\n",
       "      <td>Stephenie Meyer</td>\n",
       "      <td>Twilight</td>\n",
       "      <td>stephenie_meyer</td>\n",
       "    </tr>\n",
       "    <tr>\n",
       "      <th>5</th>\n",
       "      <td>markus_zusak</td>\n",
       "      <td>trying to make sense of the horrors of world w...</td>\n",
       "      <td>First American Edition (US / CAN)</td>\n",
       "      <td>Hardcover</td>\n",
       "      <td>552 pages</td>\n",
       "      <td>4.36</td>\n",
       "      <td>1485632</td>\n",
       "      <td>the_book_thief1</td>\n",
       "      <td>Historical|Historical Fiction|Fiction|Young Adult</td>\n",
       "      <td>https://images.gr-assets.com/books/1522157426l...</td>\n",
       "      <td>Markus Zusak</td>\n",
       "      <td>The Book Thief</td>\n",
       "      <td>markus_zusak</td>\n",
       "    </tr>\n",
       "    <tr>\n",
       "      <th>...</th>\n",
       "      <td>...</td>\n",
       "      <td>...</td>\n",
       "      <td>...</td>\n",
       "      <td>...</td>\n",
       "      <td>...</td>\n",
       "      <td>...</td>\n",
       "      <td>...</td>\n",
       "      <td>...</td>\n",
       "      <td>...</td>\n",
       "      <td>...</td>\n",
       "      <td>...</td>\n",
       "      <td>...</td>\n",
       "      <td>...</td>\n",
       "    </tr>\n",
       "    <tr>\n",
       "      <th>54295</th>\n",
       "      <td>avi_steinberg</td>\n",
       "      <td>avi steinberg is stumped after defecting from ...</td>\n",
       "      <td>NaN</td>\n",
       "      <td>Hardcover</td>\n",
       "      <td>399 pages</td>\n",
       "      <td>3.51</td>\n",
       "      <td>3717</td>\n",
       "      <td>running_the_books:_the_adventures_of_an_accide...</td>\n",
       "      <td>Nonfiction|Autobiography|Memoir|Biography|Writ...</td>\n",
       "      <td>https://images.gr-assets.com/books/1320533033l...</td>\n",
       "      <td>Avi Steinberg</td>\n",
       "      <td>Running the Books: The Adventures of an Accide...</td>\n",
       "      <td>avi_steinberg</td>\n",
       "    </tr>\n",
       "    <tr>\n",
       "      <th>54296</th>\n",
       "      <td>howard_megdal</td>\n",
       "      <td>in this fearless and half crazy story howard m...</td>\n",
       "      <td>NaN</td>\n",
       "      <td>Hardcover</td>\n",
       "      <td>256 pages</td>\n",
       "      <td>3.37</td>\n",
       "      <td>27</td>\n",
       "      <td>taking_the_field:_a_fan's_quest_to_run_the_tea...</td>\n",
       "      <td>Sports|Baseball|Sports and Games|Sports|Nonfic...</td>\n",
       "      <td>https://images.gr-assets.com/books/1312074392l...</td>\n",
       "      <td>Howard Megdal</td>\n",
       "      <td>Taking the Field: A Fan's Quest to Run the Tea...</td>\n",
       "      <td>howard_megdal</td>\n",
       "    </tr>\n",
       "    <tr>\n",
       "      <th>54297</th>\n",
       "      <td>howard_megdal</td>\n",
       "      <td>from the icons of the game to the players who ...</td>\n",
       "      <td>NaN</td>\n",
       "      <td>Hardcover</td>\n",
       "      <td>256 pages</td>\n",
       "      <td>3.97</td>\n",
       "      <td>34</td>\n",
       "      <td>the_baseball_talmud:_koufax,_greenberg,_and_th...</td>\n",
       "      <td>Nonfiction|Sports and Games|Sports</td>\n",
       "      <td>https://images.gr-assets.com/books/1348841629l...</td>\n",
       "      <td>Howard Megdal</td>\n",
       "      <td>The Baseball Talmud: Koufax, Greenberg, and th...</td>\n",
       "      <td>howard_megdal</td>\n",
       "    </tr>\n",
       "    <tr>\n",
       "      <th>54299</th>\n",
       "      <td>mimi_baird eve_claxton</td>\n",
       "      <td>soon to be a major motion picture from brad pi...</td>\n",
       "      <td>NaN</td>\n",
       "      <td>Hardcover</td>\n",
       "      <td>272 pages</td>\n",
       "      <td>3.82</td>\n",
       "      <td>867</td>\n",
       "      <td>he_wanted_the_moon:_the_madness_and_medical_ge...</td>\n",
       "      <td>Nonfiction|Autobiography|Memoir|Biography|Psyc...</td>\n",
       "      <td>https://images.gr-assets.com/books/1403192135l...</td>\n",
       "      <td>Mimi Baird|Eve Claxton</td>\n",
       "      <td>He Wanted the Moon: The Madness and Medical Ge...</td>\n",
       "      <td>mimi_baird eve_claxton</td>\n",
       "    </tr>\n",
       "    <tr>\n",
       "      <th>54300</th>\n",
       "      <td>leah_price</td>\n",
       "      <td>the anthology and the rise of the novel brings...</td>\n",
       "      <td>NaN</td>\n",
       "      <td>Paperback</td>\n",
       "      <td>236 pages</td>\n",
       "      <td>3.58</td>\n",
       "      <td>12</td>\n",
       "      <td>the_anthology_and_the_rise_of_the_novel:_from_...</td>\n",
       "      <td>Criticism|Literary Criticism|Philosophy|Theory...</td>\n",
       "      <td>https://images.gr-assets.com/books/1349014225l...</td>\n",
       "      <td>Leah Price</td>\n",
       "      <td>The Anthology and the Rise of the Novel: From ...</td>\n",
       "      <td>leah_price</td>\n",
       "    </tr>\n",
       "  </tbody>\n",
       "</table>\n",
       "<p>43292 rows × 13 columns</p>\n",
       "</div>"
      ],
      "text/plain": [
       "                     book_authors  \\\n",
       "0                 suzanne_collins   \n",
       "1      j.k._rowling mary_grandpré   \n",
       "2                      harper_lee   \n",
       "4                 stephenie_meyer   \n",
       "5                    markus_zusak   \n",
       "...                           ...   \n",
       "54295               avi_steinberg   \n",
       "54296               howard_megdal   \n",
       "54297               howard_megdal   \n",
       "54299      mimi_baird eve_claxton   \n",
       "54300                  leah_price   \n",
       "\n",
       "                                               book_desc  \\\n",
       "0      winning will make you famous losing means cert...   \n",
       "1      there is a door at the end of a silent corrido...   \n",
       "2      the unforgettable novel of a childhood in a sl...   \n",
       "4      about three things i was absolutely positive f...   \n",
       "5      trying to make sense of the horrors of world w...   \n",
       "...                                                  ...   \n",
       "54295  avi steinberg is stumped after defecting from ...   \n",
       "54296  in this fearless and half crazy story howard m...   \n",
       "54297  from the icons of the game to the players who ...   \n",
       "54299  soon to be a major motion picture from brad pi...   \n",
       "54300  the anthology and the rise of the novel brings...   \n",
       "\n",
       "                            book_edition book_format book_pages  book_rating  \\\n",
       "0                                    NaN   Hardcover  374 pages         4.33   \n",
       "1                             US Edition   Paperback  870 pages         4.48   \n",
       "2                       50th Anniversary   Paperback  324 pages         4.27   \n",
       "4                                    NaN   Paperback  498 pages         3.58   \n",
       "5      First American Edition (US / CAN)   Hardcover  552 pages         4.36   \n",
       "...                                  ...         ...        ...          ...   \n",
       "54295                                NaN   Hardcover  399 pages         3.51   \n",
       "54296                                NaN   Hardcover  256 pages         3.37   \n",
       "54297                                NaN   Hardcover  256 pages         3.97   \n",
       "54299                                NaN   Hardcover  272 pages         3.82   \n",
       "54300                                NaN   Paperback  236 pages         3.58   \n",
       "\n",
       "       book_rating_count                                         book_title  \\\n",
       "0                5519135                                   the_hunger_games   \n",
       "1                2041594          harry_potter_and_the_order_of_the_phoenix   \n",
       "2                3745197                              to_kill_a_mockingbird   \n",
       "4                4281268                                          twilight1   \n",
       "5                1485632                                    the_book_thief1   \n",
       "...                  ...                                                ...   \n",
       "54295               3717  running_the_books:_the_adventures_of_an_accide...   \n",
       "54296                 27  taking_the_field:_a_fan's_quest_to_run_the_tea...   \n",
       "54297                 34  the_baseball_talmud:_koufax,_greenberg,_and_th...   \n",
       "54299                867  he_wanted_the_moon:_the_madness_and_medical_ge...   \n",
       "54300                 12  the_anthology_and_the_rise_of_the_novel:_from_...   \n",
       "\n",
       "                                                  genres  \\\n",
       "0      Young Adult|Fiction|Science Fiction|Dystopia|F...   \n",
       "1                            Fantasy|Young Adult|Fiction   \n",
       "2      Classics|Fiction|Historical|Historical Fiction...   \n",
       "4      Young Adult|Fantasy|Romance|Paranormal|Vampire...   \n",
       "5      Historical|Historical Fiction|Fiction|Young Adult   \n",
       "...                                                  ...   \n",
       "54295  Nonfiction|Autobiography|Memoir|Biography|Writ...   \n",
       "54296  Sports|Baseball|Sports and Games|Sports|Nonfic...   \n",
       "54297                 Nonfiction|Sports and Games|Sports   \n",
       "54299  Nonfiction|Autobiography|Memoir|Biography|Psyc...   \n",
       "54300  Criticism|Literary Criticism|Philosophy|Theory...   \n",
       "\n",
       "                                               image_url  \\\n",
       "0      https://images.gr-assets.com/books/1447303603l...   \n",
       "1      https://images.gr-assets.com/books/1255614970l...   \n",
       "2      https://images.gr-assets.com/books/1361975680l...   \n",
       "4      https://images.gr-assets.com/books/1361039443l...   \n",
       "5      https://images.gr-assets.com/books/1522157426l...   \n",
       "...                                                  ...   \n",
       "54295  https://images.gr-assets.com/books/1320533033l...   \n",
       "54296  https://images.gr-assets.com/books/1312074392l...   \n",
       "54297  https://images.gr-assets.com/books/1348841629l...   \n",
       "54299  https://images.gr-assets.com/books/1403192135l...   \n",
       "54300  https://images.gr-assets.com/books/1349014225l...   \n",
       "\n",
       "                book_authors_init  \\\n",
       "0                 Suzanne Collins   \n",
       "1      J.K. Rowling|Mary GrandPré   \n",
       "2                      Harper Lee   \n",
       "4                 Stephenie Meyer   \n",
       "5                    Markus Zusak   \n",
       "...                           ...   \n",
       "54295               Avi Steinberg   \n",
       "54296               Howard Megdal   \n",
       "54297               Howard Megdal   \n",
       "54299      Mimi Baird|Eve Claxton   \n",
       "54300                  Leah Price   \n",
       "\n",
       "                                         book_title_init  \\\n",
       "0                                       The Hunger Games   \n",
       "1              Harry Potter and the Order of the Phoenix   \n",
       "2                                  To Kill a Mockingbird   \n",
       "4                                               Twilight   \n",
       "5                                         The Book Thief   \n",
       "...                                                  ...   \n",
       "54295  Running the Books: The Adventures of an Accide...   \n",
       "54296  Taking the Field: A Fan's Quest to Run the Tea...   \n",
       "54297  The Baseball Talmud: Koufax, Greenberg, and th...   \n",
       "54299  He Wanted the Moon: The Madness and Medical Ge...   \n",
       "54300  The Anthology and the Rise of the Novel: From ...   \n",
       "\n",
       "                              bow  \n",
       "0                 suzanne_collins  \n",
       "1      j.k._rowling mary_grandpré  \n",
       "2                      harper_lee  \n",
       "4                 stephenie_meyer  \n",
       "5                    markus_zusak  \n",
       "...                           ...  \n",
       "54295               avi_steinberg  \n",
       "54296               howard_megdal  \n",
       "54297               howard_megdal  \n",
       "54299      mimi_baird eve_claxton  \n",
       "54300                  leah_price  \n",
       "\n",
       "[43292 rows x 13 columns]"
      ]
     },
     "execution_count": 52,
     "metadata": {},
     "output_type": "execute_result"
    }
   ],
   "source": [
    "eda_data"
   ]
  },
  {
   "cell_type": "code",
   "execution_count": null,
   "id": "2017b95b",
   "metadata": {},
   "outputs": [],
   "source": []
  },
  {
   "cell_type": "code",
   "execution_count": null,
   "id": "08c9be60",
   "metadata": {},
   "outputs": [],
   "source": []
  },
  {
   "cell_type": "code",
   "execution_count": null,
   "id": "d4ebd24a",
   "metadata": {},
   "outputs": [],
   "source": []
  },
  {
   "cell_type": "code",
   "execution_count": null,
   "id": "20a76dd7",
   "metadata": {},
   "outputs": [],
   "source": []
  },
  {
   "cell_type": "code",
   "execution_count": null,
   "id": "e2516641",
   "metadata": {},
   "outputs": [],
   "source": []
  },
  {
   "cell_type": "code",
   "execution_count": null,
   "id": "26560ef9",
   "metadata": {},
   "outputs": [],
   "source": []
  },
  {
   "cell_type": "markdown",
   "id": "608e06b6-269b-46ec-bfec-ce80b5107740",
   "metadata": {
    "id": "608e06b6-269b-46ec-bfec-ce80b5107740"
   },
   "source": [
    "---\n",
    "### Save Preprocessed Data"
   ]
  },
  {
   "cell_type": "code",
   "execution_count": 53,
   "id": "02987dde-d4b7-426d-9b5e-060fce3217f2",
   "metadata": {
    "executionInfo": {
     "elapsed": 1238,
     "status": "ok",
     "timestamp": 1677472674262,
     "user": {
      "displayName": "Trang Thuy",
      "userId": "00606403752895192854"
     },
     "user_tz": 300
    },
    "id": "02987dde-d4b7-426d-9b5e-060fce3217f2"
   },
   "outputs": [],
   "source": [
    "eda_data.to_csv(\"preprocessed_april25th.csv\", sep=\",\", index=False)"
   ]
  },
  {
   "cell_type": "code",
   "execution_count": null,
   "id": "30131be1",
   "metadata": {
    "executionInfo": {
     "elapsed": 72,
     "status": "ok",
     "timestamp": 1677472674264,
     "user": {
      "displayName": "Trang Thuy",
      "userId": "00606403752895192854"
     },
     "user_tz": 300
    },
    "id": "30131be1"
   },
   "outputs": [],
   "source": []
  }
 ],
 "metadata": {
  "colab": {
   "provenance": []
  },
  "kernelspec": {
   "display_name": "Python 3 (ipykernel)",
   "language": "python",
   "name": "python3"
  },
  "language_info": {
   "codemirror_mode": {
    "name": "ipython",
    "version": 3
   },
   "file_extension": ".py",
   "mimetype": "text/x-python",
   "name": "python",
   "nbconvert_exporter": "python",
   "pygments_lexer": "ipython3",
   "version": "3.9.12"
  }
 },
 "nbformat": 4,
 "nbformat_minor": 5
}
