{
 "cells": [
  {
   "cell_type": "code",
   "execution_count": 25,
   "id": "81d1e38c",
   "metadata": {},
   "outputs": [
    {
     "name": "stdout",
     "output_type": "stream",
     "text": [
      "Requirement already satisfied: nltk in c:\\users\\kagom\\appdata\\local\\programs\\python\\python311\\lib\\site-packages (3.8.1)\n",
      "Requirement already satisfied: click in c:\\users\\kagom\\appdata\\local\\programs\\python\\python311\\lib\\site-packages (from nltk) (8.1.3)\n",
      "Requirement already satisfied: joblib in c:\\users\\kagom\\appdata\\local\\programs\\python\\python311\\lib\\site-packages (from nltk) (1.2.0)\n",
      "Requirement already satisfied: regex>=2021.8.3 in c:\\users\\kagom\\appdata\\local\\programs\\python\\python311\\lib\\site-packages (from nltk) (2023.3.23)\n",
      "Requirement already satisfied: tqdm in c:\\users\\kagom\\appdata\\local\\programs\\python\\python311\\lib\\site-packages (from nltk) (4.65.0)\n",
      "Requirement already satisfied: colorama in c:\\users\\kagom\\appdata\\local\\programs\\python\\python311\\lib\\site-packages (from click->nltk) (0.4.6)\n",
      "Note: you may need to restart the kernel to use updated packages.\n"
     ]
    },
    {
     "name": "stderr",
     "output_type": "stream",
     "text": [
      "\n",
      "[notice] A new release of pip is available: 23.0.1 -> 23.1.1\n",
      "[notice] To update, run: python.exe -m pip install --upgrade pip\n"
     ]
    }
   ],
   "source": [
    "%pip install nltk\n",
    "import pandas as pd\n",
    "import numpy as np\n",
    "from sklearn.feature_extraction.text import CountVectorizer, TfidfVectorizer\n",
    "import nltk\n",
    "from sklearn.metrics.pairwise import cosine_similarity"
   ]
  },
  {
   "cell_type": "code",
   "execution_count": 37,
   "id": "c971ed36",
   "metadata": {},
   "outputs": [
    {
     "data": {
      "text/html": [
       "<div>\n",
       "<style scoped>\n",
       "    .dataframe tbody tr th:only-of-type {\n",
       "        vertical-align: middle;\n",
       "    }\n",
       "\n",
       "    .dataframe tbody tr th {\n",
       "        vertical-align: top;\n",
       "    }\n",
       "\n",
       "    .dataframe thead th {\n",
       "        text-align: right;\n",
       "    }\n",
       "</style>\n",
       "<table border=\"1\" class=\"dataframe\">\n",
       "  <thead>\n",
       "    <tr style=\"text-align: right;\">\n",
       "      <th></th>\n",
       "      <th>book_desc</th>\n",
       "      <th>book_title</th>\n",
       "      <th>image_url</th>\n",
       "      <th>book_authors_init</th>\n",
       "      <th>book_title_init</th>\n",
       "    </tr>\n",
       "  </thead>\n",
       "  <tbody>\n",
       "    <tr>\n",
       "      <th>0</th>\n",
       "      <td>winning will make you famous losing means cert...</td>\n",
       "      <td>the_hunger_games</td>\n",
       "      <td>https://images.gr-assets.com/books/1447303603l...</td>\n",
       "      <td>Suzanne Collins</td>\n",
       "      <td>The Hunger Games</td>\n",
       "    </tr>\n",
       "    <tr>\n",
       "      <th>1</th>\n",
       "      <td>there is a door at the end of a silent corrido...</td>\n",
       "      <td>harry_potter_and_the_order_of_the_phoenix</td>\n",
       "      <td>https://images.gr-assets.com/books/1255614970l...</td>\n",
       "      <td>J.K. Rowling|Mary GrandPré</td>\n",
       "      <td>Harry Potter and the Order of the Phoenix</td>\n",
       "    </tr>\n",
       "    <tr>\n",
       "      <th>2</th>\n",
       "      <td>the unforgettable novel of a childhood in a sl...</td>\n",
       "      <td>to_kill_a_mockingbird</td>\n",
       "      <td>https://images.gr-assets.com/books/1361975680l...</td>\n",
       "      <td>Harper Lee</td>\n",
       "      <td>To Kill a Mockingbird</td>\n",
       "    </tr>\n",
       "    <tr>\n",
       "      <th>3</th>\n",
       "      <td>about three things i was absolutely positive f...</td>\n",
       "      <td>twilight1</td>\n",
       "      <td>https://images.gr-assets.com/books/1361039443l...</td>\n",
       "      <td>Stephenie Meyer</td>\n",
       "      <td>Twilight</td>\n",
       "    </tr>\n",
       "    <tr>\n",
       "      <th>4</th>\n",
       "      <td>trying to make sense of the horrors of world w...</td>\n",
       "      <td>the_book_thief1</td>\n",
       "      <td>https://images.gr-assets.com/books/1522157426l...</td>\n",
       "      <td>Markus Zusak</td>\n",
       "      <td>The Book Thief</td>\n",
       "    </tr>\n",
       "  </tbody>\n",
       "</table>\n",
       "</div>"
      ],
      "text/plain": [
       "                                           book_desc  \\\n",
       "0  winning will make you famous losing means cert...   \n",
       "1  there is a door at the end of a silent corrido...   \n",
       "2  the unforgettable novel of a childhood in a sl...   \n",
       "3  about three things i was absolutely positive f...   \n",
       "4  trying to make sense of the horrors of world w...   \n",
       "\n",
       "                                  book_title  \\\n",
       "0                           the_hunger_games   \n",
       "1  harry_potter_and_the_order_of_the_phoenix   \n",
       "2                      to_kill_a_mockingbird   \n",
       "3                                  twilight1   \n",
       "4                            the_book_thief1   \n",
       "\n",
       "                                           image_url  \\\n",
       "0  https://images.gr-assets.com/books/1447303603l...   \n",
       "1  https://images.gr-assets.com/books/1255614970l...   \n",
       "2  https://images.gr-assets.com/books/1361975680l...   \n",
       "3  https://images.gr-assets.com/books/1361039443l...   \n",
       "4  https://images.gr-assets.com/books/1522157426l...   \n",
       "\n",
       "            book_authors_init                            book_title_init  \n",
       "0             Suzanne Collins                           The Hunger Games  \n",
       "1  J.K. Rowling|Mary GrandPré  Harry Potter and the Order of the Phoenix  \n",
       "2                  Harper Lee                      To Kill a Mockingbird  \n",
       "3             Stephenie Meyer                                   Twilight  \n",
       "4                Markus Zusak                             The Book Thief  "
      ]
     },
     "execution_count": 37,
     "metadata": {},
     "output_type": "execute_result"
    }
   ],
   "source": [
    "data = 'preprocessed_april25th.csv'\n",
    "\n",
    "model_data = pd.read_csv(data, usecols=[\"book_title\", \"book_desc\", \"image_url\", \"book_title_init\", \"book_authors_init\"])\n",
    "model_data1 = model_data[:3000]\n",
    "model_data1.head()"
   ]
  },
  {
   "cell_type": "code",
   "execution_count": 38,
   "id": "f1ac2e41",
   "metadata": {},
   "outputs": [
    {
     "data": {
      "text/html": [
       "<div>\n",
       "<style scoped>\n",
       "    .dataframe tbody tr th:only-of-type {\n",
       "        vertical-align: middle;\n",
       "    }\n",
       "\n",
       "    .dataframe tbody tr th {\n",
       "        vertical-align: top;\n",
       "    }\n",
       "\n",
       "    .dataframe thead th {\n",
       "        text-align: right;\n",
       "    }\n",
       "</style>\n",
       "<table border=\"1\" class=\"dataframe\">\n",
       "  <thead>\n",
       "    <tr style=\"text-align: right;\">\n",
       "      <th></th>\n",
       "      <th>book_desc</th>\n",
       "      <th>book_title</th>\n",
       "      <th>image_url</th>\n",
       "      <th>book_authors_init</th>\n",
       "      <th>book_title_init</th>\n",
       "    </tr>\n",
       "  </thead>\n",
       "  <tbody>\n",
       "    <tr>\n",
       "      <th>608</th>\n",
       "      <td>he is a legend she is a prodigy who will be ch...</td>\n",
       "      <td>champion</td>\n",
       "      <td>https://images.gr-assets.com/books/1382652310l...</td>\n",
       "      <td>Marie Lu</td>\n",
       "      <td>Champion</td>\n",
       "    </tr>\n",
       "  </tbody>\n",
       "</table>\n",
       "</div>"
      ],
      "text/plain": [
       "                                             book_desc book_title  \\\n",
       "608  he is a legend she is a prodigy who will be ch...   champion   \n",
       "\n",
       "                                             image_url book_authors_init  \\\n",
       "608  https://images.gr-assets.com/books/1382652310l...          Marie Lu   \n",
       "\n",
       "    book_title_init  \n",
       "608        Champion  "
      ]
     },
     "execution_count": 38,
     "metadata": {},
     "output_type": "execute_result"
    }
   ],
   "source": [
    "model_data1[model_data1[\"book_title\"]==\"champion\"]"
   ]
  },
  {
   "cell_type": "code",
   "execution_count": 39,
   "id": "056415f6",
   "metadata": {},
   "outputs": [
    {
     "name": "stdout",
     "output_type": "stream",
     "text": [
      "['001' '007' '01' '0312984820' '0345418921' '0375869026' '038572'\n",
      " '0451456734' '05' '057' '0571225381' '0618260269' '0618346252'\n",
      " '0679734511' '0743273567' '0743482832' '0785263705' '10' '100' '1048'\n",
      " '105' '109' '10th' '11' '112' '1131' '1135' '114' '114d' '118a' '11th'\n",
      " '12' '120' '1204' '121' '123' '1265' '12ashton' '13' '1300' '1321' '1327'\n",
      " '1330' '1351' '13th' '14' '140' '1400s' '1416524525' '1418' '1439107955'\n",
      " '1460' '1478' '1480' '1492' '14th' '15' '150' '150th' '1516' '1520s'\n",
      " '1533' '1535' '1547' '1553' '1557' '1564' '1572' '1586' '159' '1597'\n",
      " '1599' '15th' '16' '1600' '1603' '1620' '1620s' '1623' '1655' '1660s'\n",
      " '1666' '1689' '16th' '17' '1708' '1714' '1726' '1728' '1733' '1740'\n",
      " '1743' '1746' '1755' '1767' '1771' '1772' '1774' '1776']\n",
      "(3000, 26946)\n"
     ]
    }
   ],
   "source": [
    "tfidf = TfidfVectorizer(analyzer = 'word',\n",
    "                        min_df=1,\n",
    "                        max_df = 0.99,\n",
    "                        stop_words=\"english\",\n",
    "                        encoding = 'utf-8', \n",
    "                        token_pattern=r\"(?u)\\S\\S+\")\n",
    "tfidf_encoding = tfidf.fit_transform(model_data1[\"book_desc\"])\n",
    "print(tfidf.get_feature_names_out()[1:100])\n",
    "print(tfidf_encoding.shape)"
   ]
  },
  {
   "cell_type": "code",
   "execution_count": 40,
   "id": "68c31f5b",
   "metadata": {},
   "outputs": [],
   "source": [
    "## Find most books with similar words in a given text query\n",
    "\n",
    "def comp_description(query, results_number=3):\n",
    "        results=[]\n",
    "        q_vector = tfidf.transform([query])\n",
    "        print(\"Comparable Description: \", query)\n",
    "        results.append(cosine_similarity(q_vector, tfidf_encoding.toarray()))\n",
    "        elem_list=[]\n",
    "        for i in results[:10]:\n",
    "            for elem in i[0]:\n",
    "                    #print(\"Review\",f, \"Similarity: \", elem)\n",
    "                    elem_list.append(elem)\n",
    "                    \n",
    "        for i in range(results_number):\n",
    "            print(\"Most relevant to the query is Book #\" ,elem_list.index(max(elem_list)))\n",
    "            print(\"Similarity: \", max(elem_list))\n",
    "            if sum(elem_list) / len(elem_list)==0.0:\n",
    "                print(\"No similar descriptions\")\n",
    "            else:\n",
    "                print(model_data['book_title'].loc[elem_list.index(max(elem_list)):elem_list.index(max(elem_list))], '\\n')\n",
    "                elem_list.pop(elem_list.index(max(elem_list)))"
   ]
  },
  {
   "cell_type": "code",
   "execution_count": 41,
   "id": "1fd2c497",
   "metadata": {},
   "outputs": [
    {
     "name": "stdout",
     "output_type": "stream",
     "text": [
      "Comparable Description:  I want to read a Jane Austen book that have gothic elements.\n",
      "Most relevant to the query is Book # 2238\n",
      "Similarity:  0.29311792060052066\n",
      "2238    austenland\n",
      "Name: book_title, dtype: object \n",
      "\n",
      "Most relevant to the query is Book # 443\n",
      "Similarity:  0.275368550820846\n",
      "443    northanger_abbey1\n",
      "Name: book_title, dtype: object \n",
      "\n",
      "Most relevant to the query is Book # 17\n",
      "Similarity:  0.25635328770926785\n",
      "17    jane_eyre1\n",
      "Name: book_title, dtype: object \n",
      "\n"
     ]
    }
   ],
   "source": [
    "query = \"I want to read a Jane Austen book that have gothic elements.\"\n",
    "comp_description(query)"
   ]
  }
 ],
 "metadata": {
  "kernelspec": {
   "display_name": "Python 3 (ipykernel)",
   "language": "python",
   "name": "python3"
  },
  "language_info": {
   "codemirror_mode": {
    "name": "ipython",
    "version": 3
   },
   "file_extension": ".py",
   "mimetype": "text/x-python",
   "name": "python",
   "nbconvert_exporter": "python",
   "pygments_lexer": "ipython3",
   "version": "3.11.2"
  }
 },
 "nbformat": 4,
 "nbformat_minor": 5
}
