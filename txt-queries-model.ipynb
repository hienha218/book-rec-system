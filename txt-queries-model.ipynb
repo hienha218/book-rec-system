{
 "cells": [
  {
   "cell_type": "code",
   "execution_count": 1,
   "id": "81d1e38c",
   "metadata": {},
   "outputs": [],
   "source": [
    "import pandas as pd\n",
    "import numpy as np\n",
    "from sklearn.feature_extraction.text import CountVectorizer, TfidfVectorizer\n",
    "import nltk\n",
    "from sklearn.metrics.pairwise import cosine_similarity"
   ]
  },
  {
   "cell_type": "code",
   "execution_count": 2,
   "id": "c971ed36",
   "metadata": {},
   "outputs": [
    {
     "data": {
      "text/html": [
       "<div>\n",
       "<style scoped>\n",
       "    .dataframe tbody tr th:only-of-type {\n",
       "        vertical-align: middle;\n",
       "    }\n",
       "\n",
       "    .dataframe tbody tr th {\n",
       "        vertical-align: top;\n",
       "    }\n",
       "\n",
       "    .dataframe thead th {\n",
       "        text-align: right;\n",
       "    }\n",
       "</style>\n",
       "<table border=\"1\" class=\"dataframe\">\n",
       "  <thead>\n",
       "    <tr style=\"text-align: right;\">\n",
       "      <th></th>\n",
       "      <th>book_title</th>\n",
       "      <th>keywords</th>\n",
       "    </tr>\n",
       "  </thead>\n",
       "  <tbody>\n",
       "    <tr>\n",
       "      <th>0</th>\n",
       "      <td>the_hunger_games</td>\n",
       "      <td>suzanne_collins katniss winning hunger lottery...</td>\n",
       "    </tr>\n",
       "    <tr>\n",
       "      <th>1</th>\n",
       "      <td>harry_potter_and_the_order_of_the_phoenix</td>\n",
       "      <td>j.k._rowling mary_grandpré harry hogwarts terr...</td>\n",
       "    </tr>\n",
       "    <tr>\n",
       "      <th>2</th>\n",
       "      <td>to_kill_a_mockingbird</td>\n",
       "      <td>harper_lee mockingbird literature pulitzer nov...</td>\n",
       "    </tr>\n",
       "    <tr>\n",
       "      <th>3</th>\n",
       "      <td>twilight</td>\n",
       "      <td>stephenie_meyer cullen vampire vampires bella ...</td>\n",
       "    </tr>\n",
       "    <tr>\n",
       "      <th>4</th>\n",
       "      <td>the_book_thief</td>\n",
       "      <td>markus_zusak liesel jewish german book war</td>\n",
       "    </tr>\n",
       "  </tbody>\n",
       "</table>\n",
       "</div>"
      ],
      "text/plain": [
       "                                  book_title  \\\n",
       "0                           the_hunger_games   \n",
       "1  harry_potter_and_the_order_of_the_phoenix   \n",
       "2                      to_kill_a_mockingbird   \n",
       "3                                   twilight   \n",
       "4                             the_book_thief   \n",
       "\n",
       "                                            keywords  \n",
       "0  suzanne_collins katniss winning hunger lottery...  \n",
       "1  j.k._rowling mary_grandpré harry hogwarts terr...  \n",
       "2  harper_lee mockingbird literature pulitzer nov...  \n",
       "3  stephenie_meyer cullen vampire vampires bella ...  \n",
       "4         markus_zusak liesel jewish german book war  "
      ]
     },
     "execution_count": 2,
     "metadata": {},
     "output_type": "execute_result"
    }
   ],
   "source": [
    "data = 'keywords1.csv'\n",
    "\n",
    "model_data = pd.read_csv(data)\n",
    "model_data.head()"
   ]
  },
  {
   "cell_type": "code",
   "execution_count": 3,
   "id": "f1ac2e41",
   "metadata": {},
   "outputs": [
    {
     "data": {
      "text/html": [
       "<div>\n",
       "<style scoped>\n",
       "    .dataframe tbody tr th:only-of-type {\n",
       "        vertical-align: middle;\n",
       "    }\n",
       "\n",
       "    .dataframe tbody tr th {\n",
       "        vertical-align: top;\n",
       "    }\n",
       "\n",
       "    .dataframe thead th {\n",
       "        text-align: right;\n",
       "    }\n",
       "</style>\n",
       "<table border=\"1\" class=\"dataframe\">\n",
       "  <thead>\n",
       "    <tr style=\"text-align: right;\">\n",
       "      <th></th>\n",
       "      <th>book_title</th>\n",
       "      <th>keywords</th>\n",
       "    </tr>\n",
       "  </thead>\n",
       "  <tbody>\n",
       "    <tr>\n",
       "      <th>606</th>\n",
       "      <td>champion</td>\n",
       "      <td>marie_lu june marie trilogy plague republic</td>\n",
       "    </tr>\n",
       "  </tbody>\n",
       "</table>\n",
       "</div>"
      ],
      "text/plain": [
       "    book_title                                     keywords\n",
       "606   champion  marie_lu june marie trilogy plague republic"
      ]
     },
     "execution_count": 3,
     "metadata": {},
     "output_type": "execute_result"
    }
   ],
   "source": [
    "model_data[model_data[\"book_title\"]==\"champion\"]"
   ]
  },
  {
   "cell_type": "code",
   "execution_count": 4,
   "id": "056415f6",
   "metadata": {},
   "outputs": [
    {
     "name": "stdout",
     "output_type": "stream",
     "text": [
      "['1666' '1726' '1776' '1815' '1818' '1832' '1847' '1850s' '1854' '1859'\n",
      " '1879' '1895' '1903' '1914' '1920s' '1921' '1922' '1925' '1939' '1940s'\n",
      " '1941' '1942' '1943' '1944' '1954' '1956' '1957' '1959' '1960' '1981'\n",
      " '1984' '1988' '2045' '451' '747' 'a.a._milne' 'a.s._byatt' 'a.w._wheen'\n",
      " 'aarons' 'abandoned' 'abbey' 'abby' 'abducted' 'abel' 'abernathy'\n",
      " 'abhorsen' 'abigail' 'abilities' 'abortion' 'abraham_verghese' 'abridged'\n",
      " 'absalom' 'absurd' 'abuse' 'ace' 'acheron' 'achieve' 'achilles' 'ackroyd'\n",
      " 'actor' 'adam' 'adam_long' 'adams' 'addiction' 'adolescence' 'adolescent'\n",
      " 'adored' 'adrienne' 'adventure' 'adventurenarnia' 'adventurer'\n",
      " 'adventures' 'advice' 'aelin' 'aeneas' 'aeneid' 'affair' 'affairs'\n",
      " 'afghan' 'afghanistan' 'africa' 'african' 'afterlife' 'afterworld'\n",
      " 'agatha' 'agatha_christie' 'ages' 'agrarian' 'aiden' 'airman' 'airplanes'\n",
      " 'aislinn' 'aladdin' 'alagaësia' 'alan_moore' 'alan_myers' 'alan_paton'\n",
      " 'alan_r._clarke' 'alan_shelston']\n",
      "(993, 3661)\n"
     ]
    }
   ],
   "source": [
    "tfidf = TfidfVectorizer(analyzer = 'word',\n",
    "                        min_df=1,\n",
    "                        max_df = 0.99,\n",
    "                        stop_words=\"english\",\n",
    "                        encoding = 'utf-8', \n",
    "                        token_pattern=r\"(?u)\\S\\S+\")\n",
    "tfidf_encoding = tfidf.fit_transform(model_data[\"keywords\"])\n",
    "print(tfidf.get_feature_names_out()[1:100])\n",
    "print(tfidf_encoding.shape)"
   ]
  },
  {
   "cell_type": "code",
   "execution_count": 7,
   "id": "68c31f5b",
   "metadata": {},
   "outputs": [],
   "source": [
    "## Find most books with similar words in a given text query\n",
    "\n",
    "def comp_description(query, results_number=3):\n",
    "        results=[]\n",
    "        q_vector = tfidf.transform([query])\n",
    "        print(\"Comparable Description: \", query)\n",
    "        results.append(cosine_similarity(q_vector, tfidf_encoding.toarray()))\n",
    "        elem_list=[]\n",
    "        for i in results[:10]:\n",
    "            for elem in i[0]:\n",
    "                    #print(\"Review\",f, \"Similarity: \", elem)\n",
    "                    elem_list.append(elem)\n",
    "                    \n",
    "        for i in range(results_number):\n",
    "            print(\"Most relevant to the query is Book #\" ,elem_list.index(max(elem_list)))\n",
    "            print(\"Similarity: \", max(elem_list))\n",
    "            if sum(elem_list) / len(elem_list)==0.0:\n",
    "                print(\"No similar descriptions\")\n",
    "            else:\n",
    "                print(model_data['book_title'].loc[elem_list.index(max(elem_list)):elem_list.index(max(elem_list))], '\\n')\n",
    "                elem_list.pop(elem_list.index(max(elem_list)))"
   ]
  },
  {
   "cell_type": "code",
   "execution_count": 8,
   "id": "1fd2c497",
   "metadata": {},
   "outputs": [
    {
     "name": "stdout",
     "output_type": "stream",
     "text": [
      "Comparable Description:  I want to read a Jane Austen book that have Greek mythology components.\n",
      "Most relevant to the query is Book # 353\n",
      "Similarity:  0.33206672352509137\n",
      "353    mansfield_park\n",
      "Name: book_title, dtype: object \n",
      "\n",
      "Most relevant to the query is Book # 606\n",
      "Similarity:  0.30158239497264594\n",
      "606    champion\n",
      "Name: book_title, dtype: object \n",
      "\n",
      "Most relevant to the query is Book # 341\n",
      "Similarity:  0.1964231255004696\n",
      "341    the_mark_of_athena\n",
      "Name: book_title, dtype: object \n",
      "\n"
     ]
    }
   ],
   "source": [
    "query = \"I want to read a Jane Austen book that have Greek mythology components.\"\n",
    "comp_description(query)"
   ]
  },
  {
   "cell_type": "code",
   "execution_count": 8,
   "id": "d63af031",
   "metadata": {},
   "outputs": [],
   "source": [
    "import pickle"
   ]
  },
  {
   "cell_type": "code",
   "execution_count": 10,
   "id": "514c7efc",
   "metadata": {},
   "outputs": [],
   "source": [
    "# save model\n",
    "with open('model.pickle', 'wb') as f:\n",
    "    pickle.dump(tfidf, f)"
   ]
  }
 ],
 "metadata": {
  "kernelspec": {
   "display_name": "Python 3 (ipykernel)",
   "language": "python",
   "name": "python3"
  },
  "language_info": {
   "codemirror_mode": {
    "name": "ipython",
    "version": 3
   },
   "file_extension": ".py",
   "mimetype": "text/x-python",
   "name": "python",
   "nbconvert_exporter": "python",
   "pygments_lexer": "ipython3",
   "version": "3.9.12"
  }
 },
 "nbformat": 4,
 "nbformat_minor": 5
}
