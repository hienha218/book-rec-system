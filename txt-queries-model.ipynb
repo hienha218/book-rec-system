{
 "cells": [
  {
   "cell_type": "code",
   "execution_count": 1,
   "id": "81d1e38c",
   "metadata": {},
   "outputs": [],
   "source": [
    "import pandas as pd\n",
    "import numpy as np\n",
    "from sklearn.feature_extraction.text import CountVectorizer, TfidfVectorizer\n",
    "import nltk\n",
    "from sklearn.metrics.pairwise import cosine_similarity"
   ]
  },
  {
   "cell_type": "code",
   "execution_count": 2,
   "id": "c971ed36",
   "metadata": {},
   "outputs": [
    {
     "data": {
      "text/html": [
       "<div>\n",
       "<style scoped>\n",
       "    .dataframe tbody tr th:only-of-type {\n",
       "        vertical-align: middle;\n",
       "    }\n",
       "\n",
       "    .dataframe tbody tr th {\n",
       "        vertical-align: top;\n",
       "    }\n",
       "\n",
       "    .dataframe thead th {\n",
       "        text-align: right;\n",
       "    }\n",
       "</style>\n",
       "<table border=\"1\" class=\"dataframe\">\n",
       "  <thead>\n",
       "    <tr style=\"text-align: right;\">\n",
       "      <th></th>\n",
       "      <th>book_authors</th>\n",
       "      <th>book_title</th>\n",
       "      <th>image_url</th>\n",
       "      <th>book_authors_init</th>\n",
       "      <th>book_title_init</th>\n",
       "      <th>keywords</th>\n",
       "    </tr>\n",
       "  </thead>\n",
       "  <tbody>\n",
       "    <tr>\n",
       "      <th>0</th>\n",
       "      <td>suzanne_collins</td>\n",
       "      <td>the_hunger_games</td>\n",
       "      <td>https://images.gr-assets.com/books/1447303603l...</td>\n",
       "      <td>Suzanne Collins</td>\n",
       "      <td>The Hunger Games</td>\n",
       "      <td>suzanne_collins representative katniss katniss...</td>\n",
       "    </tr>\n",
       "    <tr>\n",
       "      <th>1</th>\n",
       "      <td>j.k._rowling mary_grandpré</td>\n",
       "      <td>harry_potter_and_the_order_of_the_phoenix</td>\n",
       "      <td>https://images.gr-assets.com/books/1255614970l...</td>\n",
       "      <td>J.K. Rowling|Mary GrandPré</td>\n",
       "      <td>Harry Potter and the Order of the Phoenix</td>\n",
       "      <td>j.k._rowling mary_grandpré haunting harry terr...</td>\n",
       "    </tr>\n",
       "    <tr>\n",
       "      <th>2</th>\n",
       "      <td>harper_lee</td>\n",
       "      <td>to_kill_a_mockingbird</td>\n",
       "      <td>https://images.gr-assets.com/books/1361975680l...</td>\n",
       "      <td>Harper Lee</td>\n",
       "      <td>To Kill a Mockingbird</td>\n",
       "      <td>harper_lee kill mockingbird mockingbird mockin...</td>\n",
       "    </tr>\n",
       "    <tr>\n",
       "      <th>3</th>\n",
       "      <td>stephenie_meyer</td>\n",
       "      <td>twilight</td>\n",
       "      <td>https://images.gr-assets.com/books/1361039443l...</td>\n",
       "      <td>Stephenie Meyer</td>\n",
       "      <td>Twilight</td>\n",
       "      <td>stephenie_meyer edward vampire edward cullen c...</td>\n",
       "    </tr>\n",
       "    <tr>\n",
       "      <th>4</th>\n",
       "      <td>markus_zusak</td>\n",
       "      <td>the_book_thief</td>\n",
       "      <td>https://images.gr-assets.com/books/1522157426l...</td>\n",
       "      <td>Markus Zusak</td>\n",
       "      <td>The Book Thief</td>\n",
       "      <td>markus_zusak german girl story liesel girl boo...</td>\n",
       "    </tr>\n",
       "  </tbody>\n",
       "</table>\n",
       "</div>"
      ],
      "text/plain": [
       "                 book_authors                                 book_title  \\\n",
       "0             suzanne_collins                           the_hunger_games   \n",
       "1  j.k._rowling mary_grandpré  harry_potter_and_the_order_of_the_phoenix   \n",
       "2                  harper_lee                      to_kill_a_mockingbird   \n",
       "3             stephenie_meyer                                   twilight   \n",
       "4                markus_zusak                             the_book_thief   \n",
       "\n",
       "                                           image_url  \\\n",
       "0  https://images.gr-assets.com/books/1447303603l...   \n",
       "1  https://images.gr-assets.com/books/1255614970l...   \n",
       "2  https://images.gr-assets.com/books/1361975680l...   \n",
       "3  https://images.gr-assets.com/books/1361039443l...   \n",
       "4  https://images.gr-assets.com/books/1522157426l...   \n",
       "\n",
       "            book_authors_init                            book_title_init  \\\n",
       "0             Suzanne Collins                           The Hunger Games   \n",
       "1  J.K. Rowling|Mary GrandPré  Harry Potter and the Order of the Phoenix   \n",
       "2                  Harper Lee                      To Kill a Mockingbird   \n",
       "3             Stephenie Meyer                                   Twilight   \n",
       "4                Markus Zusak                             The Book Thief   \n",
       "\n",
       "                                            keywords  \n",
       "0  suzanne_collins representative katniss katniss...  \n",
       "1  j.k._rowling mary_grandpré haunting harry terr...  \n",
       "2  harper_lee kill mockingbird mockingbird mockin...  \n",
       "3  stephenie_meyer edward vampire edward cullen c...  \n",
       "4  markus_zusak german girl story liesel girl boo...  "
      ]
     },
     "execution_count": 2,
     "metadata": {},
     "output_type": "execute_result"
    }
   ],
   "source": [
    "data = 'keywords3.csv'\n",
    "\n",
    "model_data = pd.read_csv(data)\n",
    "model_data.head()"
   ]
  },
  {
   "cell_type": "code",
   "execution_count": 3,
   "id": "f1ac2e41",
   "metadata": {},
   "outputs": [
    {
     "data": {
      "text/html": [
       "<div>\n",
       "<style scoped>\n",
       "    .dataframe tbody tr th:only-of-type {\n",
       "        vertical-align: middle;\n",
       "    }\n",
       "\n",
       "    .dataframe tbody tr th {\n",
       "        vertical-align: top;\n",
       "    }\n",
       "\n",
       "    .dataframe thead th {\n",
       "        text-align: right;\n",
       "    }\n",
       "</style>\n",
       "<table border=\"1\" class=\"dataframe\">\n",
       "  <thead>\n",
       "    <tr style=\"text-align: right;\">\n",
       "      <th></th>\n",
       "      <th>book_authors</th>\n",
       "      <th>book_title</th>\n",
       "      <th>image_url</th>\n",
       "      <th>book_authors_init</th>\n",
       "      <th>book_title_init</th>\n",
       "      <th>keywords</th>\n",
       "    </tr>\n",
       "  </thead>\n",
       "  <tbody>\n",
       "    <tr>\n",
       "      <th>606</th>\n",
       "      <td>marie_lu</td>\n",
       "      <td>champion</td>\n",
       "      <td>https://images.gr-assets.com/books/1382652310l...</td>\n",
       "      <td>Marie Lu</td>\n",
       "      <td>Champion</td>\n",
       "      <td>marie_lu june knows champion june suspense mar...</td>\n",
       "    </tr>\n",
       "  </tbody>\n",
       "</table>\n",
       "</div>"
      ],
      "text/plain": [
       "    book_authors book_title  \\\n",
       "606     marie_lu   champion   \n",
       "\n",
       "                                             image_url book_authors_init  \\\n",
       "606  https://images.gr-assets.com/books/1382652310l...          Marie Lu   \n",
       "\n",
       "    book_title_init                                           keywords  \n",
       "606        Champion  marie_lu june knows champion june suspense mar...  "
      ]
     },
     "execution_count": 3,
     "metadata": {},
     "output_type": "execute_result"
    }
   ],
   "source": [
    "model_data[model_data[\"book_title\"]==\"champion\"]"
   ]
  },
  {
   "cell_type": "code",
   "execution_count": 4,
   "id": "056415f6",
   "metadata": {},
   "outputs": [
    {
     "name": "stdout",
     "output_type": "stream",
     "text": [
      "['12' '12ashton' '1327' '1351' '1666' '1726' '1767' '1771' '1815' '1819'\n",
      " '1832' '1847' '1850s' '1854' '1859' '1870s' '1878' '1879' '1890' '1895'\n",
      " '1903' '1904' '1905' '1914' '1920s' '1921' '1922' '1936' '1939' '1940s'\n",
      " '1941' '1942' '1944' '1945' '1946' '1949' '1950s' '1953' '1956' '1957'\n",
      " '1960' '1963' '1970' '1980s' '1981' '1984' '1986' '1988' '1991' '2019'\n",
      " '2045' '28' '34' '451' '5th' '747' 'a.a._milne' 'a.s._byatt' 'a.w._wheen'\n",
      " 'aarons' 'ababa' 'abandoned' 'abbey' 'abby' 'abducted' 'abducts' 'abel'\n",
      " 'abernathy' 'abhorsen' 'abigail' 'abilities' 'ability' 'able'\n",
      " 'abnormality' 'abortion' 'abraham_verghese' 'abridged' 'absalom' 'absurd'\n",
      " 'abyss' 'accident' 'acclaimed' 'according' 'account' 'accounts' 'ace'\n",
      " 'acheron' 'achilles' 'achingly' 'ackroyd' 'activism' 'actually' 'adam'\n",
      " 'adam_long' 'adams' 'addiction' 'addie' 'addresses' 'ado']\n",
      "(993, 4360)\n"
     ]
    }
   ],
   "source": [
    "tfidf = TfidfVectorizer(analyzer = 'word',\n",
    "                        min_df=1,\n",
    "                        max_df = 0.99,\n",
    "                        stop_words=\"english\",\n",
    "                        encoding = 'utf-8', \n",
    "                        token_pattern=r\"(?u)\\S\\S+\")\n",
    "tfidf_encoding = tfidf.fit_transform(model_data[\"keywords\"])\n",
    "print(tfidf.get_feature_names_out()[1:100])\n",
    "print(tfidf_encoding.shape)"
   ]
  },
  {
   "cell_type": "code",
   "execution_count": 12,
   "id": "68c31f5b",
   "metadata": {},
   "outputs": [],
   "source": [
    "## Find most books with similar words in a given text query\n",
    "\n",
    "def comp_description(query, results_number=3):\n",
    "        results=[]\n",
    "        q_vector = tfidf.transform([query])\n",
    "        print(\"Comparable Description: \", query)\n",
    "        results.append(cosine_similarity(q_vector, tfidf_encoding.toarray()))\n",
    "        elem_list=[]\n",
    "        for i in results[:10]:\n",
    "            for elem in i[0]:\n",
    "                    #print(\"Review\",f, \"Similarity: \", elem)\n",
    "                    elem_list.append(elem)\n",
    "                    \n",
    "        for i in range(results_number):\n",
    "            print(\"Most relevant to the query is Book #\" ,elem_list.index(max(elem_list)))\n",
    "            print(\"Similarity: \", max(elem_list))\n",
    "            if sum(elem_list) / len(elem_list)==0.0:\n",
    "                print(\"No similar descriptions\")\n",
    "            else:\n",
    "                print(model_data['book_title'].loc[elem_list.index(max(elem_list)):elem_list.index(max(elem_list))], '\\n')\n",
    "                elem_list.pop(elem_list.index(max(elem_list)))"
   ]
  },
  {
   "cell_type": "code",
   "execution_count": 13,
   "id": "1fd2c497",
   "metadata": {},
   "outputs": [
    {
     "name": "stdout",
     "output_type": "stream",
     "text": [
      "Comparable Description:  I want to read a Jane Austen book that have Greek mythology components.\n",
      "Most relevant to the query is Book # 441\n",
      "Similarity:  0.41706009882167416\n",
      "441    northanger_abbey\n",
      "Name: book_title, dtype: object \n",
      "\n",
      "Most relevant to the query is Book # 559\n",
      "Similarity:  0.336002491326702\n",
      "559    city_of_glass\n",
      "Name: book_title, dtype: object \n",
      "\n",
      "Most relevant to the query is Book # 605\n",
      "Similarity:  0.3261794723240366\n",
      "605    lover_unbound\n",
      "Name: book_title, dtype: object \n",
      "\n"
     ]
    }
   ],
   "source": [
    "query = \"I want to read a Jane Austen book that have Greek mythology components.\"\n",
    "comp_description(query)"
   ]
  },
  {
   "cell_type": "code",
   "execution_count": 8,
   "id": "d63af031",
   "metadata": {},
   "outputs": [],
   "source": [
    "import pickle"
   ]
  },
  {
   "cell_type": "code",
   "execution_count": 10,
   "id": "514c7efc",
   "metadata": {},
   "outputs": [],
   "source": [
    "# save model\n",
    "with open('model.pickle', 'wb') as f:\n",
    "    pickle.dump(tfidf, f)"
   ]
  }
 ],
 "metadata": {
  "kernelspec": {
   "display_name": "Python 3 (ipykernel)",
   "language": "python",
   "name": "python3"
  },
  "language_info": {
   "codemirror_mode": {
    "name": "ipython",
    "version": 3
   },
   "file_extension": ".py",
   "mimetype": "text/x-python",
   "name": "python",
   "nbconvert_exporter": "python",
   "pygments_lexer": "ipython3",
   "version": "3.9.12"
  }
 },
 "nbformat": 4,
 "nbformat_minor": 5
}
